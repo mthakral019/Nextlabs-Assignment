{
 "cells": [
  {
   "cell_type": "code",
   "execution_count": 1,
   "id": "1ee8e042",
   "metadata": {},
   "outputs": [],
   "source": [
    "import numpy as np\n",
    "import pandas as pd"
   ]
  },
  {
   "cell_type": "code",
   "execution_count": 2,
   "id": "32595c53",
   "metadata": {},
   "outputs": [
    {
     "data": {
      "text/plain": [
       "'E:\\\\Projects'"
      ]
     },
     "execution_count": 2,
     "metadata": {},
     "output_type": "execute_result"
    }
   ],
   "source": [
    "pwd"
   ]
  },
  {
   "cell_type": "code",
   "execution_count": 11,
   "id": "8c8bec71",
   "metadata": {},
   "outputs": [],
   "source": [
    "data=pd.read_csv('browser_rankings_data.csv',skiprows=1,index_col=['ID'])"
   ]
  },
  {
   "cell_type": "code",
   "execution_count": 12,
   "id": "61fa4dbf",
   "metadata": {},
   "outputs": [
    {
     "data": {
      "text/html": [
       "<div>\n",
       "<style scoped>\n",
       "    .dataframe tbody tr th:only-of-type {\n",
       "        vertical-align: middle;\n",
       "    }\n",
       "\n",
       "    .dataframe tbody tr th {\n",
       "        vertical-align: top;\n",
       "    }\n",
       "\n",
       "    .dataframe thead th {\n",
       "        text-align: right;\n",
       "    }\n",
       "</style>\n",
       "<table border=\"1\" class=\"dataframe\">\n",
       "  <thead>\n",
       "    <tr style=\"text-align: right;\">\n",
       "      <th></th>\n",
       "      <th>Keyword</th>\n",
       "      <th>Rank</th>\n",
       "      <th>Country</th>\n",
       "      <th>Language</th>\n",
       "      <th>Date</th>\n",
       "      <th>App ID</th>\n",
       "      <th>Date of Last Description Change</th>\n",
       "      <th>Short Description</th>\n",
       "      <th>Long Description</th>\n",
       "    </tr>\n",
       "    <tr>\n",
       "      <th>ID</th>\n",
       "      <th></th>\n",
       "      <th></th>\n",
       "      <th></th>\n",
       "      <th></th>\n",
       "      <th></th>\n",
       "      <th></th>\n",
       "      <th></th>\n",
       "      <th></th>\n",
       "      <th></th>\n",
       "    </tr>\n",
       "  </thead>\n",
       "  <tbody>\n",
       "    <tr>\n",
       "      <th>1</th>\n",
       "      <td>browser</td>\n",
       "      <td>2.0</td>\n",
       "      <td>in</td>\n",
       "      <td>en</td>\n",
       "      <td>2020-12-16</td>\n",
       "      <td>net.fast.web.browser</td>\n",
       "      <td>2020-12-18</td>\n",
       "      <td>The small, fastest, secure Web Browser, best m...</td>\n",
       "      <td>One of the smallest, fastest, secure Web Brows...</td>\n",
       "    </tr>\n",
       "    <tr>\n",
       "      <th>2</th>\n",
       "      <td>browser</td>\n",
       "      <td>3.0</td>\n",
       "      <td>in</td>\n",
       "      <td>en</td>\n",
       "      <td>2020-12-16</td>\n",
       "      <td>com.android.chrome</td>\n",
       "      <td>2020-12-18</td>\n",
       "      <td>Fast, simple, and secure. Google Chrome browse...</td>\n",
       "      <td>Google Chrome is a fast, easy to use, and secu...</td>\n",
       "    </tr>\n",
       "    <tr>\n",
       "      <th>3</th>\n",
       "      <td>browser</td>\n",
       "      <td>4.0</td>\n",
       "      <td>in</td>\n",
       "      <td>en</td>\n",
       "      <td>2020-12-16</td>\n",
       "      <td>com.opera.browser</td>\n",
       "      <td>2021-02-27</td>\n",
       "      <td>Fast, safe web browser: free VPN, Ad blocker, ...</td>\n",
       "      <td>Fast, safe and private, introducing the latest...</td>\n",
       "    </tr>\n",
       "    <tr>\n",
       "      <th>3</th>\n",
       "      <td>browser</td>\n",
       "      <td>4.0</td>\n",
       "      <td>in</td>\n",
       "      <td>en</td>\n",
       "      <td>2020-12-16</td>\n",
       "      <td>com.opera.browser</td>\n",
       "      <td>2020-12-18</td>\n",
       "      <td>Fast, safe web browser: free VPN, Ad blocker, ...</td>\n",
       "      <td>Opera is a fast, safe web browser for your And...</td>\n",
       "    </tr>\n",
       "    <tr>\n",
       "      <th>4</th>\n",
       "      <td>browser</td>\n",
       "      <td>1.0</td>\n",
       "      <td>in</td>\n",
       "      <td>en</td>\n",
       "      <td>2020-12-16</td>\n",
       "      <td>com.cloudmosa.puffinTV</td>\n",
       "      <td>2021-02-07</td>\n",
       "      <td>Puffin TV Browser - One App to Watch All Video...</td>\n",
       "      <td>Puffin TV Browser is a special edition of Puff...</td>\n",
       "    </tr>\n",
       "    <tr>\n",
       "      <th>4</th>\n",
       "      <td>browser</td>\n",
       "      <td>1.0</td>\n",
       "      <td>in</td>\n",
       "      <td>en</td>\n",
       "      <td>2020-12-16</td>\n",
       "      <td>com.cloudmosa.puffinTV</td>\n",
       "      <td>2021-02-06</td>\n",
       "      <td>Puffin TV Browser - One App to Watch All Video...</td>\n",
       "      <td>Puffin TV Browser is a special edition of Puff...</td>\n",
       "    </tr>\n",
       "    <tr>\n",
       "      <th>4</th>\n",
       "      <td>browser</td>\n",
       "      <td>1.0</td>\n",
       "      <td>in</td>\n",
       "      <td>en</td>\n",
       "      <td>2020-12-16</td>\n",
       "      <td>com.cloudmosa.puffinTV</td>\n",
       "      <td>2021-01-21</td>\n",
       "      <td>Puffin TV Browser - One App to Watch All Video...</td>\n",
       "      <td>Puffin TV Browser is a special edition of Puff...</td>\n",
       "    </tr>\n",
       "    <tr>\n",
       "      <th>4</th>\n",
       "      <td>browser</td>\n",
       "      <td>1.0</td>\n",
       "      <td>in</td>\n",
       "      <td>en</td>\n",
       "      <td>2020-12-16</td>\n",
       "      <td>com.cloudmosa.puffinTV</td>\n",
       "      <td>2020-12-18</td>\n",
       "      <td>Puffin TV Browser - One App to Watch All Video...</td>\n",
       "      <td>Puffin TV Browser is a special edition of Puff...</td>\n",
       "    </tr>\n",
       "    <tr>\n",
       "      <th>5</th>\n",
       "      <td>android browser</td>\n",
       "      <td>11.0</td>\n",
       "      <td>in</td>\n",
       "      <td>en</td>\n",
       "      <td>2020-12-16</td>\n",
       "      <td>net.fast.web.browser</td>\n",
       "      <td>2020-12-18</td>\n",
       "      <td>The small, fastest, secure Web Browser, best m...</td>\n",
       "      <td>One of the smallest, fastest, secure Web Brows...</td>\n",
       "    </tr>\n",
       "    <tr>\n",
       "      <th>6</th>\n",
       "      <td>android browser</td>\n",
       "      <td>8.0</td>\n",
       "      <td>in</td>\n",
       "      <td>en</td>\n",
       "      <td>2020-12-16</td>\n",
       "      <td>com.android.chrome</td>\n",
       "      <td>2020-12-18</td>\n",
       "      <td>Fast, simple, and secure. Google Chrome browse...</td>\n",
       "      <td>Google Chrome is a fast, easy to use, and secu...</td>\n",
       "    </tr>\n",
       "  </tbody>\n",
       "</table>\n",
       "</div>"
      ],
      "text/plain": [
       "            Keyword  Rank Country Language        Date  \\\n",
       "ID                                                       \n",
       "1           browser   2.0      in       en  2020-12-16   \n",
       "2           browser   3.0      in       en  2020-12-16   \n",
       "3           browser   4.0      in       en  2020-12-16   \n",
       "3           browser   4.0      in       en  2020-12-16   \n",
       "4           browser   1.0      in       en  2020-12-16   \n",
       "4           browser   1.0      in       en  2020-12-16   \n",
       "4           browser   1.0      in       en  2020-12-16   \n",
       "4           browser   1.0      in       en  2020-12-16   \n",
       "5   android browser  11.0      in       en  2020-12-16   \n",
       "6   android browser   8.0      in       en  2020-12-16   \n",
       "\n",
       "                    App ID Date of Last Description Change  \\\n",
       "ID                                                           \n",
       "1     net.fast.web.browser                      2020-12-18   \n",
       "2       com.android.chrome                      2020-12-18   \n",
       "3        com.opera.browser                      2021-02-27   \n",
       "3        com.opera.browser                      2020-12-18   \n",
       "4   com.cloudmosa.puffinTV                      2021-02-07   \n",
       "4   com.cloudmosa.puffinTV                      2021-02-06   \n",
       "4   com.cloudmosa.puffinTV                      2021-01-21   \n",
       "4   com.cloudmosa.puffinTV                      2020-12-18   \n",
       "5     net.fast.web.browser                      2020-12-18   \n",
       "6       com.android.chrome                      2020-12-18   \n",
       "\n",
       "                                    Short Description  \\\n",
       "ID                                                      \n",
       "1   The small, fastest, secure Web Browser, best m...   \n",
       "2   Fast, simple, and secure. Google Chrome browse...   \n",
       "3   Fast, safe web browser: free VPN, Ad blocker, ...   \n",
       "3   Fast, safe web browser: free VPN, Ad blocker, ...   \n",
       "4   Puffin TV Browser - One App to Watch All Video...   \n",
       "4   Puffin TV Browser - One App to Watch All Video...   \n",
       "4   Puffin TV Browser - One App to Watch All Video...   \n",
       "4   Puffin TV Browser - One App to Watch All Video...   \n",
       "5   The small, fastest, secure Web Browser, best m...   \n",
       "6   Fast, simple, and secure. Google Chrome browse...   \n",
       "\n",
       "                                     Long Description  \n",
       "ID                                                     \n",
       "1   One of the smallest, fastest, secure Web Brows...  \n",
       "2   Google Chrome is a fast, easy to use, and secu...  \n",
       "3   Fast, safe and private, introducing the latest...  \n",
       "3   Opera is a fast, safe web browser for your And...  \n",
       "4   Puffin TV Browser is a special edition of Puff...  \n",
       "4   Puffin TV Browser is a special edition of Puff...  \n",
       "4   Puffin TV Browser is a special edition of Puff...  \n",
       "4   Puffin TV Browser is a special edition of Puff...  \n",
       "5   One of the smallest, fastest, secure Web Brows...  \n",
       "6   Google Chrome is a fast, easy to use, and secu...  "
      ]
     },
     "execution_count": 12,
     "metadata": {},
     "output_type": "execute_result"
    }
   ],
   "source": [
    "data.head(10)"
   ]
  },
  {
   "cell_type": "code",
   "execution_count": 16,
   "id": "e7e40e69",
   "metadata": {},
   "outputs": [
    {
     "name": "stdout",
     "output_type": "stream",
     "text": [
      "<class 'pandas.core.frame.DataFrame'>\n",
      "Int64Index: 3066 entries, 1 to 131576\n",
      "Data columns (total 9 columns):\n",
      " #   Column                           Non-Null Count  Dtype         \n",
      "---  ------                           --------------  -----         \n",
      " 0   Keyword                          3066 non-null   object        \n",
      " 1   Rank                             3050 non-null   float64       \n",
      " 2   Country                          3066 non-null   object        \n",
      " 3   Language                         3066 non-null   object        \n",
      " 4   Date                             3066 non-null   datetime64[ns]\n",
      " 5   App ID                           3066 non-null   object        \n",
      " 6   Date of Last Description Change  3066 non-null   object        \n",
      " 7   Short Description                3066 non-null   object        \n",
      " 8   Long Description                 3066 non-null   object        \n",
      "dtypes: datetime64[ns](1), float64(1), object(7)\n",
      "memory usage: 239.5+ KB\n"
     ]
    }
   ],
   "source": [
    "data.info()"
   ]
  },
  {
   "cell_type": "code",
   "execution_count": 14,
   "id": "6519edad",
   "metadata": {},
   "outputs": [],
   "source": [
    "data['Date']=pd.to_datetime(data['Date'])"
   ]
  },
  {
   "cell_type": "code",
   "execution_count": 17,
   "id": "2e0ca446",
   "metadata": {},
   "outputs": [
    {
     "data": {
      "text/plain": [
       "Keyword                             0\n",
       "Rank                               16\n",
       "Country                             0\n",
       "Language                            0\n",
       "Date                                0\n",
       "App ID                              0\n",
       "Date of Last Description Change     0\n",
       "Short Description                   0\n",
       "Long Description                    0\n",
       "dtype: int64"
      ]
     },
     "execution_count": 17,
     "metadata": {},
     "output_type": "execute_result"
    }
   ],
   "source": [
    "data.isnull().sum()"
   ]
  },
  {
   "cell_type": "code",
   "execution_count": 20,
   "id": "1508df98",
   "metadata": {},
   "outputs": [
    {
     "data": {
      "text/html": [
       "<div>\n",
       "<style scoped>\n",
       "    .dataframe tbody tr th:only-of-type {\n",
       "        vertical-align: middle;\n",
       "    }\n",
       "\n",
       "    .dataframe tbody tr th {\n",
       "        vertical-align: top;\n",
       "    }\n",
       "\n",
       "    .dataframe thead th {\n",
       "        text-align: right;\n",
       "    }\n",
       "</style>\n",
       "<table border=\"1\" class=\"dataframe\">\n",
       "  <thead>\n",
       "    <tr style=\"text-align: right;\">\n",
       "      <th></th>\n",
       "      <th>Keyword</th>\n",
       "      <th>Rank</th>\n",
       "      <th>Country</th>\n",
       "      <th>Language</th>\n",
       "      <th>Date</th>\n",
       "      <th>App ID</th>\n",
       "      <th>Date of Last Description Change</th>\n",
       "      <th>Short Description</th>\n",
       "      <th>Long Description</th>\n",
       "    </tr>\n",
       "    <tr>\n",
       "      <th>ID</th>\n",
       "      <th></th>\n",
       "      <th></th>\n",
       "      <th></th>\n",
       "      <th></th>\n",
       "      <th></th>\n",
       "      <th></th>\n",
       "      <th></th>\n",
       "      <th></th>\n",
       "      <th></th>\n",
       "    </tr>\n",
       "  </thead>\n",
       "  <tbody>\n",
       "    <tr>\n",
       "      <th>252</th>\n",
       "      <td>best privacy browsers</td>\n",
       "      <td>NaN</td>\n",
       "      <td>in</td>\n",
       "      <td>en</td>\n",
       "      <td>2020-12-19</td>\n",
       "      <td>com.vivaldi.browser</td>\n",
       "      <td>2020-12-18</td>\n",
       "      <td>Fast &amp;amp; private web browser with ad blocker...</td>\n",
       "      <td>Vivaldi is a new private web browser with an i...</td>\n",
       "    </tr>\n",
       "    <tr>\n",
       "      <th>419</th>\n",
       "      <td>privacy browser</td>\n",
       "      <td>NaN</td>\n",
       "      <td>in</td>\n",
       "      <td>en</td>\n",
       "      <td>2020-12-21</td>\n",
       "      <td>com.vivaldi.browser</td>\n",
       "      <td>2020-12-18</td>\n",
       "      <td>Fast &amp;amp; private web browser with ad blocker...</td>\n",
       "      <td>Vivaldi is a new private web browser with an i...</td>\n",
       "    </tr>\n",
       "    <tr>\n",
       "      <th>32507</th>\n",
       "      <td>fast browser</td>\n",
       "      <td>NaN</td>\n",
       "      <td>in</td>\n",
       "      <td>en</td>\n",
       "      <td>2021-01-14</td>\n",
       "      <td>com.vivaldi.browser</td>\n",
       "      <td>2020-12-18</td>\n",
       "      <td>Fast &amp;amp; private web browser with ad blocker...</td>\n",
       "      <td>Vivaldi is a new private web browser with an i...</td>\n",
       "    </tr>\n",
       "    <tr>\n",
       "      <th>63564</th>\n",
       "      <td>privacy browsers for android</td>\n",
       "      <td>NaN</td>\n",
       "      <td>in</td>\n",
       "      <td>en</td>\n",
       "      <td>2021-02-03</td>\n",
       "      <td>com.vivaldi.browser</td>\n",
       "      <td>2020-12-18</td>\n",
       "      <td>Fast &amp;amp; private web browser with ad blocker...</td>\n",
       "      <td>Vivaldi is a new private web browser with an i...</td>\n",
       "    </tr>\n",
       "    <tr>\n",
       "      <th>71790</th>\n",
       "      <td>best privacy browsers</td>\n",
       "      <td>NaN</td>\n",
       "      <td>in</td>\n",
       "      <td>en</td>\n",
       "      <td>2021-02-07</td>\n",
       "      <td>com.vivaldi.browser</td>\n",
       "      <td>2020-12-18</td>\n",
       "      <td>Fast &amp;amp; private web browser with ad blocker...</td>\n",
       "      <td>Vivaldi is a new private web browser with an i...</td>\n",
       "    </tr>\n",
       "    <tr>\n",
       "      <th>73877</th>\n",
       "      <td>best privacy browsers</td>\n",
       "      <td>NaN</td>\n",
       "      <td>in</td>\n",
       "      <td>en</td>\n",
       "      <td>2021-02-08</td>\n",
       "      <td>com.vivaldi.browser</td>\n",
       "      <td>2020-12-18</td>\n",
       "      <td>Fast &amp;amp; private web browser with ad blocker...</td>\n",
       "      <td>Vivaldi is a new private web browser with an i...</td>\n",
       "    </tr>\n",
       "    <tr>\n",
       "      <th>75963</th>\n",
       "      <td>best privacy browsers</td>\n",
       "      <td>NaN</td>\n",
       "      <td>in</td>\n",
       "      <td>en</td>\n",
       "      <td>2021-02-09</td>\n",
       "      <td>com.vivaldi.browser</td>\n",
       "      <td>2020-12-18</td>\n",
       "      <td>Fast &amp;amp; private web browser with ad blocker...</td>\n",
       "      <td>Vivaldi is a new private web browser with an i...</td>\n",
       "    </tr>\n",
       "    <tr>\n",
       "      <th>78197</th>\n",
       "      <td>privacy browsers for android</td>\n",
       "      <td>NaN</td>\n",
       "      <td>in</td>\n",
       "      <td>en</td>\n",
       "      <td>2021-02-10</td>\n",
       "      <td>com.vivaldi.browser</td>\n",
       "      <td>2020-12-18</td>\n",
       "      <td>Fast &amp;amp; private web browser with ad blocker...</td>\n",
       "      <td>Vivaldi is a new private web browser with an i...</td>\n",
       "    </tr>\n",
       "    <tr>\n",
       "      <th>78201</th>\n",
       "      <td>best privacy browsers</td>\n",
       "      <td>NaN</td>\n",
       "      <td>in</td>\n",
       "      <td>en</td>\n",
       "      <td>2021-02-10</td>\n",
       "      <td>com.vivaldi.browser</td>\n",
       "      <td>2020-12-18</td>\n",
       "      <td>Fast &amp;amp; private web browser with ad blocker...</td>\n",
       "      <td>Vivaldi is a new private web browser with an i...</td>\n",
       "    </tr>\n",
       "    <tr>\n",
       "      <th>82284</th>\n",
       "      <td>best privacy browsers</td>\n",
       "      <td>NaN</td>\n",
       "      <td>in</td>\n",
       "      <td>en</td>\n",
       "      <td>2021-02-12</td>\n",
       "      <td>com.vivaldi.browser</td>\n",
       "      <td>2020-12-18</td>\n",
       "      <td>Fast &amp;amp; private web browser with ad blocker...</td>\n",
       "      <td>Vivaldi is a new private web browser with an i...</td>\n",
       "    </tr>\n",
       "    <tr>\n",
       "      <th>84328</th>\n",
       "      <td>best privacy browsers</td>\n",
       "      <td>NaN</td>\n",
       "      <td>in</td>\n",
       "      <td>en</td>\n",
       "      <td>2021-02-13</td>\n",
       "      <td>com.vivaldi.browser</td>\n",
       "      <td>2020-12-18</td>\n",
       "      <td>Fast &amp;amp; private web browser with ad blocker...</td>\n",
       "      <td>Vivaldi is a new private web browser with an i...</td>\n",
       "    </tr>\n",
       "    <tr>\n",
       "      <th>86461</th>\n",
       "      <td>best privacy browsers</td>\n",
       "      <td>NaN</td>\n",
       "      <td>in</td>\n",
       "      <td>en</td>\n",
       "      <td>2021-02-14</td>\n",
       "      <td>com.vivaldi.browser</td>\n",
       "      <td>2020-12-18</td>\n",
       "      <td>Fast &amp;amp; private web browser with ad blocker...</td>\n",
       "      <td>Vivaldi is a new private web browser with an i...</td>\n",
       "    </tr>\n",
       "    <tr>\n",
       "      <th>88542</th>\n",
       "      <td>privacy browsers for android</td>\n",
       "      <td>NaN</td>\n",
       "      <td>in</td>\n",
       "      <td>en</td>\n",
       "      <td>2021-02-15</td>\n",
       "      <td>com.vivaldi.browser</td>\n",
       "      <td>2020-12-18</td>\n",
       "      <td>Fast &amp;amp; private web browser with ad blocker...</td>\n",
       "      <td>Vivaldi is a new private web browser with an i...</td>\n",
       "    </tr>\n",
       "    <tr>\n",
       "      <th>88546</th>\n",
       "      <td>best privacy browsers</td>\n",
       "      <td>NaN</td>\n",
       "      <td>in</td>\n",
       "      <td>en</td>\n",
       "      <td>2021-02-15</td>\n",
       "      <td>com.vivaldi.browser</td>\n",
       "      <td>2020-12-18</td>\n",
       "      <td>Fast &amp;amp; private web browser with ad blocker...</td>\n",
       "      <td>Vivaldi is a new private web browser with an i...</td>\n",
       "    </tr>\n",
       "    <tr>\n",
       "      <th>90680</th>\n",
       "      <td>privacy browsers for android</td>\n",
       "      <td>NaN</td>\n",
       "      <td>in</td>\n",
       "      <td>en</td>\n",
       "      <td>2021-02-16</td>\n",
       "      <td>com.vivaldi.browser</td>\n",
       "      <td>2020-12-18</td>\n",
       "      <td>Fast &amp;amp; private web browser with ad blocker...</td>\n",
       "      <td>Vivaldi is a new private web browser with an i...</td>\n",
       "    </tr>\n",
       "    <tr>\n",
       "      <th>119048</th>\n",
       "      <td>privacy browsers for android</td>\n",
       "      <td>NaN</td>\n",
       "      <td>in</td>\n",
       "      <td>en</td>\n",
       "      <td>2021-03-01</td>\n",
       "      <td>com.vivaldi.browser</td>\n",
       "      <td>2020-12-18</td>\n",
       "      <td>Fast &amp;amp; private web browser with ad blocker...</td>\n",
       "      <td>Vivaldi is a new private web browser with an i...</td>\n",
       "    </tr>\n",
       "  </tbody>\n",
       "</table>\n",
       "</div>"
      ],
      "text/plain": [
       "                             Keyword  Rank Country Language       Date  \\\n",
       "ID                                                                       \n",
       "252            best privacy browsers   NaN      in       en 2020-12-19   \n",
       "419                  privacy browser   NaN      in       en 2020-12-21   \n",
       "32507                   fast browser   NaN      in       en 2021-01-14   \n",
       "63564   privacy browsers for android   NaN      in       en 2021-02-03   \n",
       "71790          best privacy browsers   NaN      in       en 2021-02-07   \n",
       "73877          best privacy browsers   NaN      in       en 2021-02-08   \n",
       "75963          best privacy browsers   NaN      in       en 2021-02-09   \n",
       "78197   privacy browsers for android   NaN      in       en 2021-02-10   \n",
       "78201          best privacy browsers   NaN      in       en 2021-02-10   \n",
       "82284          best privacy browsers   NaN      in       en 2021-02-12   \n",
       "84328          best privacy browsers   NaN      in       en 2021-02-13   \n",
       "86461          best privacy browsers   NaN      in       en 2021-02-14   \n",
       "88542   privacy browsers for android   NaN      in       en 2021-02-15   \n",
       "88546          best privacy browsers   NaN      in       en 2021-02-15   \n",
       "90680   privacy browsers for android   NaN      in       en 2021-02-16   \n",
       "119048  privacy browsers for android   NaN      in       en 2021-03-01   \n",
       "\n",
       "                     App ID Date of Last Description Change  \\\n",
       "ID                                                            \n",
       "252     com.vivaldi.browser                      2020-12-18   \n",
       "419     com.vivaldi.browser                      2020-12-18   \n",
       "32507   com.vivaldi.browser                      2020-12-18   \n",
       "63564   com.vivaldi.browser                      2020-12-18   \n",
       "71790   com.vivaldi.browser                      2020-12-18   \n",
       "73877   com.vivaldi.browser                      2020-12-18   \n",
       "75963   com.vivaldi.browser                      2020-12-18   \n",
       "78197   com.vivaldi.browser                      2020-12-18   \n",
       "78201   com.vivaldi.browser                      2020-12-18   \n",
       "82284   com.vivaldi.browser                      2020-12-18   \n",
       "84328   com.vivaldi.browser                      2020-12-18   \n",
       "86461   com.vivaldi.browser                      2020-12-18   \n",
       "88542   com.vivaldi.browser                      2020-12-18   \n",
       "88546   com.vivaldi.browser                      2020-12-18   \n",
       "90680   com.vivaldi.browser                      2020-12-18   \n",
       "119048  com.vivaldi.browser                      2020-12-18   \n",
       "\n",
       "                                        Short Description  \\\n",
       "ID                                                          \n",
       "252     Fast &amp; private web browser with ad blocker...   \n",
       "419     Fast &amp; private web browser with ad blocker...   \n",
       "32507   Fast &amp; private web browser with ad blocker...   \n",
       "63564   Fast &amp; private web browser with ad blocker...   \n",
       "71790   Fast &amp; private web browser with ad blocker...   \n",
       "73877   Fast &amp; private web browser with ad blocker...   \n",
       "75963   Fast &amp; private web browser with ad blocker...   \n",
       "78197   Fast &amp; private web browser with ad blocker...   \n",
       "78201   Fast &amp; private web browser with ad blocker...   \n",
       "82284   Fast &amp; private web browser with ad blocker...   \n",
       "84328   Fast &amp; private web browser with ad blocker...   \n",
       "86461   Fast &amp; private web browser with ad blocker...   \n",
       "88542   Fast &amp; private web browser with ad blocker...   \n",
       "88546   Fast &amp; private web browser with ad blocker...   \n",
       "90680   Fast &amp; private web browser with ad blocker...   \n",
       "119048  Fast &amp; private web browser with ad blocker...   \n",
       "\n",
       "                                         Long Description  \n",
       "ID                                                         \n",
       "252     Vivaldi is a new private web browser with an i...  \n",
       "419     Vivaldi is a new private web browser with an i...  \n",
       "32507   Vivaldi is a new private web browser with an i...  \n",
       "63564   Vivaldi is a new private web browser with an i...  \n",
       "71790   Vivaldi is a new private web browser with an i...  \n",
       "73877   Vivaldi is a new private web browser with an i...  \n",
       "75963   Vivaldi is a new private web browser with an i...  \n",
       "78197   Vivaldi is a new private web browser with an i...  \n",
       "78201   Vivaldi is a new private web browser with an i...  \n",
       "82284   Vivaldi is a new private web browser with an i...  \n",
       "84328   Vivaldi is a new private web browser with an i...  \n",
       "86461   Vivaldi is a new private web browser with an i...  \n",
       "88542   Vivaldi is a new private web browser with an i...  \n",
       "88546   Vivaldi is a new private web browser with an i...  \n",
       "90680   Vivaldi is a new private web browser with an i...  \n",
       "119048  Vivaldi is a new private web browser with an i...  "
      ]
     },
     "execution_count": 20,
     "metadata": {},
     "output_type": "execute_result"
    }
   ],
   "source": [
    "data[data['Rank'].isnull()]"
   ]
  },
  {
   "cell_type": "code",
   "execution_count": 22,
   "id": "6b23cd7c",
   "metadata": {},
   "outputs": [],
   "source": [
    "data.dropna(inplace=True)"
   ]
  },
  {
   "cell_type": "code",
   "execution_count": 24,
   "id": "4685a212",
   "metadata": {},
   "outputs": [],
   "source": [
    "data['Rank']=data['Rank'].astype('int')"
   ]
  },
  {
   "cell_type": "code",
   "execution_count": 25,
   "id": "09e19574",
   "metadata": {},
   "outputs": [
    {
     "name": "stdout",
     "output_type": "stream",
     "text": [
      "<class 'pandas.core.frame.DataFrame'>\n",
      "Int64Index: 3050 entries, 1 to 131576\n",
      "Data columns (total 9 columns):\n",
      " #   Column                           Non-Null Count  Dtype         \n",
      "---  ------                           --------------  -----         \n",
      " 0   Keyword                          3050 non-null   object        \n",
      " 1   Rank                             3050 non-null   int32         \n",
      " 2   Country                          3050 non-null   object        \n",
      " 3   Language                         3050 non-null   object        \n",
      " 4   Date                             3050 non-null   datetime64[ns]\n",
      " 5   App ID                           3050 non-null   object        \n",
      " 6   Date of Last Description Change  3050 non-null   object        \n",
      " 7   Short Description                3050 non-null   object        \n",
      " 8   Long Description                 3050 non-null   object        \n",
      "dtypes: datetime64[ns](1), int32(1), object(7)\n",
      "memory usage: 226.4+ KB\n"
     ]
    }
   ],
   "source": [
    "data.info()"
   ]
  },
  {
   "cell_type": "code",
   "execution_count": 26,
   "id": "33c339fe",
   "metadata": {},
   "outputs": [
    {
     "data": {
      "text/plain": [
       "android browser                 608\n",
       "browser                         608\n",
       "ad free browser                 370\n",
       "fast browser                    369\n",
       "privacy browser                 369\n",
       "privacy browsers for android    365\n",
       "best privacy browsers           361\n",
       "Name: Keyword, dtype: int64"
      ]
     },
     "execution_count": 26,
     "metadata": {},
     "output_type": "execute_result"
    }
   ],
   "source": [
    "data['Keyword'].value_counts()"
   ]
  },
  {
   "cell_type": "code",
   "execution_count": 30,
   "id": "f1f9951d",
   "metadata": {},
   "outputs": [],
   "source": [
    "data.sort_values(by='Rank',inplace=True)"
   ]
  },
  {
   "cell_type": "code",
   "execution_count": 152,
   "id": "540a2794",
   "metadata": {},
   "outputs": [
    {
     "data": {
      "text/plain": [
       "119"
      ]
     },
     "execution_count": 152,
     "metadata": {},
     "output_type": "execute_result"
    }
   ],
   "source": [
    "data['Rank'].nunique()"
   ]
  },
  {
   "cell_type": "code",
   "execution_count": 132,
   "id": "11f9d5d0",
   "metadata": {},
   "outputs": [
    {
     "data": {
      "application/javascript": [
       "\n",
       "        if (window._pyforest_update_imports_cell) { window._pyforest_update_imports_cell('import matplotlib.pyplot as plt'); }\n",
       "    "
      ],
      "text/plain": [
       "<IPython.core.display.Javascript object>"
      ]
     },
     "metadata": {},
     "output_type": "display_data"
    },
    {
     "data": {
      "application/javascript": [
       "\n",
       "        if (window._pyforest_update_imports_cell) { window._pyforest_update_imports_cell('import matplotlib.pyplot as plt'); }\n",
       "    "
      ],
      "text/plain": [
       "<IPython.core.display.Javascript object>"
      ]
     },
     "metadata": {},
     "output_type": "display_data"
    },
    {
     "data": {
      "application/javascript": [
       "\n",
       "        if (window._pyforest_update_imports_cell) { window._pyforest_update_imports_cell('import matplotlib.pyplot as plt'); }\n",
       "    "
      ],
      "text/plain": [
       "<IPython.core.display.Javascript object>"
      ]
     },
     "metadata": {},
     "output_type": "display_data"
    },
    {
     "data": {
      "application/javascript": [
       "\n",
       "        if (window._pyforest_update_imports_cell) { window._pyforest_update_imports_cell('import matplotlib.pyplot as plt'); }\n",
       "    "
      ],
      "text/plain": [
       "<IPython.core.display.Javascript object>"
      ]
     },
     "metadata": {},
     "output_type": "display_data"
    },
    {
     "data": {
      "application/javascript": [
       "\n",
       "        if (window._pyforest_update_imports_cell) { window._pyforest_update_imports_cell('import matplotlib.pyplot as plt'); }\n",
       "    "
      ],
      "text/plain": [
       "<IPython.core.display.Javascript object>"
      ]
     },
     "metadata": {},
     "output_type": "display_data"
    },
    {
     "data": {
      "application/javascript": [
       "\n",
       "        if (window._pyforest_update_imports_cell) { window._pyforest_update_imports_cell('import matplotlib.pyplot as plt'); }\n",
       "    "
      ],
      "text/plain": [
       "<IPython.core.display.Javascript object>"
      ]
     },
     "metadata": {},
     "output_type": "display_data"
    },
    {
     "data": {
      "application/javascript": [
       "\n",
       "        if (window._pyforest_update_imports_cell) { window._pyforest_update_imports_cell('import matplotlib.pyplot as plt'); }\n",
       "    "
      ],
      "text/plain": [
       "<IPython.core.display.Javascript object>"
      ]
     },
     "metadata": {},
     "output_type": "display_data"
    },
    {
     "data": {
      "application/javascript": [
       "\n",
       "        if (window._pyforest_update_imports_cell) { window._pyforest_update_imports_cell('import matplotlib.pyplot as plt'); }\n",
       "    "
      ],
      "text/plain": [
       "<IPython.core.display.Javascript object>"
      ]
     },
     "metadata": {},
     "output_type": "display_data"
    },
    {
     "data": {
      "application/javascript": [
       "\n",
       "        if (window._pyforest_update_imports_cell) { window._pyforest_update_imports_cell('import matplotlib.pyplot as plt'); }\n",
       "    "
      ],
      "text/plain": [
       "<IPython.core.display.Javascript object>"
      ]
     },
     "metadata": {},
     "output_type": "display_data"
    },
    {
     "data": {
      "application/javascript": [
       "\n",
       "        if (window._pyforest_update_imports_cell) { window._pyforest_update_imports_cell('import matplotlib.pyplot as plt'); }\n",
       "    "
      ],
      "text/plain": [
       "<IPython.core.display.Javascript object>"
      ]
     },
     "metadata": {},
     "output_type": "display_data"
    },
    {
     "data": {
      "application/javascript": [
       "\n",
       "        if (window._pyforest_update_imports_cell) { window._pyforest_update_imports_cell('import matplotlib.pyplot as plt'); }\n",
       "    "
      ],
      "text/plain": [
       "<IPython.core.display.Javascript object>"
      ]
     },
     "metadata": {},
     "output_type": "display_data"
    },
    {
     "data": {
      "application/javascript": [
       "\n",
       "        if (window._pyforest_update_imports_cell) { window._pyforest_update_imports_cell('import matplotlib.pyplot as plt'); }\n",
       "    "
      ],
      "text/plain": [
       "<IPython.core.display.Javascript object>"
      ]
     },
     "metadata": {},
     "output_type": "display_data"
    },
    {
     "data": {
      "application/javascript": [
       "\n",
       "        if (window._pyforest_update_imports_cell) { window._pyforest_update_imports_cell('import matplotlib.pyplot as plt'); }\n",
       "    "
      ],
      "text/plain": [
       "<IPython.core.display.Javascript object>"
      ]
     },
     "metadata": {},
     "output_type": "display_data"
    },
    {
     "data": {
      "application/javascript": [
       "\n",
       "        if (window._pyforest_update_imports_cell) { window._pyforest_update_imports_cell('import matplotlib.pyplot as plt'); }\n",
       "    "
      ],
      "text/plain": [
       "<IPython.core.display.Javascript object>"
      ]
     },
     "metadata": {},
     "output_type": "display_data"
    },
    {
     "data": {
      "application/javascript": [
       "\n",
       "        if (window._pyforest_update_imports_cell) { window._pyforest_update_imports_cell('import matplotlib.pyplot as plt'); }\n",
       "    "
      ],
      "text/plain": [
       "<IPython.core.display.Javascript object>"
      ]
     },
     "metadata": {},
     "output_type": "display_data"
    },
    {
     "data": {
      "application/javascript": [
       "\n",
       "        if (window._pyforest_update_imports_cell) { window._pyforest_update_imports_cell('import matplotlib.pyplot as plt'); }\n",
       "    "
      ],
      "text/plain": [
       "<IPython.core.display.Javascript object>"
      ]
     },
     "metadata": {},
     "output_type": "display_data"
    },
    {
     "data": {
      "application/javascript": [
       "\n",
       "        if (window._pyforest_update_imports_cell) { window._pyforest_update_imports_cell('import matplotlib.pyplot as plt'); }\n",
       "    "
      ],
      "text/plain": [
       "<IPython.core.display.Javascript object>"
      ]
     },
     "metadata": {},
     "output_type": "display_data"
    },
    {
     "data": {
      "application/javascript": [
       "\n",
       "        if (window._pyforest_update_imports_cell) { window._pyforest_update_imports_cell('import matplotlib.pyplot as plt'); }\n",
       "    "
      ],
      "text/plain": [
       "<IPython.core.display.Javascript object>"
      ]
     },
     "metadata": {},
     "output_type": "display_data"
    },
    {
     "data": {
      "application/javascript": [
       "\n",
       "        if (window._pyforest_update_imports_cell) { window._pyforest_update_imports_cell('import matplotlib.pyplot as plt'); }\n",
       "    "
      ],
      "text/plain": [
       "<IPython.core.display.Javascript object>"
      ]
     },
     "metadata": {},
     "output_type": "display_data"
    },
    {
     "data": {
      "application/javascript": [
       "\n",
       "        if (window._pyforest_update_imports_cell) { window._pyforest_update_imports_cell('import matplotlib.pyplot as plt'); }\n",
       "    "
      ],
      "text/plain": [
       "<IPython.core.display.Javascript object>"
      ]
     },
     "metadata": {},
     "output_type": "display_data"
    },
    {
     "data": {
      "application/javascript": [
       "\n",
       "        if (window._pyforest_update_imports_cell) { window._pyforest_update_imports_cell('import matplotlib.pyplot as plt'); }\n",
       "    "
      ],
      "text/plain": [
       "<IPython.core.display.Javascript object>"
      ]
     },
     "metadata": {},
     "output_type": "display_data"
    },
    {
     "data": {
      "application/javascript": [
       "\n",
       "        if (window._pyforest_update_imports_cell) { window._pyforest_update_imports_cell('import matplotlib.pyplot as plt'); }\n",
       "    "
      ],
      "text/plain": [
       "<IPython.core.display.Javascript object>"
      ]
     },
     "metadata": {},
     "output_type": "display_data"
    },
    {
     "data": {
      "application/javascript": [
       "\n",
       "        if (window._pyforest_update_imports_cell) { window._pyforest_update_imports_cell('import matplotlib.pyplot as plt'); }\n",
       "    "
      ],
      "text/plain": [
       "<IPython.core.display.Javascript object>"
      ]
     },
     "metadata": {},
     "output_type": "display_data"
    },
    {
     "data": {
      "application/javascript": [
       "\n",
       "        if (window._pyforest_update_imports_cell) { window._pyforest_update_imports_cell('import matplotlib.pyplot as plt'); }\n",
       "    "
      ],
      "text/plain": [
       "<IPython.core.display.Javascript object>"
      ]
     },
     "metadata": {},
     "output_type": "display_data"
    },
    {
     "data": {
      "application/javascript": [
       "\n",
       "        if (window._pyforest_update_imports_cell) { window._pyforest_update_imports_cell('import matplotlib.pyplot as plt'); }\n",
       "    "
      ],
      "text/plain": [
       "<IPython.core.display.Javascript object>"
      ]
     },
     "metadata": {},
     "output_type": "display_data"
    },
    {
     "data": {
      "application/javascript": [
       "\n",
       "        if (window._pyforest_update_imports_cell) { window._pyforest_update_imports_cell('import matplotlib.pyplot as plt'); }\n",
       "    "
      ],
      "text/plain": [
       "<IPython.core.display.Javascript object>"
      ]
     },
     "metadata": {},
     "output_type": "display_data"
    },
    {
     "data": {
      "application/javascript": [
       "\n",
       "        if (window._pyforest_update_imports_cell) { window._pyforest_update_imports_cell('import matplotlib.pyplot as plt'); }\n",
       "    "
      ],
      "text/plain": [
       "<IPython.core.display.Javascript object>"
      ]
     },
     "metadata": {},
     "output_type": "display_data"
    },
    {
     "data": {
      "application/javascript": [
       "\n",
       "        if (window._pyforest_update_imports_cell) { window._pyforest_update_imports_cell('import matplotlib.pyplot as plt'); }\n",
       "    "
      ],
      "text/plain": [
       "<IPython.core.display.Javascript object>"
      ]
     },
     "metadata": {},
     "output_type": "display_data"
    },
    {
     "data": {
      "application/javascript": [
       "\n",
       "        if (window._pyforest_update_imports_cell) { window._pyforest_update_imports_cell('import matplotlib.pyplot as plt'); }\n",
       "    "
      ],
      "text/plain": [
       "<IPython.core.display.Javascript object>"
      ]
     },
     "metadata": {},
     "output_type": "display_data"
    },
    {
     "data": {
      "application/javascript": [
       "\n",
       "        if (window._pyforest_update_imports_cell) { window._pyforest_update_imports_cell('import matplotlib.pyplot as plt'); }\n",
       "    "
      ],
      "text/plain": [
       "<IPython.core.display.Javascript object>"
      ]
     },
     "metadata": {},
     "output_type": "display_data"
    },
    {
     "data": {
      "application/javascript": [
       "\n",
       "        if (window._pyforest_update_imports_cell) { window._pyforest_update_imports_cell('import matplotlib.pyplot as plt'); }\n",
       "    "
      ],
      "text/plain": [
       "<IPython.core.display.Javascript object>"
      ]
     },
     "metadata": {},
     "output_type": "display_data"
    },
    {
     "data": {
      "application/javascript": [
       "\n",
       "        if (window._pyforest_update_imports_cell) { window._pyforest_update_imports_cell('import matplotlib.pyplot as plt'); }\n",
       "    "
      ],
      "text/plain": [
       "<IPython.core.display.Javascript object>"
      ]
     },
     "metadata": {},
     "output_type": "display_data"
    },
    {
     "data": {
      "application/javascript": [
       "\n",
       "        if (window._pyforest_update_imports_cell) { window._pyforest_update_imports_cell('import matplotlib.pyplot as plt'); }\n",
       "    "
      ],
      "text/plain": [
       "<IPython.core.display.Javascript object>"
      ]
     },
     "metadata": {},
     "output_type": "display_data"
    },
    {
     "data": {
      "application/javascript": [
       "\n",
       "        if (window._pyforest_update_imports_cell) { window._pyforest_update_imports_cell('import matplotlib.pyplot as plt'); }\n",
       "    "
      ],
      "text/plain": [
       "<IPython.core.display.Javascript object>"
      ]
     },
     "metadata": {},
     "output_type": "display_data"
    },
    {
     "data": {
      "application/javascript": [
       "\n",
       "        if (window._pyforest_update_imports_cell) { window._pyforest_update_imports_cell('import matplotlib.pyplot as plt'); }\n",
       "    "
      ],
      "text/plain": [
       "<IPython.core.display.Javascript object>"
      ]
     },
     "metadata": {},
     "output_type": "display_data"
    },
    {
     "data": {
      "application/javascript": [
       "\n",
       "        if (window._pyforest_update_imports_cell) { window._pyforest_update_imports_cell('import matplotlib.pyplot as plt'); }\n",
       "    "
      ],
      "text/plain": [
       "<IPython.core.display.Javascript object>"
      ]
     },
     "metadata": {},
     "output_type": "display_data"
    },
    {
     "data": {
      "application/javascript": [
       "\n",
       "        if (window._pyforest_update_imports_cell) { window._pyforest_update_imports_cell('import matplotlib.pyplot as plt'); }\n",
       "    "
      ],
      "text/plain": [
       "<IPython.core.display.Javascript object>"
      ]
     },
     "metadata": {},
     "output_type": "display_data"
    },
    {
     "data": {
      "application/javascript": [
       "\n",
       "        if (window._pyforest_update_imports_cell) { window._pyforest_update_imports_cell('import matplotlib.pyplot as plt'); }\n",
       "    "
      ],
      "text/plain": [
       "<IPython.core.display.Javascript object>"
      ]
     },
     "metadata": {},
     "output_type": "display_data"
    },
    {
     "data": {
      "application/javascript": [
       "\n",
       "        if (window._pyforest_update_imports_cell) { window._pyforest_update_imports_cell('import matplotlib.pyplot as plt'); }\n",
       "    "
      ],
      "text/plain": [
       "<IPython.core.display.Javascript object>"
      ]
     },
     "metadata": {},
     "output_type": "display_data"
    },
    {
     "data": {
      "application/javascript": [
       "\n",
       "        if (window._pyforest_update_imports_cell) { window._pyforest_update_imports_cell('import matplotlib.pyplot as plt'); }\n",
       "    "
      ],
      "text/plain": [
       "<IPython.core.display.Javascript object>"
      ]
     },
     "metadata": {},
     "output_type": "display_data"
    },
    {
     "data": {
      "application/javascript": [
       "\n",
       "        if (window._pyforest_update_imports_cell) { window._pyforest_update_imports_cell('import matplotlib.pyplot as plt'); }\n",
       "    "
      ],
      "text/plain": [
       "<IPython.core.display.Javascript object>"
      ]
     },
     "metadata": {},
     "output_type": "display_data"
    },
    {
     "data": {
      "application/javascript": [
       "\n",
       "        if (window._pyforest_update_imports_cell) { window._pyforest_update_imports_cell('import matplotlib.pyplot as plt'); }\n",
       "    "
      ],
      "text/plain": [
       "<IPython.core.display.Javascript object>"
      ]
     },
     "metadata": {},
     "output_type": "display_data"
    },
    {
     "data": {
      "application/javascript": [
       "\n",
       "        if (window._pyforest_update_imports_cell) { window._pyforest_update_imports_cell('import matplotlib.pyplot as plt'); }\n",
       "    "
      ],
      "text/plain": [
       "<IPython.core.display.Javascript object>"
      ]
     },
     "metadata": {},
     "output_type": "display_data"
    },
    {
     "data": {
      "application/javascript": [
       "\n",
       "        if (window._pyforest_update_imports_cell) { window._pyforest_update_imports_cell('import matplotlib.pyplot as plt'); }\n",
       "    "
      ],
      "text/plain": [
       "<IPython.core.display.Javascript object>"
      ]
     },
     "metadata": {},
     "output_type": "display_data"
    },
    {
     "data": {
      "application/javascript": [
       "\n",
       "        if (window._pyforest_update_imports_cell) { window._pyforest_update_imports_cell('import matplotlib.pyplot as plt'); }\n",
       "    "
      ],
      "text/plain": [
       "<IPython.core.display.Javascript object>"
      ]
     },
     "metadata": {},
     "output_type": "display_data"
    },
    {
     "data": {
      "application/javascript": [
       "\n",
       "        if (window._pyforest_update_imports_cell) { window._pyforest_update_imports_cell('import matplotlib.pyplot as plt'); }\n",
       "    "
      ],
      "text/plain": [
       "<IPython.core.display.Javascript object>"
      ]
     },
     "metadata": {},
     "output_type": "display_data"
    },
    {
     "data": {
      "application/javascript": [
       "\n",
       "        if (window._pyforest_update_imports_cell) { window._pyforest_update_imports_cell('import matplotlib.pyplot as plt'); }\n",
       "    "
      ],
      "text/plain": [
       "<IPython.core.display.Javascript object>"
      ]
     },
     "metadata": {},
     "output_type": "display_data"
    },
    {
     "data": {
      "application/javascript": [
       "\n",
       "        if (window._pyforest_update_imports_cell) { window._pyforest_update_imports_cell('import matplotlib.pyplot as plt'); }\n",
       "    "
      ],
      "text/plain": [
       "<IPython.core.display.Javascript object>"
      ]
     },
     "metadata": {},
     "output_type": "display_data"
    },
    {
     "data": {
      "application/javascript": [
       "\n",
       "        if (window._pyforest_update_imports_cell) { window._pyforest_update_imports_cell('import matplotlib.pyplot as plt'); }\n",
       "    "
      ],
      "text/plain": [
       "<IPython.core.display.Javascript object>"
      ]
     },
     "metadata": {},
     "output_type": "display_data"
    },
    {
     "data": {
      "application/javascript": [
       "\n",
       "        if (window._pyforest_update_imports_cell) { window._pyforest_update_imports_cell('import matplotlib.pyplot as plt'); }\n",
       "    "
      ],
      "text/plain": [
       "<IPython.core.display.Javascript object>"
      ]
     },
     "metadata": {},
     "output_type": "display_data"
    },
    {
     "data": {
      "application/javascript": [
       "\n",
       "        if (window._pyforest_update_imports_cell) { window._pyforest_update_imports_cell('import matplotlib.pyplot as plt'); }\n",
       "    "
      ],
      "text/plain": [
       "<IPython.core.display.Javascript object>"
      ]
     },
     "metadata": {},
     "output_type": "display_data"
    },
    {
     "data": {
      "application/javascript": [
       "\n",
       "        if (window._pyforest_update_imports_cell) { window._pyforest_update_imports_cell('import matplotlib.pyplot as plt'); }\n",
       "    "
      ],
      "text/plain": [
       "<IPython.core.display.Javascript object>"
      ]
     },
     "metadata": {},
     "output_type": "display_data"
    },
    {
     "data": {
      "application/javascript": [
       "\n",
       "        if (window._pyforest_update_imports_cell) { window._pyforest_update_imports_cell('import matplotlib.pyplot as plt'); }\n",
       "    "
      ],
      "text/plain": [
       "<IPython.core.display.Javascript object>"
      ]
     },
     "metadata": {},
     "output_type": "display_data"
    },
    {
     "data": {
      "image/png": "[encoded data removed]",
      "text/plain": [
       "<Figure size 1584x1440 with 10 Axes>"
      ]
     },
     "metadata": {
      "needs_background": "light"
     },
     "output_type": "display_data"
    }
   ],
   "source": [
    "plt.figure(figsize=(22,20))\n",
    "for i,rank in enumerate(range(1,11)):\n",
    "    keys=[]\n",
    "    values=[]\n",
    "    for k,v in data[data['Rank']==rank]['Keyword'].value_counts().items():\n",
    "        keys.append(k)\n",
    "        values.append(v)\n",
    "    ax=plt.subplot(5,2,i+1,ymargin=0.5)\n",
    "    plt.suptitle('Keywords in top 10 ranks.',fontsize=24)\n",
    "    ax.bar(keys,values,color='#ec838a')\n",
    "    ax.set_title(f'Rank:{rank}',fontsize=12)\n",
    "    plt.yticks([])\n",
    "    plt.xlabel('Keyword')\n",
    "    plt.ylabel('Frequency')\n",
    "plt.tight_layout()\n",
    "plt.show()"
   ]
  },
  {
   "cell_type": "code",
   "execution_count": 140,
   "id": "2e2415fd",
   "metadata": {},
   "outputs": [
    {
     "data": {
      "application/javascript": [
       "\n",
       "        if (window._pyforest_update_imports_cell) { window._pyforest_update_imports_cell('import matplotlib.pyplot as plt'); }\n",
       "    "
      ],
      "text/plain": [
       "<IPython.core.display.Javascript object>"
      ]
     },
     "metadata": {},
     "output_type": "display_data"
    },
    {
     "data": {
      "application/javascript": [
       "\n",
       "        if (window._pyforest_update_imports_cell) { window._pyforest_update_imports_cell('import matplotlib.pyplot as plt'); }\n",
       "    "
      ],
      "text/plain": [
       "<IPython.core.display.Javascript object>"
      ]
     },
     "metadata": {},
     "output_type": "display_data"
    },
    {
     "data": {
      "application/javascript": [
       "\n",
       "        if (window._pyforest_update_imports_cell) { window._pyforest_update_imports_cell('import matplotlib.pyplot as plt'); }\n",
       "    "
      ],
      "text/plain": [
       "<IPython.core.display.Javascript object>"
      ]
     },
     "metadata": {},
     "output_type": "display_data"
    },
    {
     "data": {
      "application/javascript": [
       "\n",
       "        if (window._pyforest_update_imports_cell) { window._pyforest_update_imports_cell('import matplotlib.pyplot as plt'); }\n",
       "    "
      ],
      "text/plain": [
       "<IPython.core.display.Javascript object>"
      ]
     },
     "metadata": {},
     "output_type": "display_data"
    },
    {
     "data": {
      "application/javascript": [
       "\n",
       "        if (window._pyforest_update_imports_cell) { window._pyforest_update_imports_cell('import matplotlib.pyplot as plt'); }\n",
       "    "
      ],
      "text/plain": [
       "<IPython.core.display.Javascript object>"
      ]
     },
     "metadata": {},
     "output_type": "display_data"
    },
    {
     "data": {
      "application/javascript": [
       "\n",
       "        if (window._pyforest_update_imports_cell) { window._pyforest_update_imports_cell('import matplotlib.pyplot as plt'); }\n",
       "    "
      ],
      "text/plain": [
       "<IPython.core.display.Javascript object>"
      ]
     },
     "metadata": {},
     "output_type": "display_data"
    },
    {
     "data": {
      "application/javascript": [
       "\n",
       "        if (window._pyforest_update_imports_cell) { window._pyforest_update_imports_cell('import matplotlib.pyplot as plt'); }\n",
       "    "
      ],
      "text/plain": [
       "<IPython.core.display.Javascript object>"
      ]
     },
     "metadata": {},
     "output_type": "display_data"
    },
    {
     "data": {
      "application/javascript": [
       "\n",
       "        if (window._pyforest_update_imports_cell) { window._pyforest_update_imports_cell('import matplotlib.pyplot as plt'); }\n",
       "    "
      ],
      "text/plain": [
       "<IPython.core.display.Javascript object>"
      ]
     },
     "metadata": {},
     "output_type": "display_data"
    },
    {
     "data": {
      "application/javascript": [
       "\n",
       "        if (window._pyforest_update_imports_cell) { window._pyforest_update_imports_cell('import matplotlib.pyplot as plt'); }\n",
       "    "
      ],
      "text/plain": [
       "<IPython.core.display.Javascript object>"
      ]
     },
     "metadata": {},
     "output_type": "display_data"
    },
    {
     "data": {
      "application/javascript": [
       "\n",
       "        if (window._pyforest_update_imports_cell) { window._pyforest_update_imports_cell('import matplotlib.pyplot as plt'); }\n",
       "    "
      ],
      "text/plain": [
       "<IPython.core.display.Javascript object>"
      ]
     },
     "metadata": {},
     "output_type": "display_data"
    },
    {
     "data": {
      "application/javascript": [
       "\n",
       "        if (window._pyforest_update_imports_cell) { window._pyforest_update_imports_cell('import matplotlib.pyplot as plt'); }\n",
       "    "
      ],
      "text/plain": [
       "<IPython.core.display.Javascript object>"
      ]
     },
     "metadata": {},
     "output_type": "display_data"
    },
    {
     "data": {
      "application/javascript": [
       "\n",
       "        if (window._pyforest_update_imports_cell) { window._pyforest_update_imports_cell('import matplotlib.pyplot as plt'); }\n",
       "    "
      ],
      "text/plain": [
       "<IPython.core.display.Javascript object>"
      ]
     },
     "metadata": {},
     "output_type": "display_data"
    },
    {
     "data": {
      "application/javascript": [
       "\n",
       "        if (window._pyforest_update_imports_cell) { window._pyforest_update_imports_cell('import matplotlib.pyplot as plt'); }\n",
       "    "
      ],
      "text/plain": [
       "<IPython.core.display.Javascript object>"
      ]
     },
     "metadata": {},
     "output_type": "display_data"
    },
    {
     "data": {
      "application/javascript": [
       "\n",
       "        if (window._pyforest_update_imports_cell) { window._pyforest_update_imports_cell('import matplotlib.pyplot as plt'); }\n",
       "    "
      ],
      "text/plain": [
       "<IPython.core.display.Javascript object>"
      ]
     },
     "metadata": {},
     "output_type": "display_data"
    },
    {
     "data": {
      "application/javascript": [
       "\n",
       "        if (window._pyforest_update_imports_cell) { window._pyforest_update_imports_cell('import matplotlib.pyplot as plt'); }\n",
       "    "
      ],
      "text/plain": [
       "<IPython.core.display.Javascript object>"
      ]
     },
     "metadata": {},
     "output_type": "display_data"
    },
    {
     "data": {
      "application/javascript": [
       "\n",
       "        if (window._pyforest_update_imports_cell) { window._pyforest_update_imports_cell('import matplotlib.pyplot as plt'); }\n",
       "    "
      ],
      "text/plain": [
       "<IPython.core.display.Javascript object>"
      ]
     },
     "metadata": {},
     "output_type": "display_data"
    },
    {
     "data": {
      "application/javascript": [
       "\n",
       "        if (window._pyforest_update_imports_cell) { window._pyforest_update_imports_cell('import matplotlib.pyplot as plt'); }\n",
       "    "
      ],
      "text/plain": [
       "<IPython.core.display.Javascript object>"
      ]
     },
     "metadata": {},
     "output_type": "display_data"
    },
    {
     "data": {
      "application/javascript": [
       "\n",
       "        if (window._pyforest_update_imports_cell) { window._pyforest_update_imports_cell('import matplotlib.pyplot as plt'); }\n",
       "    "
      ],
      "text/plain": [
       "<IPython.core.display.Javascript object>"
      ]
     },
     "metadata": {},
     "output_type": "display_data"
    },
    {
     "data": {
      "application/javascript": [
       "\n",
       "        if (window._pyforest_update_imports_cell) { window._pyforest_update_imports_cell('import matplotlib.pyplot as plt'); }\n",
       "    "
      ],
      "text/plain": [
       "<IPython.core.display.Javascript object>"
      ]
     },
     "metadata": {},
     "output_type": "display_data"
    },
    {
     "data": {
      "application/javascript": [
       "\n",
       "        if (window._pyforest_update_imports_cell) { window._pyforest_update_imports_cell('import matplotlib.pyplot as plt'); }\n",
       "    "
      ],
      "text/plain": [
       "<IPython.core.display.Javascript object>"
      ]
     },
     "metadata": {},
     "output_type": "display_data"
    },
    {
     "data": {
      "application/javascript": [
       "\n",
       "        if (window._pyforest_update_imports_cell) { window._pyforest_update_imports_cell('import matplotlib.pyplot as plt'); }\n",
       "    "
      ],
      "text/plain": [
       "<IPython.core.display.Javascript object>"
      ]
     },
     "metadata": {},
     "output_type": "display_data"
    },
    {
     "data": {
      "application/javascript": [
       "\n",
       "        if (window._pyforest_update_imports_cell) { window._pyforest_update_imports_cell('import matplotlib.pyplot as plt'); }\n",
       "    "
      ],
      "text/plain": [
       "<IPython.core.display.Javascript object>"
      ]
     },
     "metadata": {},
     "output_type": "display_data"
    },
    {
     "data": {
      "application/javascript": [
       "\n",
       "        if (window._pyforest_update_imports_cell) { window._pyforest_update_imports_cell('import matplotlib.pyplot as plt'); }\n",
       "    "
      ],
      "text/plain": [
       "<IPython.core.display.Javascript object>"
      ]
     },
     "metadata": {},
     "output_type": "display_data"
    },
    {
     "data": {
      "application/javascript": [
       "\n",
       "        if (window._pyforest_update_imports_cell) { window._pyforest_update_imports_cell('import matplotlib.pyplot as plt'); }\n",
       "    "
      ],
      "text/plain": [
       "<IPython.core.display.Javascript object>"
      ]
     },
     "metadata": {},
     "output_type": "display_data"
    },
    {
     "data": {
      "application/javascript": [
       "\n",
       "        if (window._pyforest_update_imports_cell) { window._pyforest_update_imports_cell('import matplotlib.pyplot as plt'); }\n",
       "    "
      ],
      "text/plain": [
       "<IPython.core.display.Javascript object>"
      ]
     },
     "metadata": {},
     "output_type": "display_data"
    },
    {
     "data": {
      "application/javascript": [
       "\n",
       "        if (window._pyforest_update_imports_cell) { window._pyforest_update_imports_cell('import matplotlib.pyplot as plt'); }\n",
       "    "
      ],
      "text/plain": [
       "<IPython.core.display.Javascript object>"
      ]
     },
     "metadata": {},
     "output_type": "display_data"
    },
    {
     "data": {
      "application/javascript": [
       "\n",
       "        if (window._pyforest_update_imports_cell) { window._pyforest_update_imports_cell('import matplotlib.pyplot as plt'); }\n",
       "    "
      ],
      "text/plain": [
       "<IPython.core.display.Javascript object>"
      ]
     },
     "metadata": {},
     "output_type": "display_data"
    },
    {
     "data": {
      "application/javascript": [
       "\n",
       "        if (window._pyforest_update_imports_cell) { window._pyforest_update_imports_cell('import matplotlib.pyplot as plt'); }\n",
       "    "
      ],
      "text/plain": [
       "<IPython.core.display.Javascript object>"
      ]
     },
     "metadata": {},
     "output_type": "display_data"
    },
    {
     "data": {
      "application/javascript": [
       "\n",
       "        if (window._pyforest_update_imports_cell) { window._pyforest_update_imports_cell('import matplotlib.pyplot as plt'); }\n",
       "    "
      ],
      "text/plain": [
       "<IPython.core.display.Javascript object>"
      ]
     },
     "metadata": {},
     "output_type": "display_data"
    },
    {
     "data": {
      "application/javascript": [
       "\n",
       "        if (window._pyforest_update_imports_cell) { window._pyforest_update_imports_cell('import matplotlib.pyplot as plt'); }\n",
       "    "
      ],
      "text/plain": [
       "<IPython.core.display.Javascript object>"
      ]
     },
     "metadata": {},
     "output_type": "display_data"
    },
    {
     "data": {
      "application/javascript": [
       "\n",
       "        if (window._pyforest_update_imports_cell) { window._pyforest_update_imports_cell('import matplotlib.pyplot as plt'); }\n",
       "    "
      ],
      "text/plain": [
       "<IPython.core.display.Javascript object>"
      ]
     },
     "metadata": {},
     "output_type": "display_data"
    },
    {
     "data": {
      "application/javascript": [
       "\n",
       "        if (window._pyforest_update_imports_cell) { window._pyforest_update_imports_cell('import matplotlib.pyplot as plt'); }\n",
       "    "
      ],
      "text/plain": [
       "<IPython.core.display.Javascript object>"
      ]
     },
     "metadata": {},
     "output_type": "display_data"
    },
    {
     "data": {
      "application/javascript": [
       "\n",
       "        if (window._pyforest_update_imports_cell) { window._pyforest_update_imports_cell('import matplotlib.pyplot as plt'); }\n",
       "    "
      ],
      "text/plain": [
       "<IPython.core.display.Javascript object>"
      ]
     },
     "metadata": {},
     "output_type": "display_data"
    },
    {
     "data": {
      "application/javascript": [
       "\n",
       "        if (window._pyforest_update_imports_cell) { window._pyforest_update_imports_cell('import matplotlib.pyplot as plt'); }\n",
       "    "
      ],
      "text/plain": [
       "<IPython.core.display.Javascript object>"
      ]
     },
     "metadata": {},
     "output_type": "display_data"
    },
    {
     "data": {
      "application/javascript": [
       "\n",
       "        if (window._pyforest_update_imports_cell) { window._pyforest_update_imports_cell('import matplotlib.pyplot as plt'); }\n",
       "    "
      ],
      "text/plain": [
       "<IPython.core.display.Javascript object>"
      ]
     },
     "metadata": {},
     "output_type": "display_data"
    },
    {
     "data": {
      "application/javascript": [
       "\n",
       "        if (window._pyforest_update_imports_cell) { window._pyforest_update_imports_cell('import matplotlib.pyplot as plt'); }\n",
       "    "
      ],
      "text/plain": [
       "<IPython.core.display.Javascript object>"
      ]
     },
     "metadata": {},
     "output_type": "display_data"
    },
    {
     "data": {
      "application/javascript": [
       "\n",
       "        if (window._pyforest_update_imports_cell) { window._pyforest_update_imports_cell('import matplotlib.pyplot as plt'); }\n",
       "    "
      ],
      "text/plain": [
       "<IPython.core.display.Javascript object>"
      ]
     },
     "metadata": {},
     "output_type": "display_data"
    },
    {
     "data": {
      "application/javascript": [
       "\n",
       "        if (window._pyforest_update_imports_cell) { window._pyforest_update_imports_cell('import matplotlib.pyplot as plt'); }\n",
       "    "
      ],
      "text/plain": [
       "<IPython.core.display.Javascript object>"
      ]
     },
     "metadata": {},
     "output_type": "display_data"
    },
    {
     "data": {
      "application/javascript": [
       "\n",
       "        if (window._pyforest_update_imports_cell) { window._pyforest_update_imports_cell('import matplotlib.pyplot as plt'); }\n",
       "    "
      ],
      "text/plain": [
       "<IPython.core.display.Javascript object>"
      ]
     },
     "metadata": {},
     "output_type": "display_data"
    },
    {
     "data": {
      "application/javascript": [
       "\n",
       "        if (window._pyforest_update_imports_cell) { window._pyforest_update_imports_cell('import matplotlib.pyplot as plt'); }\n",
       "    "
      ],
      "text/plain": [
       "<IPython.core.display.Javascript object>"
      ]
     },
     "metadata": {},
     "output_type": "display_data"
    },
    {
     "data": {
      "application/javascript": [
       "\n",
       "        if (window._pyforest_update_imports_cell) { window._pyforest_update_imports_cell('import matplotlib.pyplot as plt'); }\n",
       "    "
      ],
      "text/plain": [
       "<IPython.core.display.Javascript object>"
      ]
     },
     "metadata": {},
     "output_type": "display_data"
    },
    {
     "data": {
      "application/javascript": [
       "\n",
       "        if (window._pyforest_update_imports_cell) { window._pyforest_update_imports_cell('import matplotlib.pyplot as plt'); }\n",
       "    "
      ],
      "text/plain": [
       "<IPython.core.display.Javascript object>"
      ]
     },
     "metadata": {},
     "output_type": "display_data"
    },
    {
     "data": {
      "application/javascript": [
       "\n",
       "        if (window._pyforest_update_imports_cell) { window._pyforest_update_imports_cell('import matplotlib.pyplot as plt'); }\n",
       "    "
      ],
      "text/plain": [
       "<IPython.core.display.Javascript object>"
      ]
     },
     "metadata": {},
     "output_type": "display_data"
    },
    {
     "data": {
      "application/javascript": [
       "\n",
       "        if (window._pyforest_update_imports_cell) { window._pyforest_update_imports_cell('import matplotlib.pyplot as plt'); }\n",
       "    "
      ],
      "text/plain": [
       "<IPython.core.display.Javascript object>"
      ]
     },
     "metadata": {},
     "output_type": "display_data"
    },
    {
     "data": {
      "application/javascript": [
       "\n",
       "        if (window._pyforest_update_imports_cell) { window._pyforest_update_imports_cell('import matplotlib.pyplot as plt'); }\n",
       "    "
      ],
      "text/plain": [
       "<IPython.core.display.Javascript object>"
      ]
     },
     "metadata": {},
     "output_type": "display_data"
    },
    {
     "data": {
      "application/javascript": [
       "\n",
       "        if (window._pyforest_update_imports_cell) { window._pyforest_update_imports_cell('import matplotlib.pyplot as plt'); }\n",
       "    "
      ],
      "text/plain": [
       "<IPython.core.display.Javascript object>"
      ]
     },
     "metadata": {},
     "output_type": "display_data"
    },
    {
     "data": {
      "application/javascript": [
       "\n",
       "        if (window._pyforest_update_imports_cell) { window._pyforest_update_imports_cell('import matplotlib.pyplot as plt'); }\n",
       "    "
      ],
      "text/plain": [
       "<IPython.core.display.Javascript object>"
      ]
     },
     "metadata": {},
     "output_type": "display_data"
    },
    {
     "data": {
      "application/javascript": [
       "\n",
       "        if (window._pyforest_update_imports_cell) { window._pyforest_update_imports_cell('import matplotlib.pyplot as plt'); }\n",
       "    "
      ],
      "text/plain": [
       "<IPython.core.display.Javascript object>"
      ]
     },
     "metadata": {},
     "output_type": "display_data"
    },
    {
     "data": {
      "application/javascript": [
       "\n",
       "        if (window._pyforest_update_imports_cell) { window._pyforest_update_imports_cell('import matplotlib.pyplot as plt'); }\n",
       "    "
      ],
      "text/plain": [
       "<IPython.core.display.Javascript object>"
      ]
     },
     "metadata": {},
     "output_type": "display_data"
    },
    {
     "data": {
      "application/javascript": [
       "\n",
       "        if (window._pyforest_update_imports_cell) { window._pyforest_update_imports_cell('import matplotlib.pyplot as plt'); }\n",
       "    "
      ],
      "text/plain": [
       "<IPython.core.display.Javascript object>"
      ]
     },
     "metadata": {},
     "output_type": "display_data"
    },
    {
     "data": {
      "application/javascript": [
       "\n",
       "        if (window._pyforest_update_imports_cell) { window._pyforest_update_imports_cell('import matplotlib.pyplot as plt'); }\n",
       "    "
      ],
      "text/plain": [
       "<IPython.core.display.Javascript object>"
      ]
     },
     "metadata": {},
     "output_type": "display_data"
    },
    {
     "data": {
      "application/javascript": [
       "\n",
       "        if (window._pyforest_update_imports_cell) { window._pyforest_update_imports_cell('import matplotlib.pyplot as plt'); }\n",
       "    "
      ],
      "text/plain": [
       "<IPython.core.display.Javascript object>"
      ]
     },
     "metadata": {},
     "output_type": "display_data"
    },
    {
     "data": {
      "application/javascript": [
       "\n",
       "        if (window._pyforest_update_imports_cell) { window._pyforest_update_imports_cell('import matplotlib.pyplot as plt'); }\n",
       "    "
      ],
      "text/plain": [
       "<IPython.core.display.Javascript object>"
      ]
     },
     "metadata": {},
     "output_type": "display_data"
    },
    {
     "data": {
      "image/png": "[encoded data removed]",
      "text/plain": [
       "<Figure size 1584x1440 with 10 Axes>"
      ]
     },
     "metadata": {
      "needs_background": "light"
     },
     "output_type": "display_data"
    }
   ],
   "source": [
    "plt.figure(figsize=(22,20))\n",
    "for i,rank in enumerate(data['Rank'].value_counts().sort_index().index[-10:]):\n",
    "    keys=[]\n",
    "    values=[]\n",
    "    for k,v in data[data['Rank']==rank]['Keyword'].value_counts().items():\n",
    "        keys.append(k)\n",
    "        values.append(v)\n",
    "    ax=plt.subplot(5,2,i+1,ymargin=0.5)\n",
    "    plt.suptitle('Keywords in last 10 ranks.',fontsize=24)\n",
    "    ax.bar(keys,values,color='#ec838a')\n",
    "    ax.set_title(f'Rank:{rank}',fontsize=12)\n",
    "    plt.yticks([])\n",
    "    plt.xlabel('Keyword')\n",
    "    plt.ylabel('Frequency')\n",
    "plt.tight_layout()\n",
    "plt.show()"
   ]
  },
  {
   "cell_type": "code",
   "execution_count": 141,
   "id": "343168ab",
   "metadata": {},
   "outputs": [
    {
     "data": {
      "text/plain": [
       "'Since we can see repetition of keywords in many ranks we can say it is not related with ranking.'"
      ]
     },
     "execution_count": 141,
     "metadata": {},
     "output_type": "execute_result"
    }
   ],
   "source": [
    "'''Since we can see repetition of keywords in many ranks we can say it is not related with ranking.'''"
   ]
  },
  {
   "cell_type": "code",
   "execution_count": 145,
   "id": "71c57974",
   "metadata": {},
   "outputs": [
    {
     "data": {
      "text/plain": [
       "com.duckduckgo.mobile.android    740\n",
       "com.cloudmosa.puffinTV           608\n",
       "com.transsion.phoenix            370\n",
       "com.brave.browser                370\n",
       "com.vivaldi.browser              354\n",
       "com.opera.browser                304\n",
       "net.fast.web.browser             152\n",
       "com.android.chrome               152\n",
       "Name: App ID, dtype: int64"
      ]
     },
     "execution_count": 145,
     "metadata": {},
     "output_type": "execute_result"
    }
   ],
   "source": [
    "data['App ID'].value_counts()"
   ]
  },
  {
   "cell_type": "code",
   "execution_count": 223,
   "id": "6abf45f1",
   "metadata": {},
   "outputs": [],
   "source": [
    "#for row in appid_data.iterrows():\n",
    " #   print(list(row)[1])\n",
    "    #for val in row:\n",
    "     #   print(val)\n",
    "        #print(int(val)/sum(list(row)))"
   ]
  },
  {
   "cell_type": "code",
   "execution_count": 153,
   "id": "a1fdd9bd",
   "metadata": {},
   "outputs": [],
   "source": [
    "appid_data=data.groupby(['App ID','Rank'])['Rank'].count().unstack('Rank')"
   ]
  },
  {
   "cell_type": "code",
   "execution_count": 157,
   "id": "f6e435a6",
   "metadata": {},
   "outputs": [],
   "source": [
    "appid_data.replace(np.NaN,0,inplace=True)"
   ]
  },
  {
   "cell_type": "code",
   "execution_count": 161,
   "id": "f69f13d4",
   "metadata": {},
   "outputs": [],
   "source": [
    "appid_data=appid_data.astype(int)"
   ]
  },
  {
   "cell_type": "code",
   "execution_count": 224,
   "id": "aff0ebeb",
   "metadata": {},
   "outputs": [
    {
     "data": {
      "text/html": [
       "<div>\n",
       "<style scoped>\n",
       "    .dataframe tbody tr th:only-of-type {\n",
       "        vertical-align: middle;\n",
       "    }\n",
       "\n",
       "    .dataframe tbody tr th {\n",
       "        vertical-align: top;\n",
       "    }\n",
       "\n",
       "    .dataframe thead th {\n",
       "        text-align: right;\n",
       "    }\n",
       "</style>\n",
       "<table border=\"1\" class=\"dataframe\">\n",
       "  <thead>\n",
       "    <tr style=\"text-align: right;\">\n",
       "      <th>Rank</th>\n",
       "      <th>1</th>\n",
       "      <th>2</th>\n",
       "      <th>3</th>\n",
       "      <th>4</th>\n",
       "      <th>5</th>\n",
       "      <th>6</th>\n",
       "      <th>7</th>\n",
       "      <th>8</th>\n",
       "      <th>9</th>\n",
       "      <th>10</th>\n",
       "      <th>...</th>\n",
       "      <th>111</th>\n",
       "      <th>112</th>\n",
       "      <th>113</th>\n",
       "      <th>114</th>\n",
       "      <th>115</th>\n",
       "      <th>116</th>\n",
       "      <th>117</th>\n",
       "      <th>118</th>\n",
       "      <th>119</th>\n",
       "      <th>134</th>\n",
       "    </tr>\n",
       "    <tr>\n",
       "      <th>App ID</th>\n",
       "      <th></th>\n",
       "      <th></th>\n",
       "      <th></th>\n",
       "      <th></th>\n",
       "      <th></th>\n",
       "      <th></th>\n",
       "      <th></th>\n",
       "      <th></th>\n",
       "      <th></th>\n",
       "      <th></th>\n",
       "      <th></th>\n",
       "      <th></th>\n",
       "      <th></th>\n",
       "      <th></th>\n",
       "      <th></th>\n",
       "      <th></th>\n",
       "      <th></th>\n",
       "      <th></th>\n",
       "      <th></th>\n",
       "      <th></th>\n",
       "      <th></th>\n",
       "    </tr>\n",
       "  </thead>\n",
       "  <tbody>\n",
       "    <tr>\n",
       "      <th>com.android.chrome</th>\n",
       "      <td>18</td>\n",
       "      <td>6</td>\n",
       "      <td>7</td>\n",
       "      <td>6</td>\n",
       "      <td>1</td>\n",
       "      <td>5</td>\n",
       "      <td>4</td>\n",
       "      <td>11</td>\n",
       "      <td>1</td>\n",
       "      <td>8</td>\n",
       "      <td>...</td>\n",
       "      <td>0</td>\n",
       "      <td>0</td>\n",
       "      <td>0</td>\n",
       "      <td>0</td>\n",
       "      <td>0</td>\n",
       "      <td>0</td>\n",
       "      <td>0</td>\n",
       "      <td>0</td>\n",
       "      <td>0</td>\n",
       "      <td>0</td>\n",
       "    </tr>\n",
       "    <tr>\n",
       "      <th>com.brave.browser</th>\n",
       "      <td>5</td>\n",
       "      <td>201</td>\n",
       "      <td>57</td>\n",
       "      <td>39</td>\n",
       "      <td>20</td>\n",
       "      <td>23</td>\n",
       "      <td>9</td>\n",
       "      <td>10</td>\n",
       "      <td>2</td>\n",
       "      <td>2</td>\n",
       "      <td>...</td>\n",
       "      <td>0</td>\n",
       "      <td>0</td>\n",
       "      <td>0</td>\n",
       "      <td>0</td>\n",
       "      <td>0</td>\n",
       "      <td>0</td>\n",
       "      <td>0</td>\n",
       "      <td>0</td>\n",
       "      <td>0</td>\n",
       "      <td>0</td>\n",
       "    </tr>\n",
       "    <tr>\n",
       "      <th>com.cloudmosa.puffinTV</th>\n",
       "      <td>72</td>\n",
       "      <td>212</td>\n",
       "      <td>80</td>\n",
       "      <td>76</td>\n",
       "      <td>32</td>\n",
       "      <td>36</td>\n",
       "      <td>40</td>\n",
       "      <td>8</td>\n",
       "      <td>16</td>\n",
       "      <td>12</td>\n",
       "      <td>...</td>\n",
       "      <td>0</td>\n",
       "      <td>0</td>\n",
       "      <td>0</td>\n",
       "      <td>0</td>\n",
       "      <td>0</td>\n",
       "      <td>0</td>\n",
       "      <td>0</td>\n",
       "      <td>0</td>\n",
       "      <td>0</td>\n",
       "      <td>0</td>\n",
       "    </tr>\n",
       "    <tr>\n",
       "      <th>com.duckduckgo.mobile.android</th>\n",
       "      <td>428</td>\n",
       "      <td>12</td>\n",
       "      <td>0</td>\n",
       "      <td>0</td>\n",
       "      <td>12</td>\n",
       "      <td>104</td>\n",
       "      <td>24</td>\n",
       "      <td>10</td>\n",
       "      <td>2</td>\n",
       "      <td>0</td>\n",
       "      <td>...</td>\n",
       "      <td>0</td>\n",
       "      <td>0</td>\n",
       "      <td>0</td>\n",
       "      <td>0</td>\n",
       "      <td>0</td>\n",
       "      <td>0</td>\n",
       "      <td>0</td>\n",
       "      <td>0</td>\n",
       "      <td>0</td>\n",
       "      <td>0</td>\n",
       "    </tr>\n",
       "    <tr>\n",
       "      <th>com.opera.browser</th>\n",
       "      <td>8</td>\n",
       "      <td>38</td>\n",
       "      <td>62</td>\n",
       "      <td>44</td>\n",
       "      <td>50</td>\n",
       "      <td>34</td>\n",
       "      <td>26</td>\n",
       "      <td>16</td>\n",
       "      <td>12</td>\n",
       "      <td>10</td>\n",
       "      <td>...</td>\n",
       "      <td>0</td>\n",
       "      <td>0</td>\n",
       "      <td>0</td>\n",
       "      <td>0</td>\n",
       "      <td>0</td>\n",
       "      <td>0</td>\n",
       "      <td>0</td>\n",
       "      <td>0</td>\n",
       "      <td>0</td>\n",
       "      <td>0</td>\n",
       "    </tr>\n",
       "    <tr>\n",
       "      <th>com.transsion.phoenix</th>\n",
       "      <td>0</td>\n",
       "      <td>0</td>\n",
       "      <td>0</td>\n",
       "      <td>0</td>\n",
       "      <td>0</td>\n",
       "      <td>6</td>\n",
       "      <td>11</td>\n",
       "      <td>15</td>\n",
       "      <td>15</td>\n",
       "      <td>20</td>\n",
       "      <td>...</td>\n",
       "      <td>1</td>\n",
       "      <td>0</td>\n",
       "      <td>1</td>\n",
       "      <td>0</td>\n",
       "      <td>0</td>\n",
       "      <td>0</td>\n",
       "      <td>1</td>\n",
       "      <td>0</td>\n",
       "      <td>1</td>\n",
       "      <td>0</td>\n",
       "    </tr>\n",
       "    <tr>\n",
       "      <th>com.vivaldi.browser</th>\n",
       "      <td>0</td>\n",
       "      <td>0</td>\n",
       "      <td>0</td>\n",
       "      <td>0</td>\n",
       "      <td>0</td>\n",
       "      <td>0</td>\n",
       "      <td>0</td>\n",
       "      <td>0</td>\n",
       "      <td>0</td>\n",
       "      <td>0</td>\n",
       "      <td>...</td>\n",
       "      <td>0</td>\n",
       "      <td>1</td>\n",
       "      <td>0</td>\n",
       "      <td>1</td>\n",
       "      <td>2</td>\n",
       "      <td>2</td>\n",
       "      <td>1</td>\n",
       "      <td>2</td>\n",
       "      <td>0</td>\n",
       "      <td>1</td>\n",
       "    </tr>\n",
       "    <tr>\n",
       "      <th>net.fast.web.browser</th>\n",
       "      <td>31</td>\n",
       "      <td>21</td>\n",
       "      <td>8</td>\n",
       "      <td>5</td>\n",
       "      <td>10</td>\n",
       "      <td>5</td>\n",
       "      <td>8</td>\n",
       "      <td>12</td>\n",
       "      <td>8</td>\n",
       "      <td>8</td>\n",
       "      <td>...</td>\n",
       "      <td>0</td>\n",
       "      <td>0</td>\n",
       "      <td>0</td>\n",
       "      <td>0</td>\n",
       "      <td>0</td>\n",
       "      <td>0</td>\n",
       "      <td>0</td>\n",
       "      <td>0</td>\n",
       "      <td>0</td>\n",
       "      <td>0</td>\n",
       "    </tr>\n",
       "  </tbody>\n",
       "</table>\n",
       "<p>8 rows × 119 columns</p>\n",
       "</div>"
      ],
      "text/plain": [
       "Rank                           1    2    3    4    5    6    7    8    9    \\\n",
       "App ID                                                                       \n",
       "com.android.chrome              18    6    7    6    1    5    4   11    1   \n",
       "com.brave.browser                5  201   57   39   20   23    9   10    2   \n",
       "com.cloudmosa.puffinTV          72  212   80   76   32   36   40    8   16   \n",
       "com.duckduckgo.mobile.android  428   12    0    0   12  104   24   10    2   \n",
       "com.opera.browser                8   38   62   44   50   34   26   16   12   \n",
       "com.transsion.phoenix            0    0    0    0    0    6   11   15   15   \n",
       "com.vivaldi.browser              0    0    0    0    0    0    0    0    0   \n",
       "net.fast.web.browser            31   21    8    5   10    5    8   12    8   \n",
       "\n",
       "Rank                           10   ...  111  112  113  114  115  116  117  \\\n",
       "App ID                              ...                                      \n",
       "com.android.chrome               8  ...    0    0    0    0    0    0    0   \n",
       "com.brave.browser                2  ...    0    0    0    0    0    0    0   \n",
       "com.cloudmosa.puffinTV          12  ...    0    0    0    0    0    0    0   \n",
       "com.duckduckgo.mobile.android    0  ...    0    0    0    0    0    0    0   \n",
       "com.opera.browser               10  ...    0    0    0    0    0    0    0   \n",
       "com.transsion.phoenix           20  ...    1    0    1    0    0    0    1   \n",
       "com.vivaldi.browser              0  ...    0    1    0    1    2    2    1   \n",
       "net.fast.web.browser             8  ...    0    0    0    0    0    0    0   \n",
       "\n",
       "Rank                           118  119  134  \n",
       "App ID                                        \n",
       "com.android.chrome               0    0    0  \n",
       "com.brave.browser                0    0    0  \n",
       "com.cloudmosa.puffinTV           0    0    0  \n",
       "com.duckduckgo.mobile.android    0    0    0  \n",
       "com.opera.browser                0    0    0  \n",
       "com.transsion.phoenix            0    1    0  \n",
       "com.vivaldi.browser              2    0    1  \n",
       "net.fast.web.browser             0    0    0  \n",
       "\n",
       "[8 rows x 119 columns]"
      ]
     },
     "execution_count": 224,
     "metadata": {},
     "output_type": "execute_result"
    }
   ],
   "source": [
    "appid_data"
   ]
  },
  {
   "cell_type": "code",
   "execution_count": 222,
   "id": "f5b24526",
   "metadata": {},
   "outputs": [
    {
     "data": {
      "application/javascript": [
       "\n",
       "        if (window._pyforest_update_imports_cell) { window._pyforest_update_imports_cell('import matplotlib.pyplot as plt'); }\n",
       "    "
      ],
      "text/plain": [
       "<IPython.core.display.Javascript object>"
      ]
     },
     "metadata": {},
     "output_type": "display_data"
    },
    {
     "data": {
      "application/javascript": [
       "\n",
       "        if (window._pyforest_update_imports_cell) { window._pyforest_update_imports_cell('import matplotlib.pyplot as plt'); }\n",
       "    "
      ],
      "text/plain": [
       "<IPython.core.display.Javascript object>"
      ]
     },
     "metadata": {},
     "output_type": "display_data"
    },
    {
     "data": {
      "application/javascript": [
       "\n",
       "        if (window._pyforest_update_imports_cell) { window._pyforest_update_imports_cell('import matplotlib.pyplot as plt'); }\n",
       "    "
      ],
      "text/plain": [
       "<IPython.core.display.Javascript object>"
      ]
     },
     "metadata": {},
     "output_type": "display_data"
    },
    {
     "data": {
      "application/javascript": [
       "\n",
       "        if (window._pyforest_update_imports_cell) { window._pyforest_update_imports_cell('import matplotlib.pyplot as plt'); }\n",
       "    "
      ],
      "text/plain": [
       "<IPython.core.display.Javascript object>"
      ]
     },
     "metadata": {},
     "output_type": "display_data"
    },
    {
     "data": {
      "application/javascript": [
       "\n",
       "        if (window._pyforest_update_imports_cell) { window._pyforest_update_imports_cell('import matplotlib.pyplot as plt'); }\n",
       "    "
      ],
      "text/plain": [
       "<IPython.core.display.Javascript object>"
      ]
     },
     "metadata": {},
     "output_type": "display_data"
    },
    {
     "data": {
      "application/javascript": [
       "\n",
       "        if (window._pyforest_update_imports_cell) { window._pyforest_update_imports_cell('import matplotlib.pyplot as plt'); }\n",
       "    "
      ],
      "text/plain": [
       "<IPython.core.display.Javascript object>"
      ]
     },
     "metadata": {},
     "output_type": "display_data"
    },
    {
     "data": {
      "application/javascript": [
       "\n",
       "        if (window._pyforest_update_imports_cell) { window._pyforest_update_imports_cell('import matplotlib.pyplot as plt'); }\n",
       "    "
      ],
      "text/plain": [
       "<IPython.core.display.Javascript object>"
      ]
     },
     "metadata": {},
     "output_type": "display_data"
    },
    {
     "data": {
      "application/javascript": [
       "\n",
       "        if (window._pyforest_update_imports_cell) { window._pyforest_update_imports_cell('import matplotlib.pyplot as plt'); }\n",
       "    "
      ],
      "text/plain": [
       "<IPython.core.display.Javascript object>"
      ]
     },
     "metadata": {},
     "output_type": "display_data"
    },
    {
     "data": {
      "application/javascript": [
       "\n",
       "        if (window._pyforest_update_imports_cell) { window._pyforest_update_imports_cell('import matplotlib.pyplot as plt'); }\n",
       "    "
      ],
      "text/plain": [
       "<IPython.core.display.Javascript object>"
      ]
     },
     "metadata": {},
     "output_type": "display_data"
    },
    {
     "data": {
      "application/javascript": [
       "\n",
       "        if (window._pyforest_update_imports_cell) { window._pyforest_update_imports_cell('import matplotlib.pyplot as plt'); }\n",
       "    "
      ],
      "text/plain": [
       "<IPython.core.display.Javascript object>"
      ]
     },
     "metadata": {},
     "output_type": "display_data"
    },
    {
     "data": {
      "application/javascript": [
       "\n",
       "        if (window._pyforest_update_imports_cell) { window._pyforest_update_imports_cell('import matplotlib.pyplot as plt'); }\n",
       "    "
      ],
      "text/plain": [
       "<IPython.core.display.Javascript object>"
      ]
     },
     "metadata": {},
     "output_type": "display_data"
    },
    {
     "data": {
      "application/javascript": [
       "\n",
       "        if (window._pyforest_update_imports_cell) { window._pyforest_update_imports_cell('import matplotlib.pyplot as plt'); }\n",
       "    "
      ],
      "text/plain": [
       "<IPython.core.display.Javascript object>"
      ]
     },
     "metadata": {},
     "output_type": "display_data"
    },
    {
     "data": {
      "application/javascript": [
       "\n",
       "        if (window._pyforest_update_imports_cell) { window._pyforest_update_imports_cell('import matplotlib.pyplot as plt'); }\n",
       "    "
      ],
      "text/plain": [
       "<IPython.core.display.Javascript object>"
      ]
     },
     "metadata": {},
     "output_type": "display_data"
    },
    {
     "data": {
      "application/javascript": [
       "\n",
       "        if (window._pyforest_update_imports_cell) { window._pyforest_update_imports_cell('import matplotlib.pyplot as plt'); }\n",
       "    "
      ],
      "text/plain": [
       "<IPython.core.display.Javascript object>"
      ]
     },
     "metadata": {},
     "output_type": "display_data"
    },
    {
     "data": {
      "image/png": "[encoded data removed]",
      "text/plain": [
       "<Figure size 1440x432 with 1 Axes>"
      ]
     },
     "metadata": {
      "needs_background": "light"
     },
     "output_type": "display_data"
    }
   ],
   "source": [
    "plt.figure(figsize=(20,6))\n",
    "for app in appid_data.index:\n",
    "    plt.plot(np.array(appid_data.columns),appid_data[appid_data.index==app].values[0])\n",
    "plt.legend(appid_data.index)\n",
    "plt.title('Distribution of AppID rankwise')\n",
    "plt.xlabel('Rank',fontsize=12)\n",
    "plt.ylabel('Frequency',fontsize=12)\n",
    "plt.show()"
   ]
  },
  {
   "cell_type": "markdown",
   "id": "358b07b6",
   "metadata": {},
   "source": [
    "#### Viviladi has lower rankings"
   ]
  },
  {
   "cell_type": "code",
   "execution_count": 245,
   "id": "c0c94ac4",
   "metadata": {},
   "outputs": [],
   "source": [
    "short_data=data.groupby(['Short Description','Rank'])['Rank'].count().unstack(['Rank'])"
   ]
  },
  {
   "cell_type": "code",
   "execution_count": 246,
   "id": "7bf75497",
   "metadata": {},
   "outputs": [],
   "source": [
    "short_data.replace(np.NaN,0,inplace=True)"
   ]
  },
  {
   "cell_type": "code",
   "execution_count": 247,
   "id": "64a0dde2",
   "metadata": {},
   "outputs": [],
   "source": [
    "short_data=short_data.astype(int)"
   ]
  },
  {
   "cell_type": "code",
   "execution_count": 250,
   "id": "8fa09529",
   "metadata": {},
   "outputs": [
    {
     "data": {
      "text/html": [
       "<div>\n",
       "<style scoped>\n",
       "    .dataframe tbody tr th:only-of-type {\n",
       "        vertical-align: middle;\n",
       "    }\n",
       "\n",
       "    .dataframe tbody tr th {\n",
       "        vertical-align: top;\n",
       "    }\n",
       "\n",
       "    .dataframe thead th {\n",
       "        text-align: right;\n",
       "    }\n",
       "</style>\n",
       "<table border=\"1\" class=\"dataframe\">\n",
       "  <thead>\n",
       "    <tr style=\"text-align: right;\">\n",
       "      <th>Rank</th>\n",
       "      <th>1</th>\n",
       "      <th>2</th>\n",
       "      <th>3</th>\n",
       "      <th>4</th>\n",
       "      <th>5</th>\n",
       "      <th>6</th>\n",
       "      <th>7</th>\n",
       "      <th>8</th>\n",
       "      <th>9</th>\n",
       "      <th>10</th>\n",
       "      <th>...</th>\n",
       "      <th>111</th>\n",
       "      <th>112</th>\n",
       "      <th>113</th>\n",
       "      <th>114</th>\n",
       "      <th>115</th>\n",
       "      <th>116</th>\n",
       "      <th>117</th>\n",
       "      <th>118</th>\n",
       "      <th>119</th>\n",
       "      <th>134</th>\n",
       "    </tr>\n",
       "    <tr>\n",
       "      <th>Short Description</th>\n",
       "      <th></th>\n",
       "      <th></th>\n",
       "      <th></th>\n",
       "      <th></th>\n",
       "      <th></th>\n",
       "      <th></th>\n",
       "      <th></th>\n",
       "      <th></th>\n",
       "      <th></th>\n",
       "      <th></th>\n",
       "      <th></th>\n",
       "      <th></th>\n",
       "      <th></th>\n",
       "      <th></th>\n",
       "      <th></th>\n",
       "      <th></th>\n",
       "      <th></th>\n",
       "      <th></th>\n",
       "      <th></th>\n",
       "      <th></th>\n",
       "      <th></th>\n",
       "    </tr>\n",
       "  </thead>\n",
       "  <tbody>\n",
       "    <tr>\n",
       "      <th>Browse the web privately, search anonymously, and escape ad trackers.</th>\n",
       "      <td>428</td>\n",
       "      <td>12</td>\n",
       "      <td>0</td>\n",
       "      <td>0</td>\n",
       "      <td>12</td>\n",
       "      <td>104</td>\n",
       "      <td>24</td>\n",
       "      <td>10</td>\n",
       "      <td>2</td>\n",
       "      <td>0</td>\n",
       "      <td>...</td>\n",
       "      <td>0</td>\n",
       "      <td>0</td>\n",
       "      <td>0</td>\n",
       "      <td>0</td>\n",
       "      <td>0</td>\n",
       "      <td>0</td>\n",
       "      <td>0</td>\n",
       "      <td>0</td>\n",
       "      <td>0</td>\n",
       "      <td>0</td>\n",
       "    </tr>\n",
       "    <tr>\n",
       "      <th>Fast &amp;amp; private web browser with ad blocker, sync, dark &amp;amp; private mode.</th>\n",
       "      <td>0</td>\n",
       "      <td>0</td>\n",
       "      <td>0</td>\n",
       "      <td>0</td>\n",
       "      <td>0</td>\n",
       "      <td>0</td>\n",
       "      <td>0</td>\n",
       "      <td>0</td>\n",
       "      <td>0</td>\n",
       "      <td>0</td>\n",
       "      <td>...</td>\n",
       "      <td>0</td>\n",
       "      <td>1</td>\n",
       "      <td>0</td>\n",
       "      <td>1</td>\n",
       "      <td>2</td>\n",
       "      <td>2</td>\n",
       "      <td>1</td>\n",
       "      <td>2</td>\n",
       "      <td>0</td>\n",
       "      <td>1</td>\n",
       "    </tr>\n",
       "    <tr>\n",
       "      <th>Fast, safe web browser: free VPN, Ad blocker, QR-code reader &amp;amp; personalized news</th>\n",
       "      <td>8</td>\n",
       "      <td>38</td>\n",
       "      <td>62</td>\n",
       "      <td>44</td>\n",
       "      <td>50</td>\n",
       "      <td>34</td>\n",
       "      <td>26</td>\n",
       "      <td>16</td>\n",
       "      <td>12</td>\n",
       "      <td>10</td>\n",
       "      <td>...</td>\n",
       "      <td>0</td>\n",
       "      <td>0</td>\n",
       "      <td>0</td>\n",
       "      <td>0</td>\n",
       "      <td>0</td>\n",
       "      <td>0</td>\n",
       "      <td>0</td>\n",
       "      <td>0</td>\n",
       "      <td>0</td>\n",
       "      <td>0</td>\n",
       "    </tr>\n",
       "    <tr>\n",
       "      <th>Fast, simple, and secure. Google Chrome browser for Android phones and tablets.</th>\n",
       "      <td>18</td>\n",
       "      <td>6</td>\n",
       "      <td>7</td>\n",
       "      <td>6</td>\n",
       "      <td>1</td>\n",
       "      <td>5</td>\n",
       "      <td>4</td>\n",
       "      <td>11</td>\n",
       "      <td>1</td>\n",
       "      <td>8</td>\n",
       "      <td>...</td>\n",
       "      <td>0</td>\n",
       "      <td>0</td>\n",
       "      <td>0</td>\n",
       "      <td>0</td>\n",
       "      <td>0</td>\n",
       "      <td>0</td>\n",
       "      <td>0</td>\n",
       "      <td>0</td>\n",
       "      <td>0</td>\n",
       "      <td>0</td>\n",
       "    </tr>\n",
       "    <tr>\n",
       "      <th>Free, safe internet browser! Private browsing, search engine &amp;amp; pop-up blocker.</th>\n",
       "      <td>5</td>\n",
       "      <td>201</td>\n",
       "      <td>57</td>\n",
       "      <td>39</td>\n",
       "      <td>20</td>\n",
       "      <td>23</td>\n",
       "      <td>9</td>\n",
       "      <td>10</td>\n",
       "      <td>2</td>\n",
       "      <td>2</td>\n",
       "      <td>...</td>\n",
       "      <td>0</td>\n",
       "      <td>0</td>\n",
       "      <td>0</td>\n",
       "      <td>0</td>\n",
       "      <td>0</td>\n",
       "      <td>0</td>\n",
       "      <td>0</td>\n",
       "      <td>0</td>\n",
       "      <td>0</td>\n",
       "      <td>0</td>\n",
       "    </tr>\n",
       "    <tr>\n",
       "      <th>Funny video, Football &amp;amp; celebrity news, Fast &amp;amp; data-saving browser.</th>\n",
       "      <td>0</td>\n",
       "      <td>0</td>\n",
       "      <td>0</td>\n",
       "      <td>0</td>\n",
       "      <td>0</td>\n",
       "      <td>6</td>\n",
       "      <td>11</td>\n",
       "      <td>15</td>\n",
       "      <td>15</td>\n",
       "      <td>20</td>\n",
       "      <td>...</td>\n",
       "      <td>1</td>\n",
       "      <td>0</td>\n",
       "      <td>1</td>\n",
       "      <td>0</td>\n",
       "      <td>0</td>\n",
       "      <td>0</td>\n",
       "      <td>1</td>\n",
       "      <td>0</td>\n",
       "      <td>1</td>\n",
       "      <td>0</td>\n",
       "    </tr>\n",
       "    <tr>\n",
       "      <th>Puffin TV Browser - One App to Watch All Videos on the Web</th>\n",
       "      <td>36</td>\n",
       "      <td>106</td>\n",
       "      <td>40</td>\n",
       "      <td>38</td>\n",
       "      <td>16</td>\n",
       "      <td>18</td>\n",
       "      <td>20</td>\n",
       "      <td>4</td>\n",
       "      <td>8</td>\n",
       "      <td>6</td>\n",
       "      <td>...</td>\n",
       "      <td>0</td>\n",
       "      <td>0</td>\n",
       "      <td>0</td>\n",
       "      <td>0</td>\n",
       "      <td>0</td>\n",
       "      <td>0</td>\n",
       "      <td>0</td>\n",
       "      <td>0</td>\n",
       "      <td>0</td>\n",
       "      <td>0</td>\n",
       "    </tr>\n",
       "    <tr>\n",
       "      <th>Puffin TV Browser - One App to Watch All Videos on the Web.</th>\n",
       "      <td>36</td>\n",
       "      <td>106</td>\n",
       "      <td>40</td>\n",
       "      <td>38</td>\n",
       "      <td>16</td>\n",
       "      <td>18</td>\n",
       "      <td>20</td>\n",
       "      <td>4</td>\n",
       "      <td>8</td>\n",
       "      <td>6</td>\n",
       "      <td>...</td>\n",
       "      <td>0</td>\n",
       "      <td>0</td>\n",
       "      <td>0</td>\n",
       "      <td>0</td>\n",
       "      <td>0</td>\n",
       "      <td>0</td>\n",
       "      <td>0</td>\n",
       "      <td>0</td>\n",
       "      <td>0</td>\n",
       "      <td>0</td>\n",
       "    </tr>\n",
       "    <tr>\n",
       "      <th>The small, fastest, secure Web Browser, best mobile browser, fast search Google.</th>\n",
       "      <td>31</td>\n",
       "      <td>21</td>\n",
       "      <td>8</td>\n",
       "      <td>5</td>\n",
       "      <td>10</td>\n",
       "      <td>5</td>\n",
       "      <td>8</td>\n",
       "      <td>12</td>\n",
       "      <td>8</td>\n",
       "      <td>8</td>\n",
       "      <td>...</td>\n",
       "      <td>0</td>\n",
       "      <td>0</td>\n",
       "      <td>0</td>\n",
       "      <td>0</td>\n",
       "      <td>0</td>\n",
       "      <td>0</td>\n",
       "      <td>0</td>\n",
       "      <td>0</td>\n",
       "      <td>0</td>\n",
       "      <td>0</td>\n",
       "    </tr>\n",
       "  </tbody>\n",
       "</table>\n",
       "<p>9 rows × 119 columns</p>\n",
       "</div>"
      ],
      "text/plain": [
       "Rank                                                1    2    3    4    5    \\\n",
       "Short Description                                                             \n",
       "Browse the web privately, search anonymously, a...  428   12    0    0   12   \n",
       "Fast &amp; private web browser with ad blocker,...    0    0    0    0    0   \n",
       "Fast, safe web browser: free VPN, Ad blocker, Q...    8   38   62   44   50   \n",
       "Fast, simple, and secure. Google Chrome browser...   18    6    7    6    1   \n",
       "Free, safe internet browser! Private browsing, ...    5  201   57   39   20   \n",
       "Funny video, Football &amp; celebrity news, Fas...    0    0    0    0    0   \n",
       "Puffin TV Browser - One App to Watch All Videos...   36  106   40   38   16   \n",
       "Puffin TV Browser - One App to Watch All Videos...   36  106   40   38   16   \n",
       "The small, fastest, secure Web Browser, best mo...   31   21    8    5   10   \n",
       "\n",
       "Rank                                                6    7    8    9    10   \\\n",
       "Short Description                                                             \n",
       "Browse the web privately, search anonymously, a...  104   24   10    2    0   \n",
       "Fast &amp; private web browser with ad blocker,...    0    0    0    0    0   \n",
       "Fast, safe web browser: free VPN, Ad blocker, Q...   34   26   16   12   10   \n",
       "Fast, simple, and secure. Google Chrome browser...    5    4   11    1    8   \n",
       "Free, safe internet browser! Private browsing, ...   23    9   10    2    2   \n",
       "Funny video, Football &amp; celebrity news, Fas...    6   11   15   15   20   \n",
       "Puffin TV Browser - One App to Watch All Videos...   18   20    4    8    6   \n",
       "Puffin TV Browser - One App to Watch All Videos...   18   20    4    8    6   \n",
       "The small, fastest, secure Web Browser, best mo...    5    8   12    8    8   \n",
       "\n",
       "Rank                                                ...  111  112  113  114  \\\n",
       "Short Description                                   ...                       \n",
       "Browse the web privately, search anonymously, a...  ...    0    0    0    0   \n",
       "Fast &amp; private web browser with ad blocker,...  ...    0    1    0    1   \n",
       "Fast, safe web browser: free VPN, Ad blocker, Q...  ...    0    0    0    0   \n",
       "Fast, simple, and secure. Google Chrome browser...  ...    0    0    0    0   \n",
       "Free, safe internet browser! Private browsing, ...  ...    0    0    0    0   \n",
       "Funny video, Football &amp; celebrity news, Fas...  ...    1    0    1    0   \n",
       "Puffin TV Browser - One App to Watch All Videos...  ...    0    0    0    0   \n",
       "Puffin TV Browser - One App to Watch All Videos...  ...    0    0    0    0   \n",
       "The small, fastest, secure Web Browser, best mo...  ...    0    0    0    0   \n",
       "\n",
       "Rank                                                115  116  117  118  119  \\\n",
       "Short Description                                                             \n",
       "Browse the web privately, search anonymously, a...    0    0    0    0    0   \n",
       "Fast &amp; private web browser with ad blocker,...    2    2    1    2    0   \n",
       "Fast, safe web browser: free VPN, Ad blocker, Q...    0    0    0    0    0   \n",
       "Fast, simple, and secure. Google Chrome browser...    0    0    0    0    0   \n",
       "Free, safe internet browser! Private browsing, ...    0    0    0    0    0   \n",
       "Funny video, Football &amp; celebrity news, Fas...    0    0    1    0    1   \n",
       "Puffin TV Browser - One App to Watch All Videos...    0    0    0    0    0   \n",
       "Puffin TV Browser - One App to Watch All Videos...    0    0    0    0    0   \n",
       "The small, fastest, secure Web Browser, best mo...    0    0    0    0    0   \n",
       "\n",
       "Rank                                                134  \n",
       "Short Description                                        \n",
       "Browse the web privately, search anonymously, a...    0  \n",
       "Fast &amp; private web browser with ad blocker,...    1  \n",
       "Fast, safe web browser: free VPN, Ad blocker, Q...    0  \n",
       "Fast, simple, and secure. Google Chrome browser...    0  \n",
       "Free, safe internet browser! Private browsing, ...    0  \n",
       "Funny video, Football &amp; celebrity news, Fas...    0  \n",
       "Puffin TV Browser - One App to Watch All Videos...    0  \n",
       "Puffin TV Browser - One App to Watch All Videos...    0  \n",
       "The small, fastest, secure Web Browser, best mo...    0  \n",
       "\n",
       "[9 rows x 119 columns]"
      ]
     },
     "execution_count": 250,
     "metadata": {},
     "output_type": "execute_result"
    }
   ],
   "source": [
    "short_data"
   ]
  },
  {
   "cell_type": "code",
   "execution_count": 249,
   "id": "2dbe89a6",
   "metadata": {},
   "outputs": [
    {
     "data": {
      "application/javascript": [
       "\n",
       "        if (window._pyforest_update_imports_cell) { window._pyforest_update_imports_cell('import matplotlib.pyplot as plt'); }\n",
       "    "
      ],
      "text/plain": [
       "<IPython.core.display.Javascript object>"
      ]
     },
     "metadata": {},
     "output_type": "display_data"
    },
    {
     "data": {
      "application/javascript": [
       "\n",
       "        if (window._pyforest_update_imports_cell) { window._pyforest_update_imports_cell('import matplotlib.pyplot as plt'); }\n",
       "    "
      ],
      "text/plain": [
       "<IPython.core.display.Javascript object>"
      ]
     },
     "metadata": {},
     "output_type": "display_data"
    },
    {
     "data": {
      "application/javascript": [
       "\n",
       "        if (window._pyforest_update_imports_cell) { window._pyforest_update_imports_cell('import matplotlib.pyplot as plt'); }\n",
       "    "
      ],
      "text/plain": [
       "<IPython.core.display.Javascript object>"
      ]
     },
     "metadata": {},
     "output_type": "display_data"
    },
    {
     "data": {
      "application/javascript": [
       "\n",
       "        if (window._pyforest_update_imports_cell) { window._pyforest_update_imports_cell('import matplotlib.pyplot as plt'); }\n",
       "    "
      ],
      "text/plain": [
       "<IPython.core.display.Javascript object>"
      ]
     },
     "metadata": {},
     "output_type": "display_data"
    },
    {
     "data": {
      "application/javascript": [
       "\n",
       "        if (window._pyforest_update_imports_cell) { window._pyforest_update_imports_cell('import matplotlib.pyplot as plt'); }\n",
       "    "
      ],
      "text/plain": [
       "<IPython.core.display.Javascript object>"
      ]
     },
     "metadata": {},
     "output_type": "display_data"
    },
    {
     "data": {
      "application/javascript": [
       "\n",
       "        if (window._pyforest_update_imports_cell) { window._pyforest_update_imports_cell('import matplotlib.pyplot as plt'); }\n",
       "    "
      ],
      "text/plain": [
       "<IPython.core.display.Javascript object>"
      ]
     },
     "metadata": {},
     "output_type": "display_data"
    },
    {
     "data": {
      "application/javascript": [
       "\n",
       "        if (window._pyforest_update_imports_cell) { window._pyforest_update_imports_cell('import matplotlib.pyplot as plt'); }\n",
       "    "
      ],
      "text/plain": [
       "<IPython.core.display.Javascript object>"
      ]
     },
     "metadata": {},
     "output_type": "display_data"
    },
    {
     "data": {
      "application/javascript": [
       "\n",
       "        if (window._pyforest_update_imports_cell) { window._pyforest_update_imports_cell('import matplotlib.pyplot as plt'); }\n",
       "    "
      ],
      "text/plain": [
       "<IPython.core.display.Javascript object>"
      ]
     },
     "metadata": {},
     "output_type": "display_data"
    },
    {
     "data": {
      "application/javascript": [
       "\n",
       "        if (window._pyforest_update_imports_cell) { window._pyforest_update_imports_cell('import matplotlib.pyplot as plt'); }\n",
       "    "
      ],
      "text/plain": [
       "<IPython.core.display.Javascript object>"
      ]
     },
     "metadata": {},
     "output_type": "display_data"
    },
    {
     "data": {
      "application/javascript": [
       "\n",
       "        if (window._pyforest_update_imports_cell) { window._pyforest_update_imports_cell('import matplotlib.pyplot as plt'); }\n",
       "    "
      ],
      "text/plain": [
       "<IPython.core.display.Javascript object>"
      ]
     },
     "metadata": {},
     "output_type": "display_data"
    },
    {
     "data": {
      "application/javascript": [
       "\n",
       "        if (window._pyforest_update_imports_cell) { window._pyforest_update_imports_cell('import matplotlib.pyplot as plt'); }\n",
       "    "
      ],
      "text/plain": [
       "<IPython.core.display.Javascript object>"
      ]
     },
     "metadata": {},
     "output_type": "display_data"
    },
    {
     "data": {
      "application/javascript": [
       "\n",
       "        if (window._pyforest_update_imports_cell) { window._pyforest_update_imports_cell('import matplotlib.pyplot as plt'); }\n",
       "    "
      ],
      "text/plain": [
       "<IPython.core.display.Javascript object>"
      ]
     },
     "metadata": {},
     "output_type": "display_data"
    },
    {
     "data": {
      "application/javascript": [
       "\n",
       "        if (window._pyforest_update_imports_cell) { window._pyforest_update_imports_cell('import matplotlib.pyplot as plt'); }\n",
       "    "
      ],
      "text/plain": [
       "<IPython.core.display.Javascript object>"
      ]
     },
     "metadata": {},
     "output_type": "display_data"
    },
    {
     "data": {
      "application/javascript": [
       "\n",
       "        if (window._pyforest_update_imports_cell) { window._pyforest_update_imports_cell('import matplotlib.pyplot as plt'); }\n",
       "    "
      ],
      "text/plain": [
       "<IPython.core.display.Javascript object>"
      ]
     },
     "metadata": {},
     "output_type": "display_data"
    },
    {
     "data": {
      "application/javascript": [
       "\n",
       "        if (window._pyforest_update_imports_cell) { window._pyforest_update_imports_cell('import matplotlib.pyplot as plt'); }\n",
       "    "
      ],
      "text/plain": [
       "<IPython.core.display.Javascript object>"
      ]
     },
     "metadata": {},
     "output_type": "display_data"
    },
    {
     "data": {
      "image/png": "[encoded data removed]",
      "text/plain": [
       "<Figure size 1440x432 with 1 Axes>"
      ]
     },
     "metadata": {
      "needs_background": "light"
     },
     "output_type": "display_data"
    }
   ],
   "source": [
    "plt.figure(figsize=(20,6))\n",
    "for short in short_data.index:\n",
    "    plt.plot(np.array(short_data.columns),short_data[short_data.index==short].values[0])\n",
    "plt.legend(short_data.index)\n",
    "plt.title('Distribution of Short Description rankwise')\n",
    "plt.xlabel('Rank',fontsize=12)\n",
    "plt.ylabel('Frequency',fontsize=12)\n",
    "plt.show()"
   ]
  },
  {
   "cell_type": "code",
   "execution_count": 253,
   "id": "da71cf11",
   "metadata": {
    "scrolled": false
   },
   "outputs": [],
   "source": [
    "#data.groupby(['Long Description','Rank'])['Rank'].count().unstack('Rank')"
   ]
  },
  {
   "cell_type": "code",
   "execution_count": 234,
   "id": "8f07509c",
   "metadata": {},
   "outputs": [
    {
     "data": {
      "text/plain": [
       "Browse the web privately, search anonymously, and escape ad trackers.                   428\n",
       "Puffin TV Browser - One App to Watch All Videos on the Web.                              36\n",
       "Puffin TV Browser - One App to Watch All Videos on the Web                               36\n",
       "The small, fastest, secure Web Browser, best mobile browser, fast search Google.         31\n",
       "Fast, simple, and secure. Google Chrome browser for Android phones and tablets.          18\n",
       "Fast, safe web browser: free VPN, Ad blocker, QR-code reader &amp; personalized news      8\n",
       "Free, safe internet browser! Private browsing, search engine &amp; pop-up blocker.        5\n",
       "Name: Short Description, dtype: int64"
      ]
     },
     "execution_count": 234,
     "metadata": {},
     "output_type": "execute_result"
    }
   ],
   "source": [
    "data[data['Rank']==1]['Short Description'].value_counts()"
   ]
  },
  {
   "cell_type": "code",
   "execution_count": 257,
   "id": "58d755e3",
   "metadata": {},
   "outputs": [
    {
     "data": {
      "text/plain": [
       "Privately browse the internet, for free! The Brave Private Browser App is your fast, free, and safe private web browser with ad blocker and pop-up blocker. Privately browse and search the internet without being tracked by advertisers, malware and pop-ups. \\r\\n\\r\\nDownload the best AdBlock privacy web browser app for Android today!\\r\\n\\r\\n🔒 Fast & Secure Web Browser\\r\\nNo external plugins or settings! Brave privacy browser simply provides the most secure, lightning fast web internet browser for Android. Enjoy free private browsing and a private search engine without popups (pop up blocker), ads (ad blocker), malware and other annoyances. \\r\\n\\r\\n🙈 Private Browsing App\\r\\nEnjoy fast, secure, private browsing. Get free adblocker to block ads, anonymous browsing history, personalized private search, and private tabs for private browsing.\\r\\n\\r\\n🚀 Browse Faster\\r\\nBrave is a fast web browser! Brave reduces page loading times, improves web browser performance and blocks ads infected with malware. Brave Privacy App shows a 2x to 4x speed increase on Android, saving your battery and data. \\r\\n\\r\\n🚫 AdBlock Web Browser\\r\\nThe Brave Private Browser App is designed with a free built-in AdBlocker (pop up blocker). Brave's free adBlocker protects you from ads which track you as you browse the mobile web, securing your privacy and private browsing history.  \\r\\n\\r\\n🙈 Automatic Privacy - AdBlock Browser Protection\\r\\nThe Brave Private Browser App also protects you with leading privacy and security features such as HTTPS Everywhere (encrypted data traffic), script blocking, 3rd party cookie blocking and incognito private tabs.\\r\\n\\r\\nApp Features\\r\\n* Free private internet browser\\r\\n* Free built-in AdBlocker\\r\\n* Private internet browser with pop up blocker (blocks ads)\\r\\n* Safe private browsing\\r\\n* Saves data and battery \\r\\n* Invasive Ad free web browser\\r\\n* Sync Bookmarks securely\\r\\n* Free tracking protection web browser\\r\\n* Https Everywhere (for security)\\r\\n* Script Blocker\\r\\n* 3rd party cookie blocker\\r\\n* Private bookmarks \\r\\n* Browsing history\\r\\n* Recent and private tabs\\r\\n* Fast, free, private search engine using DuckDuckGo\\r\\n\\r\\nBrave Rewards\\r\\nWith your old web browser, you paid to browse the internet by viewing ads. Now, Brave welcomes you to the new internet. One where your time is valued, your personal data is kept private, and you actually get paid for your attention.\\r\\n\\r\\nAbout Brave\\r\\nOur mission is to save the web by making a safe, private and fast browser while growing ad revenue for content creators. Brave aims to transform the online ad ecosystem with micropayments and a new revenue-sharing solution to give users and publishers a better deal, where safe, fast browsing is the path to a brighter future for an open web.\\r\\n\\r\\nTo learn more about the Brave Privacy Browser App, which has a built-in 3rd party Ad Block and pop up blocker, plus tracking and security protection, please go to www.brave.com\\r\\n\\r\\nQuestions/support?\\r\\nContact us at community.brave.com/c/support-and-troubleshooting/mobile-support. We love hearing from you.\\r\\n\\r\\nAre you enjoying our fast, private internet browser? Please leave us a 5 star review! \\r\\n\\r\\nDownload the best privacy browser for Android today!                                                                                                                                                                                                                                                                                                                                                                                                                                                                                                                                                                                                                                                                                                                                                                                                                                    201\n",
       "Puffin TV Browser is a special edition of Puffin Web Browser optimized for the Android TV.\\r\\n\\r\\nWhy we need to install one video app for each video channel on Android TV? PC users can watch all videos from any web browser on their PC. What if we can have a web browser optimized for the Android TV?\\r\\n\\r\\nPuffin TV Browser removes the traditional web browser UI for a fully immersed Android TV experience. Puffin UI is kept as subtle and intuitive as possible. For example, Puffin TV automatically recommends most popular sites for users. It has never been easier to share a page from your smart phone to Puffin TV Browser.\\r\\n\\r\\nFurthermore, Puffin TV chatbot allows you to interact with your Puffin TV browser via Facebook Messenger easily. It is intuitive, minimalist, and highly functional.\\r\\n\\r\\n☆ Incredible page load and rendering speed\\r\\n☆ Optimized video playback\\r\\n☆ Intuitive app navigation design\\r\\n☆ Sharing pages to Puffin TV Browser from any devices\\r\\n☆ Full web experience\\r\\n☆ Fastest JavaScript engine\\r\\n\\r\\n===== In-app purchase =====\\r\\n* The service is provided with limited free usage everyday.\\r\\n* Users may choose to unlock limited access via in-app purchase.\\r\\n\\r\\n===== Limitations =====\\r\\n* The data centers of Puffin are in the US and the cloud servers can only access public web sites from US geolocations.\\r\\n* For users outside the US, local contents, especially videos of local interest, may not be accessible from the US due to geo-restrictions in their home countries.\\r\\n* Puffin is blocked in some countries (e.g., China, Saudi Arabia, United Arab Emirates) and by some schools (e.g., in United States).                                                                                                                                                                                                                                                                                                                                                                                                                                                                                                                                                                                                                                                                                                                                                                                                                                                                                                                                                                                                                                                                                                                                                                                                                                                                                                                                                                                                                                                                                                                                                                                                                                                                                                                                                                                                                                                                                                                                                                                                                                                                                                                                                                                                                                                                                                                                                                                                                                                                                                            53\n",
       "Puffin TV Browser is a special edition of Puffin Web Browser optimized for the Android TV. For light users, it is absolutely free. For heavy users, it requires IAP.\\r\\n\\r\\nWhy we need to install one video app for each video channel on Android TV? PC users can watch all videos from any web browser on their PC. What if we can have a web browser optimized for the Android TV?\\r\\n\\r\\nPuffin TV Browser removes the traditional web browser UI for a fully immersed Android TV experience. Puffin UI is kept as subtle and intuitive as possible. For example, Puffin TV automatically recommends most popular sites for users. It has never been easier to share a page from your smart phone to Puffin TV Browser.\\r\\n\\r\\nFurthermore, Puffin TV chatbot allows you to interact with your Puffin TV browser via Facebook Messenger easily. It is intuitive, minimalist, and highly functional.\\r\\n\\r\\n☆ Incredible page load and rendering speed\\r\\n☆ Optimized video playback\\r\\n☆ Intuitive app navigation design\\r\\n☆ Sharing pages to Puffin TV Browser from any devices\\r\\n☆ Full web experience\\r\\n☆ Fastest JavaScript engine\\r\\n\\r\\n===== In-app purchase =====\\r\\n* The service is provided with limited free usage quota everyday.\\r\\n* Users can pay for unlimited usage quota with in-app purchase.\\r\\n\\r\\n===== Limitations =====\\r\\n* The data centers of Puffin are in the US and the cloud servers can only access public web sites from US geolocations.\\r\\n* For users outside the US, local contents, especially videos of local interest, may not be accessible from the US due to geo-restrictions in their home countries.\\r\\n* Puffin is blocked in some countries (e.g., China, Saudi Arabia, United Arab Emirates) and by some schools (e.g., in United States).                                                                                                                                                                                                                                                                                                                                                                                                                                                                                                                                                                                                                                                                                                                                                                                                                                                                                                                                                                                                                                                                                                                                                                                                                                                                                                                                                                                                                                                                                                                                                                                                                                                                                                                                                                                                                                                                                                                                                                                                                                                                                                                                                                                                                                                                                                                                                                                                                             53\n",
       "Puffin TV Browser is a special edition of Puffin Web Browser optimized for the Android TV. For light users, it is absolutely free. For heavy users, it requires subscription through In-App-Purchase.\\r\\n\\r\\nPC users can watch all videos from the web browser on their PC. Why do we need to install one video app for each video channel on Android TV? What if we can have a web browser optimized for the Android TV?\\r\\n\\r\\nPuffin TV Browser removes the traditional web browser UI for a fully immersed Android TV experience. Furthermore, Puffin TV Chabot allows users to interact with their Puffin TV via Facebook Messenger.\\r\\n\\r\\n☆ Incredible page load and rendering speed\\r\\n☆ Optimized video playback\\r\\n☆ Intuitive app navigation design\\r\\n☆ Sharing pages to Puffin TV Browser from any devices\\r\\n☆ Full web experience\\r\\n☆ Fastest JavaScript engine\\r\\n\\r\\n===== In-app purchase =====\\r\\n* The service is provided with limited free usage quota everyday.\\r\\n* Users can pay for unlimited usage quota with in-app purchase.\\r\\n\\r\\n===== Limitations =====\\r\\n* The data centers of Puffin are in the US and the cloud servers can only access public web sites from US geolocations.\\r\\n* For users outside the US, local contents, especially videos of local interest, may not be accessible from the US due to geo-restrictions in their home countries.\\r\\n* Puffin is blocked in some countries (e.g., China, Saudi Arabia, United Arab Emirates) and by some schools (e.g., in United States).                                                                                                                                                                                                                                                                                                                                                                                                                                                                                                                                                                                                                                                                                                                                                                                                                                                                                                                                                                                                                                                                                                                                                                                                                                                                                                                                                                                                                                                                                                                                                                                                                                                                                                                                                                                                                                                                                                                                                                                                                                                                                                                                                                                                                                                                                                                                                                                                                                                                                                                                                                                                                                                                                           53\n",
       "Puffin TV Browser is a special edition of Puffin Web Browser optimized for the Android TV.\\r\\n\\r\\nWhy we need to install one video app for each video channel on Android TV? PC users can watch all videos from any web browser on their PC. What if we can have a web browser optimized for the Android TV?\\r\\n\\r\\nPuffin TV Browser removes the traditional web browser UI for a fully immersed Android TV experience. Puffin UI is kept as subtle and intuitive as possible. For example, Puffin TV automatically recommends most popular sites for users. It has never been easier to share a page from your smart phone to Puffin TV Browser.\\r\\n\\r\\n☆ Incredible page load and rendering speed\\r\\n☆ Optimized video playback\\r\\n☆ Intuitive app navigation design\\r\\n☆ Sharing pages to Puffin TV Browser from any devices\\r\\n☆ Full web experience\\r\\n☆ Fastest JavaScript engine\\r\\n\\r\\n===== In-app purchase =====\\r\\n* The service is provided with limited free usage everyday.\\r\\n* Users may choose to unlock limited access via in-app purchase.\\r\\n\\r\\n===== Limitations =====\\r\\n* The data centers of Puffin are in the US and the cloud servers can only access public web sites from US geolocations.\\r\\n* For users outside the US, local contents, especially videos of local interest, may not be accessible from the US due to geo-restrictions in their home countries.\\r\\n* Puffin is blocked in some countries (e.g., China, Saudi Arabia, United Arab Emirates) and by some schools (e.g., in United States).                                                                                                                                                                                                                                                                                                                                                                                                                                                                                                                                                                                                                                                                                                                                                                                                                                                                                                                                                                                                                                                                                                                                                                                                                                                                                                                                                                                                                                                                                                                                                                                                                                                                                                                                                                                                                                                                                                                                                                                                                                                                                                                                                                                                                                                                                                                                                                                                                                                                                                                                                                                                                                                                                        53\n",
       "One of the smallest, fastest, secure Web Browser; \\r\\nIt is specifically designed for mobile phones and tablet, brings you an amazing Premium web experience.\\r\\n\\r\\nIt is based off the Android WebKit Engine.\\r\\n\\r\\nKey Features:\\r\\n- Tabbed Internet Browsing\\r\\n- Incognito Mode. Private browse the web without saving any browser history.\\r\\n- Supports Adobe Flash Player \\r\\n- The fastest Start Times: View web pages quicker on your phone\\r\\n- Block Ads\\r\\n- Homepage: Add favorite links to your homepage with a single click and access sites easily from your mobile desktop;\\r\\n- Bookmarks\\r\\n- History\\r\\n- Find in Page\\r\\n- Super easy copy/paste\\r\\n- Small Footprint\\r\\n- Full-screen mode\\r\\n- Quick search: most popular default search engines\\r\\n- User Agent settings\\r\\n- Advanced Gesture feature\\r\\n- Sharing - Super-easy and intuitive ways to share mobile contents through social media channels.\\r\\n- Advanced Settings\\r\\n- Uses the Native JavaScript and WebKit Engine so file size is smaller\\r\\n- Custom download location\\r\\n\\r\\nIt is a high-performance small-sized Internet browser built for those who don't want the cumbersome size of other Browser. \\r\\nWeb Browser with the latest security and privacy features to help you stay safe on the internet.\\r\\nWe wish you can have the best web surfing experience for using Web Browser.                                                                                                                                                                                                                                                                                                                                                                                                                                                                                                                                                                                                                                                                                                                                                                                                                                                                                                                                                                                                                                                                                                                                                                                                                                                                                                                                                                                                                                                                                                                                                                                                                                                                                                                                                                                                                                                                                                                                                                                                                                                                                                                                                                                                                                                                                                                                                                                                                                                                                                                                                                                                                                                                                                                                                                                                                                     21\n",
       "Opera is a fast, safe web browser for your Android device, featuring a rebooted news feed, built-in Ad blocker, free VPN and a QR & Barcode scanner. \\r\\n\\r\\n\\r\\n★ Top features ★ \\r\\n\\r\\n● Free, unlimited and built-in VPN: \\r\\n\\r\\nImprove your privacy and security with our built-in and free VPN. Turn on Opera VPN in the setting and your IP address will be replaced with a virtual one to help you avoid unintended location and identification information sharing. You can also switch to different virtual locations.\\r\\n\\r\\n● Block ads for faster browsing: \\r\\n\\r\\nOpera’s native ad blocker effectively helps you get rid of intrusive ads and loads your pages faster to streamline your browsing experience.  Now, we have added the option to eliminate a vast majority of annoying cookie and privacy dialogs. \\r\\n\\r\\n● Flow - seamlessly connects all your devices: \\r\\n\\r\\nThe popular Flow feature lets the files, links or images that you share immediately appear on all your Flow-enabled devices, allowing you to seamlessly switch between your iPhone, Android phone, tablet and computer.\\r\\n\\r\\n● Built-in QR & Barcode scanner: \\r\\n\\r\\nEasily access the built-in QR & barcode scanner. Simply tap the search bar and the scanner is available on the right side. Point the camera at any QR-code/barcode, and it will be scanned automatically.\\r\\n\\r\\n● Personalized news feed: \\r\\n\\r\\nPowered by our smartest AI news engine, the rebooted news feed allows you to swipe through a selection of personalized news channels within the browser, subscribe to your favorite topics, and save stories to read later.\\r\\n\\r\\n● Night mode:\\r\\n\\r\\nOpera’s night mode provides you adjustable lighting options to get the most comfortable reading experience in the dark and the least eye strain. Night mode is easily accessible from the main menu. \\r\\n\\r\\n● Manage passwords and autofill credit cards:\\r\\n\\r\\nOpt in for automatic saving of passwords site by site and safely autofill your payment information for online shopping. \\r\\n\\r\\n● Private browsing: \\r\\n\\r\\nUse private tabs to go incognito anywhere on the Internet without leaving a trace on your device. Easily switch between private and normal browsing in the tab gallery.\\r\\n\\r\\n● Read comfortably on any screen: \\r\\n\\r\\nThe Opera browser includes a text size setting which helps you adapt pages according to your reading preferences. More importantly, it works perfectly together with our automatic text wrap feature for an unparalleled reading experience.\\r\\n\\r\\n● Manage downloads easily: \\r\\n\\r\\nOur new download manager makes downloading files easier and faster than ever! You can easily sort and share each downloaded item, delete them from your phone or remove them from your list of downloads with a quick swipe to the right or left side.  We even support background downloading when you have a download running but need to open another application!\\r\\n\\r\\n● Home screen shortcuts:\\r\\n\\r\\nAvailable on Android versions 7.1 or later, Opera offers fast access from the home screen to search, open a new private tab or scan QR codes. To create your own home screen shortcut, long tap on the Opera icon in your device’s home screen and tap your desired function. \\r\\n\\r\\n● Sync your Opera devices: \\r\\n\\r\\nGive yourself access to all your bookmarks, Speed Dial shortcuts and open tabs from your other devices with Opera. Opera on Android can now easily sync with the Opera browser for computers.\\r\\n\\r\\n● Browser startup options:\\r\\n\\r\\nEveryone is individual, so we let you choose whether to always open the browser with a new tab or to continue browsing where you left off, and to choose to close or preserve your open tabs when you exit the browser.\\r\\n\\r\\nOpera may show ads from Facebook. To learn more, see: https://m.facebook.com/ads/ad_choices\\r\\n\\r\\nTerms & Conditions:\\r\\nBy downloading this application, you are agreeing to the End User Licence Agreement at https://www.opera.com/eula/mobile. Also, you can learn how Opera handles and protects your data in our Privacy Statement at https://www.opera.com/privacy.     19\n",
       "Fast, safe and private, introducing the latest version of the Opera web browser made to make your life easier online. Featuring a built-in Ad Blocker and Free VPN with a clean and user-friendly design letting you get more done online, in less time. Download now and join over 350 million fans across the world using Opera.\\r\\n\\r\\n Ad blocker for safe & fast browsing \\r\\nOpera’s native ad blocker effectively helps you get rid of thousands of intrusive ads and loads your pages faster to streamline your browsing experience. Now, we have added the option to eliminate a vast majority of annoying cookie and privacy dialogs also. \\r\\n\\r\\nFree built-in VPN \\r\\nImprove your privacy and security on public networks with our built-in browser VPN. The unlimited and free VPN lets you avoid sharing your location and identity, staying anonymous and safe online. You can also switch to different virtual locations if needed for extra browser security. \\r\\n\\r\\nPrivate browser \\r\\nUse private tabs to go incognito anywhere on the Internet without leaving a trace on your device. Easily switch between normal and private browsing in the tab gallery.\\r\\n\\r\\nSave data and time\\r\\nOn a slow connection? Or want to save data? Switch to data saver mode to load pages faster than ever on slow networks. Powered by our famous compression technology, the Opera browser works hard to save up to of your data without breaking your browsing experience.\\r\\n\\r\\nPersonalized news feed \\r\\nPowered by our smartest AI news engine, the rebooted news feed allows you to swipe through a selection of personalized news channels within the browser, subscribe to your favorite topics, and save stories to read later.\\r\\n\\r\\nNight mode\\r\\nOpera’s night mode provides you adjustable lighting options to get the most comfortable reading experience in the dark and the least eye strain. Night mode is easily accessible from the main menu. \\r\\n\\r\\nManage your passwords and autofill credit cards\\r\\nOpt in for automatic saving of passwords site by site and safely autofill your payment information for safe and private online shopping. \\r\\n\\r\\nRead comfortably on any screen: \\r\\nThe Opera browser includes a text size setting which helps you adapt pages according to your reading preferences. More importantly, it works perfectly together with our automatic text wrap feature for an unparalleled reading experience.\\r\\n\\r\\nFlow - seamlessly connects all your devices: \\r\\nThe popular Flow feature lets the files, links or images that you share immediately appear on all your Flow-enabled devices, allowing you to seamlessly switch between your iPhone, Android phone, tablet and computer. Sync all your Opera accounts across Devices as well! \\r\\n\\r\\nAbout Opera\\r\\nFounded 1995 in Norway on the idea that everyone should be able to browse the web, we have spent the last +25 years helping millions of people access the internet in a safe, private and innovative way. We care about the internet, about open standards, and about people. \\r\\n\\r\\nTerms & Conditions:\\r\\nBy downloading this application, you are agreeing to the End User Licence Agreement at https://www.opera.com/eula/mobile.                                                                                                                                                                                                                                                                                                                                                                                                                                                                                                                                                                                                                                                                                                                                                                                                                                                                                                                                               19\n",
       "Tired of being tracked online? We can help. At DuckDuckGo, we believe online privacy should be simple.\\r\\n\\r\\nDuckDuckGo Privacy Browser has the speed you need, the browsing features you expect (like tabs & bookmarks), and comes packed with best-in-class privacy essentials:\\r\\n\\r\\nTap Fire Button, Burn Data — clear all your tabs and browsing data with one tap. \\r\\n\\r\\nEscape Online Tracking — automatically block hidden third-party trackers we can find lurking on websites you visit, which stops the companies behind those trackers from collecting and selling your data. \\r\\n\\r\\nSearch Privately — our private search engine comes built-in so you can search the Internet without being tracked.\\r\\n\\r\\nEnforce Encryption — force sites to use an encrypted (HTTPS) connection where available, protecting your data from prying eyes, like from unwanted snoopers and Internet service providers.\\r\\n\\r\\nDecode Privacy — each site you visit gets a Privacy Grade (A-F) so you can see how protected you are at a glance, and you can even dig into the details to see who we caught trying to track you. \\r\\n\\r\\nPrivacy, simplified.\\r\\n\\r\\nAbout Us: https://duckduckgo.com/about/\\r\\nDevice Privacy: https://spreadprivacy.com/tag/device-privacy-tips/ \\r\\nPrivacy Newsletter: https://duckduckgo.com/newsletter \\r\\nPrivacy Policy: https://duckduckgo.com/privacy/\\r\\nOpen Source: https://github.com/duckduckgo/Android                                                                                                                                                                                                                                                                                                                                                                                                                                                                                                                                                                                                                                                                                                                                                                                                                                                                                                                                                                                                                                                                                                                                                                                                                                                                                                                                                                                                                                                                                                                                                                                                                                                                                                                                                                                                                                                                                                                                                                                                                                                                                                                                                                                                                                                                                                                                                                                                                                                                                                                                                                                                                                                                                                                                                                        6\n",
       "Tired of being tracked online? We can help. At DuckDuckGo, we believe online privacy should be simple.\\r\\n\\r\\nDuckDuckGo Privacy Browser has the speed you need, the browsing features you expect (like tabs & bookmarks), and comes packed with best-in-class privacy essentials:\\r\\n\\r\\nTap Fire Button, Burn Data — clear all your tabs and browsing data with one tap. \\r\\n\\r\\nEscape Online Tracking — automatically block hidden third-party trackers we can find lurking on websites you visit, which stops the companies behind those trackers from collecting and selling your data. \\r\\n\\r\\nSearch Privately — our private search engine comes built-in so you can search the Internet without being tracked.\\r\\n\\r\\nEnforce Encryption — force sites to use an encrypted (HTTPS) connection where available, protecting your data from prying eyes, like from unwanted snoopers and Internet service providers.\\r\\n\\r\\nDecode Privacy — each site you visit gets a Privacy Grade (A-F) so you can see how protected you are at a glance, and you can even dig into the details to see who we caught trying to track you. \\r\\n\\r\\nSignal Your Privacy Preference with GPC — with Global Privacy Control (GPC) built in, you'll invoke your legal privacy rights (e.g., under CCPA, GDPR) by telling websites not to sell or share your personal data by default.\\r\\n\\r\\nPrivacy, simplified.\\r\\n\\r\\nAbout Us: https://duckduckgo.com/about/\\r\\nDevice Privacy: https://spreadprivacy.com/tag/device-privacy-tips/ \\r\\nPrivacy Newsletter: https://duckduckgo.com/newsletter \\r\\nPrivacy Policy: https://duckduckgo.com/privacy/\\r\\nOpen Source: https://github.com/duckduckgo/Android                                                                                                                                                                                                                                                                                                                                                                                                                                                                                                                                                                                                                                                                                                                                                                                                                                                                                                                                                                                                                                                                                                                                                                                                                                                                                                                                                                                                                                                                                                                                                                                                                                                                                                                                                                                                                                                                                                                                                                                                                                                                                                                                                                                                                                                                                                                                                                                                                                                                                                                                  6\n",
       "Google Chrome is a fast, easy to use, and secure web browser. Designed for Android, Chrome brings you personalized news articles, quick links to your favorite sites, downloads, and Google Search and Google Translate built-in. Download now to enjoy the same Chrome web browser experience you love across all your devices.\\r\\n        \\r\\n        Browse fast and type less. Choose from personalized search results that instantly appear as you type and quickly browse previously visited web pages. Fill in forms quickly with Autofill.\\r\\n        \\r\\n        Incognito Browsing. Use Incognito mode to browse the internet without saving your history. Browse privately across all your devices.\\r\\n        \\r\\n        Sync Chrome Across Devices. When you sign into Chrome, your bookmarks, passwords, and settings will be automatically synced across all your devices. You can seamlessly access all your information from your phone, tablet, or laptop.\\r\\n        \\r\\n        All your favorite content, one tap away. Chrome is not just fast for Google Search, but designed so you are one tap away from all your favorite content. You can tap on your favorite news sites or social media directly from the new tab page. Chrome also has the “Tap to Search”- feature on most webpages. You can tap on any word or phrase to start a Google search while still in the page you are enjoying.\\r\\n        \\r\\n        Protect your phone with Google Safe Browsing. Chrome has Google Safe Browsing built-in. It keeps your phone safe by showing warnings to you when you attempt to navigate to dangerous sites or download dangerous files.\\r\\n        \\r\\n        Fast downloads and view web pages and videos offline Chrome has a dedicated download button, so you can easily download videos, pictures, and entire webpages with just one tap. Chrome also has downloads home right inside Chrome, where you can access all the content you downloaded, even when you are offline.\\r\\n        \\r\\n        Google Voice Search. Chrome gives you an actual web browser you can talk to. Use your voice to find answers on-the-go without typing and go hands free. You can browse and navigate quicker using your voice anywhere, anytime.\\r\\n        \\r\\n        Google Translate built-in: Quickly translate entire web pages. Chrome has Google Translate built in to help you to translate entire web to your own language with one tap.\\r\\n        \\r\\n        Use less mobile data and speed up the web. Turn on Lite mode and use up to 60% less data. Chrome can compress text, images, videos, and websites without lowering the quality.\\r\\n        \\r\\n        Smart personalized recommendations. Chrome creates an experience that is tailored to your interests.  On the new tab page, you will find articles that Chrome selected based on your previous browsing history.                                                                                                                                                                                                                                                                                                                                                                                                                                                                                                                                                                                                                                                                                                                                                                                                                                                                                                                                                                                                                                                                                                                                                                                                                                                                                                      6\n",
       "Name: Long Description, dtype: int64"
      ]
     },
     "execution_count": 257,
     "metadata": {},
     "output_type": "execute_result"
    }
   ],
   "source": [
    "data[data['Rank']==2]['Long Description'].value_counts()"
   ]
  },
  {
   "cell_type": "code",
   "execution_count": 242,
   "id": "815cd7e8",
   "metadata": {},
   "outputs": [
    {
     "data": {
      "text/plain": [
       "Phoenix Browser is a fast, safe web browser for your Android device, featuring a local news feed and FREE movie resources.\\r\\n\\r\\n✪Main features✪\\r\\n\\r\\nPhoenix browser loads your webpages 2x faster, Saves 90% of your data and enables smooth browsing on slow networks, Downloads all-format videos and social media clips at lightning speed. \\r\\n\\r\\n★Fast Browsing and Downloads: Access websites, download multiple files (videos, audio, documents and more) with the speed of light. Download online videos easily from lots of websites: Facebook、Instagram and etc.\\r\\n\\r\\n★Smart Video Downloader and Video Player: Automatically detects videos from any website for you to download in one click. Optimized video player for the best watching experience.\\r\\n\\r\\n★WhatsApp Status Saver plugin: Save your friends whatsapp status easily and safely.\\r\\n\\r\\n★Powerful File Manager\\r\\nEasily WhatsApp status saving and powerful file manager. Support more than 50 file formats, such as word, excel, ppt, pdf, etc. \\r\\n\\r\\n★Ad Block: Block annoying adverts and popups, save time and increase loading speed.\\r\\n\\r\\n★Data Saver: Stream movies, download files, browse more with less data on any website.\\r\\n \\r\\nFeatures:\\r\\n★Super Downloader\\r\\nPhoenix Browser can automatically detect downloadable videos with the smart detection function while you browse the web, which allows you to download and save online videos from almost every website. You can also download through BitTorrent and Magnet. With a download icon in the website, Phoenix Browser will inform the user whether there are online videos that the user can download or not. It’s very simple to download videos by using the smart download function. (!!!Download on YouTube is not available due to the policy of Google!!!)\\r\\n  \\r\\n★Incognito Browsing\\r\\nIncognito tab makes your browsing experience perfectly private without leaving any history, cookies, cache, etc. \\r\\n \\r\\n★Ad Block\\r\\nAd Block blocks various forms of annoying ads, pop-ups and banners to make your browsing comfortable. It not only speeds up the page loading speed but also reduces Internet data usage.\\r\\n \\r\\n★Bookmarks/History\\r\\nBookmarks help save your favorite websites and provide quick navigation for revisiting later on. History list helps with recollection. Both will save you time looking for your favorite websites.\\r\\n \\r\\n★Data Saving\\r\\nPhoenix Browser could compress data, speed up navigation and help you save a lot of cellular data traffic. \\r\\n \\r\\n★Add To Shortcut\\r\\nAdd your favorite websites like Facebook, Twitter, Instagram, YouTube, Amazon, Wikipedia, etc., for quick access.\\r\\n  \\r\\n★Built-in Video Player\\r\\nThe built-in video player provides a one-stop service from video downloading to video playing. You can watch videos directly without exiting the app.\\r\\n \\r\\n★Search Engines\\r\\nSwitch search engines according to your preference. We support Google, Yahoo, Ask, Yandex, AOL, DuckDuckGo and Bing.\\r\\n \\r\\n★Multi-Tab Manager\\r\\nEasy switching of pages from multiple websites. Using multi-tab manager will make your browsing experience smoother.\\r\\n \\r\\n★No Image Mode\\r\\nNo Image Mode disables image and video loading to save data on a poor network connection.\\r\\n \\r\\n★Night/Bright Mode\\r\\nNight Mode protects your eyes when browsing in darkness. Bright mode prevents the screen from going dark.\\r\\n \\r\\n★Switch to PC Website\\r\\nSupport cross-device browsing, i.e. from mobile to PC browser mode.\\r\\n  \\r\\n★Find in Page/Translate\\r\\nSearch to find whatever you need in website pages, and translation function is supported.\\r\\n \\r\\nFacebook Fan Page\\r\\nhttps://www.facebook.com/PhoenixBrowser/    15\n",
       "Vivaldi is a new private web browser with an integrated ad blocker, tracking protection, and useful built-in features. Browse with unique desktop-style tabs, end-to-end encrypted sync, dark & private mode. Download for free and browse fast, take notes in the browser, and capture full-length screenshots.\\r\\n\\r\\n⛔️ Block ads and trackers\\r\\nBlock ads and stop trackers from following you around the web to browse more privately and securely. Keep privacy ahead and say goodbye to annoying video ads, pop ups, and creepy trackers while browsing with Vivaldi.\\r\\n\\r\\nPlay with a flexible user interface\\r\\nGive your browser a look that's uniquely yours with Vivaldi’s flexible user interface (UI). Browse with dark/light modes using new desktop-style tabs, and keep go-to tools within easy reach.\\r\\n\\r\\n🕵️‍♂️ Private browsing\\r\\nKeep your browsing history discreet using incognito private tabs – searches, sites visited, cookies and temporary files won't be stored by Vivaldi. \\r\\n\\r\\n🛠 Manage tabs with ease\\r\\nQuickly swipe to find open tabs, private incognito tabs and tabs you’ve recently closed in the browser or have open on another synced device. \\r\\n\\r\\n🔄 Bring your data with you\\r\\nSecurely sync your passwords, Bookmarks, Notes and keep your browsing data private between devices using end-to-end encryption with own servers in Iceland.\\r\\n\\r\\n🏃‍♀️ Get there faster\\r\\nKeep your favorite sites just a tap away and browse faster by adding custom Speed Dials to the new tab page.\\r\\n\\r\\n📝 Take notes\\r\\nJot down ideas by creating Notes as you browse the web and sync them securely between your devices.\\r\\n\\r\\n📸 Snap screenshots\\r\\nCapture a full-length screenshot of any website or take a snap of the visible area of any webpage while browsing. Share away. \\r\\n\\r\\n🔎 Switch search engines instantly\\r\\nUse search engine nicknames to quickly swap search engines while typing in Vivaldi’s Address Field. For example, type \"d\" to select DuckDuckGo or \"w\" for Wikipedia.\\r\\n\\r\\n🕹 Have fun and play Vivaldia\\r\\nVivaldia is a real 80s-style arcade runner game built into the Vivaldi browser. Play it both online and offline on your mobile and desktop. Includes gamepad support.\\r\\n\\r\\nVivaldi Browser features\\r\\n• Free Private Browser\\r\\n• Encrypted sync\\r\\n• Ad blocker\\r\\n• Screen capture\\r\\n• Speed dial shortcuts for favorites\\r\\n• Notes with rich text support\\r\\n• Private tabs\\r\\n• Dark mode\\r\\n• Bookmarks manager\\r\\n• Recently closed tabs\\r\\n• Search engine nicknames\\r\\n• Reader mode\\r\\n• Clone tab\\r\\n• Downloads manager\\r\\n\\r\\nDownload for free and browse faster with the new Vivaldi web browser. Leave a review about the browser and its features and let us know what you think. \\r\\n\\r\\nAbout Vivaldi Web Browser\\r\\nWe believe that many people want to customize and tweak every square inch of their web browser to make it their own. They want to access useful tools without sacrificing speed, privacy or security. And they want to be heard.\\r\\n\\r\\nThat's why we’re building a browser that is fast, powerful and flexible. A browser that respects your privacy and does not track you. A browser that adapts to you, not the other way around. \\r\\n\\r\\nVivaldi web browser is also available for free on desktops running Windows, macOS, and Linux. \\r\\n\\r\\nLearn more about Vivaldi browser and our mission by visiting https://vivaldi.com                                                                                                                                                                                                                                                                                                                10\n",
       "Tired of being tracked online? We can help. At DuckDuckGo, we believe online privacy should be simple.\\r\\n\\r\\nDuckDuckGo Privacy Browser has the speed you need, the browsing features you expect (like tabs & bookmarks), and comes packed with best-in-class privacy essentials:\\r\\n\\r\\nTap Fire Button, Burn Data — clear all your tabs and browsing data with one tap. \\r\\n\\r\\nEscape Online Tracking — automatically block hidden third-party trackers we can find lurking on websites you visit, which stops the companies behind those trackers from collecting and selling your data. \\r\\n\\r\\nSearch Privately — our private search engine comes built-in so you can search the Internet without being tracked.\\r\\n\\r\\nEnforce Encryption — force sites to use an encrypted (HTTPS) connection where available, protecting your data from prying eyes, like from unwanted snoopers and Internet service providers.\\r\\n\\r\\nDecode Privacy — each site you visit gets a Privacy Grade (A-F) so you can see how protected you are at a glance, and you can even dig into the details to see who we caught trying to track you. \\r\\n\\r\\nSignal Your Privacy Preference with GPC — with Global Privacy Control (GPC) built in, you'll invoke your legal privacy rights (e.g., under CCPA, GDPR) by telling websites not to sell or share your personal data by default.\\r\\n\\r\\nPrivacy, simplified.\\r\\n\\r\\nAbout Us: https://duckduckgo.com/about/\\r\\nDevice Privacy: https://spreadprivacy.com/tag/device-privacy-tips/ \\r\\nPrivacy Newsletter: https://duckduckgo.com/newsletter \\r\\nPrivacy Policy: https://duckduckgo.com/privacy/\\r\\nOpen Source: https://github.com/duckduckgo/Android                                                                                                                                                                                                                                                                                                                                                                                                                                                                                                                                                                                                                                                                                                                                                                                                                                                                                                                                                                                                                                                                                                                                                                                                                                                                                                                                                                                                                                                                                                                                                                                                                                                                                                                                                                                                                                                                                                                                                                                                                                                                                                 3\n",
       "Tired of being tracked online? We can help. At DuckDuckGo, we believe online privacy should be simple.\\r\\n\\r\\nDuckDuckGo Privacy Browser has the speed you need, the browsing features you expect (like tabs & bookmarks), and comes packed with best-in-class privacy essentials:\\r\\n\\r\\nTap Fire Button, Burn Data — clear all your tabs and browsing data with one tap. \\r\\n\\r\\nEscape Online Tracking — automatically block hidden third-party trackers we can find lurking on websites you visit, which stops the companies behind those trackers from collecting and selling your data. \\r\\n\\r\\nSearch Privately — our private search engine comes built-in so you can search the Internet without being tracked.\\r\\n\\r\\nEnforce Encryption — force sites to use an encrypted (HTTPS) connection where available, protecting your data from prying eyes, like from unwanted snoopers and Internet service providers.\\r\\n\\r\\nDecode Privacy — each site you visit gets a Privacy Grade (A-F) so you can see how protected you are at a glance, and you can even dig into the details to see who we caught trying to track you. \\r\\n\\r\\nPrivacy, simplified.\\r\\n\\r\\nAbout Us: https://duckduckgo.com/about/\\r\\nDevice Privacy: https://spreadprivacy.com/tag/device-privacy-tips/ \\r\\nPrivacy Newsletter: https://duckduckgo.com/newsletter \\r\\nPrivacy Policy: https://duckduckgo.com/privacy/\\r\\nOpen Source: https://github.com/duckduckgo/Android                                                                                                                                                                                                                                                                                                                                                                                                                                                                                                                                                                                                                                                                                                                                                                                                                                                                                                                                                                                                                                                                                                                                                                                                                                                                                                                                                                                                                                                                                                                                                                                                                                                                                                                                                                                                                                                                                                                                                                                                                                                                                                                                                                                                                                                                                                                                       3\n",
       "Google Chrome is a fast, easy to use, and secure web browser. Designed for Android, Chrome brings you personalized news articles, quick links to your favorite sites, downloads, and Google Search and Google Translate built-in. Download now to enjoy the same Chrome web browser experience you love across all your devices.\\r\\n        \\r\\n        Browse fast and type less. Choose from personalized search results that instantly appear as you type and quickly browse previously visited web pages. Fill in forms quickly with Autofill.\\r\\n        \\r\\n        Incognito Browsing. Use Incognito mode to browse the internet without saving your history. Browse privately across all your devices.\\r\\n        \\r\\n        Sync Chrome Across Devices. When you sign into Chrome, your bookmarks, passwords, and settings will be automatically synced across all your devices. You can seamlessly access all your information from your phone, tablet, or laptop.\\r\\n        \\r\\n        All your favorite content, one tap away. Chrome is not just fast for Google Search, but designed so you are one tap away from all your favorite content. You can tap on your favorite news sites or social media directly from the new tab page. Chrome also has the “Tap to Search”- feature on most webpages. You can tap on any word or phrase to start a Google search while still in the page you are enjoying.\\r\\n        \\r\\n        Protect your phone with Google Safe Browsing. Chrome has Google Safe Browsing built-in. It keeps your phone safe by showing warnings to you when you attempt to navigate to dangerous sites or download dangerous files.\\r\\n        \\r\\n        Fast downloads and view web pages and videos offline Chrome has a dedicated download button, so you can easily download videos, pictures, and entire webpages with just one tap. Chrome also has downloads home right inside Chrome, where you can access all the content you downloaded, even when you are offline.\\r\\n        \\r\\n        Google Voice Search. Chrome gives you an actual web browser you can talk to. Use your voice to find answers on-the-go without typing and go hands free. You can browse and navigate quicker using your voice anywhere, anytime.\\r\\n        \\r\\n        Google Translate built-in: Quickly translate entire web pages. Chrome has Google Translate built in to help you to translate entire web to your own language with one tap.\\r\\n        \\r\\n        Use less mobile data and speed up the web. Turn on Lite mode and use up to 60% less data. Chrome can compress text, images, videos, and websites without lowering the quality.\\r\\n        \\r\\n        Smart personalized recommendations. Chrome creates an experience that is tailored to your interests.  On the new tab page, you will find articles that Chrome selected based on your previous browsing history.                                                                                                                                                                                                                                                                                                                                                                                                                                                                                                                                                                                                                                                                                                                                                                                                                                                                     2\n",
       "Name: Long Description, dtype: int64"
      ]
     },
     "execution_count": 242,
     "metadata": {},
     "output_type": "execute_result"
    }
   ],
   "source": [
    "data[data['Rank']==20]['Long Description'].value_counts()"
   ]
  },
  {
   "cell_type": "code",
   "execution_count": 254,
   "id": "0c70b898",
   "metadata": {},
   "outputs": [
    {
     "data": {
      "text/html": [
       "<div>\n",
       "<style scoped>\n",
       "    .dataframe tbody tr th:only-of-type {\n",
       "        vertical-align: middle;\n",
       "    }\n",
       "\n",
       "    .dataframe tbody tr th {\n",
       "        vertical-align: top;\n",
       "    }\n",
       "\n",
       "    .dataframe thead th {\n",
       "        text-align: right;\n",
       "    }\n",
       "</style>\n",
       "<table border=\"1\" class=\"dataframe\">\n",
       "  <thead>\n",
       "    <tr style=\"text-align: right;\">\n",
       "      <th>Rank</th>\n",
       "      <th>1</th>\n",
       "      <th>2</th>\n",
       "      <th>3</th>\n",
       "      <th>4</th>\n",
       "      <th>5</th>\n",
       "      <th>6</th>\n",
       "      <th>7</th>\n",
       "      <th>8</th>\n",
       "      <th>9</th>\n",
       "      <th>10</th>\n",
       "      <th>...</th>\n",
       "      <th>111</th>\n",
       "      <th>112</th>\n",
       "      <th>113</th>\n",
       "      <th>114</th>\n",
       "      <th>115</th>\n",
       "      <th>116</th>\n",
       "      <th>117</th>\n",
       "      <th>118</th>\n",
       "      <th>119</th>\n",
       "      <th>134</th>\n",
       "    </tr>\n",
       "    <tr>\n",
       "      <th>Date of Last Description Change</th>\n",
       "      <th></th>\n",
       "      <th></th>\n",
       "      <th></th>\n",
       "      <th></th>\n",
       "      <th></th>\n",
       "      <th></th>\n",
       "      <th></th>\n",
       "      <th></th>\n",
       "      <th></th>\n",
       "      <th></th>\n",
       "      <th></th>\n",
       "      <th></th>\n",
       "      <th></th>\n",
       "      <th></th>\n",
       "      <th></th>\n",
       "      <th></th>\n",
       "      <th></th>\n",
       "      <th></th>\n",
       "      <th></th>\n",
       "      <th></th>\n",
       "      <th></th>\n",
       "    </tr>\n",
       "  </thead>\n",
       "  <tbody>\n",
       "    <tr>\n",
       "      <th>2020-12-18</th>\n",
       "      <td>290.0</td>\n",
       "      <td>306.0</td>\n",
       "      <td>123.0</td>\n",
       "      <td>91.0</td>\n",
       "      <td>70.0</td>\n",
       "      <td>117.0</td>\n",
       "      <td>67.0</td>\n",
       "      <td>63.0</td>\n",
       "      <td>37.0</td>\n",
       "      <td>46.0</td>\n",
       "      <td>...</td>\n",
       "      <td>1.0</td>\n",
       "      <td>1.0</td>\n",
       "      <td>1.0</td>\n",
       "      <td>1.0</td>\n",
       "      <td>2.0</td>\n",
       "      <td>2.0</td>\n",
       "      <td>2.0</td>\n",
       "      <td>2.0</td>\n",
       "      <td>1.0</td>\n",
       "      <td>1.0</td>\n",
       "    </tr>\n",
       "    <tr>\n",
       "      <th>2021-01-21</th>\n",
       "      <td>18.0</td>\n",
       "      <td>53.0</td>\n",
       "      <td>20.0</td>\n",
       "      <td>19.0</td>\n",
       "      <td>8.0</td>\n",
       "      <td>9.0</td>\n",
       "      <td>10.0</td>\n",
       "      <td>2.0</td>\n",
       "      <td>4.0</td>\n",
       "      <td>3.0</td>\n",
       "      <td>...</td>\n",
       "      <td>NaN</td>\n",
       "      <td>NaN</td>\n",
       "      <td>NaN</td>\n",
       "      <td>NaN</td>\n",
       "      <td>NaN</td>\n",
       "      <td>NaN</td>\n",
       "      <td>NaN</td>\n",
       "      <td>NaN</td>\n",
       "      <td>NaN</td>\n",
       "      <td>NaN</td>\n",
       "    </tr>\n",
       "    <tr>\n",
       "      <th>2021-02-06</th>\n",
       "      <td>18.0</td>\n",
       "      <td>53.0</td>\n",
       "      <td>20.0</td>\n",
       "      <td>19.0</td>\n",
       "      <td>8.0</td>\n",
       "      <td>9.0</td>\n",
       "      <td>10.0</td>\n",
       "      <td>2.0</td>\n",
       "      <td>4.0</td>\n",
       "      <td>3.0</td>\n",
       "      <td>...</td>\n",
       "      <td>NaN</td>\n",
       "      <td>NaN</td>\n",
       "      <td>NaN</td>\n",
       "      <td>NaN</td>\n",
       "      <td>NaN</td>\n",
       "      <td>NaN</td>\n",
       "      <td>NaN</td>\n",
       "      <td>NaN</td>\n",
       "      <td>NaN</td>\n",
       "      <td>NaN</td>\n",
       "    </tr>\n",
       "    <tr>\n",
       "      <th>2021-02-07</th>\n",
       "      <td>18.0</td>\n",
       "      <td>53.0</td>\n",
       "      <td>20.0</td>\n",
       "      <td>19.0</td>\n",
       "      <td>8.0</td>\n",
       "      <td>9.0</td>\n",
       "      <td>10.0</td>\n",
       "      <td>2.0</td>\n",
       "      <td>4.0</td>\n",
       "      <td>3.0</td>\n",
       "      <td>...</td>\n",
       "      <td>NaN</td>\n",
       "      <td>NaN</td>\n",
       "      <td>NaN</td>\n",
       "      <td>NaN</td>\n",
       "      <td>NaN</td>\n",
       "      <td>NaN</td>\n",
       "      <td>NaN</td>\n",
       "      <td>NaN</td>\n",
       "      <td>NaN</td>\n",
       "      <td>NaN</td>\n",
       "    </tr>\n",
       "    <tr>\n",
       "      <th>2021-02-13</th>\n",
       "      <td>214.0</td>\n",
       "      <td>6.0</td>\n",
       "      <td>NaN</td>\n",
       "      <td>NaN</td>\n",
       "      <td>6.0</td>\n",
       "      <td>52.0</td>\n",
       "      <td>12.0</td>\n",
       "      <td>5.0</td>\n",
       "      <td>1.0</td>\n",
       "      <td>NaN</td>\n",
       "      <td>...</td>\n",
       "      <td>NaN</td>\n",
       "      <td>NaN</td>\n",
       "      <td>NaN</td>\n",
       "      <td>NaN</td>\n",
       "      <td>NaN</td>\n",
       "      <td>NaN</td>\n",
       "      <td>NaN</td>\n",
       "      <td>NaN</td>\n",
       "      <td>NaN</td>\n",
       "      <td>NaN</td>\n",
       "    </tr>\n",
       "    <tr>\n",
       "      <th>2021-02-27</th>\n",
       "      <td>4.0</td>\n",
       "      <td>19.0</td>\n",
       "      <td>31.0</td>\n",
       "      <td>22.0</td>\n",
       "      <td>25.0</td>\n",
       "      <td>17.0</td>\n",
       "      <td>13.0</td>\n",
       "      <td>8.0</td>\n",
       "      <td>6.0</td>\n",
       "      <td>5.0</td>\n",
       "      <td>...</td>\n",
       "      <td>NaN</td>\n",
       "      <td>NaN</td>\n",
       "      <td>NaN</td>\n",
       "      <td>NaN</td>\n",
       "      <td>NaN</td>\n",
       "      <td>NaN</td>\n",
       "      <td>NaN</td>\n",
       "      <td>NaN</td>\n",
       "      <td>NaN</td>\n",
       "      <td>NaN</td>\n",
       "    </tr>\n",
       "  </tbody>\n",
       "</table>\n",
       "<p>6 rows × 119 columns</p>\n",
       "</div>"
      ],
      "text/plain": [
       "Rank                               1      2      3     4     5      6     7    \\\n",
       "Date of Last Description Change                                                 \n",
       "2020-12-18                       290.0  306.0  123.0  91.0  70.0  117.0  67.0   \n",
       "2021-01-21                        18.0   53.0   20.0  19.0   8.0    9.0  10.0   \n",
       "2021-02-06                        18.0   53.0   20.0  19.0   8.0    9.0  10.0   \n",
       "2021-02-07                        18.0   53.0   20.0  19.0   8.0    9.0  10.0   \n",
       "2021-02-13                       214.0    6.0    NaN   NaN   6.0   52.0  12.0   \n",
       "2021-02-27                         4.0   19.0   31.0  22.0  25.0   17.0  13.0   \n",
       "\n",
       "Rank                              8     9     10   ...  111  112  113  114  \\\n",
       "Date of Last Description Change                    ...                       \n",
       "2020-12-18                       63.0  37.0  46.0  ...  1.0  1.0  1.0  1.0   \n",
       "2021-01-21                        2.0   4.0   3.0  ...  NaN  NaN  NaN  NaN   \n",
       "2021-02-06                        2.0   4.0   3.0  ...  NaN  NaN  NaN  NaN   \n",
       "2021-02-07                        2.0   4.0   3.0  ...  NaN  NaN  NaN  NaN   \n",
       "2021-02-13                        5.0   1.0   NaN  ...  NaN  NaN  NaN  NaN   \n",
       "2021-02-27                        8.0   6.0   5.0  ...  NaN  NaN  NaN  NaN   \n",
       "\n",
       "Rank                             115  116  117  118  119  134  \n",
       "Date of Last Description Change                                \n",
       "2020-12-18                       2.0  2.0  2.0  2.0  1.0  1.0  \n",
       "2021-01-21                       NaN  NaN  NaN  NaN  NaN  NaN  \n",
       "2021-02-06                       NaN  NaN  NaN  NaN  NaN  NaN  \n",
       "2021-02-07                       NaN  NaN  NaN  NaN  NaN  NaN  \n",
       "2021-02-13                       NaN  NaN  NaN  NaN  NaN  NaN  \n",
       "2021-02-27                       NaN  NaN  NaN  NaN  NaN  NaN  \n",
       "\n",
       "[6 rows x 119 columns]"
      ]
     },
     "execution_count": 254,
     "metadata": {},
     "output_type": "execute_result"
    }
   ],
   "source": [
    "data.groupby(['Date of Last Description Change','Rank'])['Rank'].count().unstack('Rank')"
   ]
  },
  {
   "cell_type": "code",
   "execution_count": 195,
   "id": "17512788",
   "metadata": {},
   "outputs": [],
   "source": [
    "#np.array(appid_data.columns)"
   ]
  },
  {
   "cell_type": "code",
   "execution_count": 196,
   "id": "26f5c842",
   "metadata": {},
   "outputs": [],
   "source": [
    "#appid_data[appid_data.index=='com.android.chrome'].values"
   ]
  },
  {
   "cell_type": "code",
   "execution_count": 169,
   "id": "aac901bd",
   "metadata": {},
   "outputs": [
    {
     "data": {
      "application/javascript": [
       "\n",
       "        if (window._pyforest_update_imports_cell) { window._pyforest_update_imports_cell('import matplotlib.pyplot as plt'); }\n",
       "    "
      ],
      "text/plain": [
       "<IPython.core.display.Javascript object>"
      ]
     },
     "metadata": {},
     "output_type": "display_data"
    },
    {
     "data": {
      "application/javascript": [
       "\n",
       "        if (window._pyforest_update_imports_cell) { window._pyforest_update_imports_cell('import matplotlib.pyplot as plt'); }\n",
       "    "
      ],
      "text/plain": [
       "<IPython.core.display.Javascript object>"
      ]
     },
     "metadata": {},
     "output_type": "display_data"
    },
    {
     "data": {
      "application/javascript": [
       "\n",
       "        if (window._pyforest_update_imports_cell) { window._pyforest_update_imports_cell('import matplotlib.pyplot as plt'); }\n",
       "    "
      ],
      "text/plain": [
       "<IPython.core.display.Javascript object>"
      ]
     },
     "metadata": {},
     "output_type": "display_data"
    },
    {
     "data": {
      "application/javascript": [
       "\n",
       "        if (window._pyforest_update_imports_cell) { window._pyforest_update_imports_cell('import matplotlib.pyplot as plt'); }\n",
       "    "
      ],
      "text/plain": [
       "<IPython.core.display.Javascript object>"
      ]
     },
     "metadata": {},
     "output_type": "display_data"
    },
    {
     "data": {
      "application/javascript": [
       "\n",
       "        if (window._pyforest_update_imports_cell) { window._pyforest_update_imports_cell('import matplotlib.pyplot as plt'); }\n",
       "    "
      ],
      "text/plain": [
       "<IPython.core.display.Javascript object>"
      ]
     },
     "metadata": {},
     "output_type": "display_data"
    },
    {
     "data": {
      "application/javascript": [
       "\n",
       "        if (window._pyforest_update_imports_cell) { window._pyforest_update_imports_cell('import matplotlib.pyplot as plt'); }\n",
       "    "
      ],
      "text/plain": [
       "<IPython.core.display.Javascript object>"
      ]
     },
     "metadata": {},
     "output_type": "display_data"
    },
    {
     "data": {
      "application/javascript": [
       "\n",
       "        if (window._pyforest_update_imports_cell) { window._pyforest_update_imports_cell('import matplotlib.pyplot as plt'); }\n",
       "    "
      ],
      "text/plain": [
       "<IPython.core.display.Javascript object>"
      ]
     },
     "metadata": {},
     "output_type": "display_data"
    },
    {
     "data": {
      "application/javascript": [
       "\n",
       "        if (window._pyforest_update_imports_cell) { window._pyforest_update_imports_cell('import matplotlib.pyplot as plt'); }\n",
       "    "
      ],
      "text/plain": [
       "<IPython.core.display.Javascript object>"
      ]
     },
     "metadata": {},
     "output_type": "display_data"
    },
    {
     "data": {
      "image/png": "[encoded data removed]",
      "text/plain": [
       "<Figure size 432x288 with 1 Axes>"
      ]
     },
     "metadata": {
      "needs_background": "light"
     },
     "output_type": "display_data"
    }
   ],
   "source": [
    "for app in appid_data.index:\n",
    "    plt.plot(appid_data[appid_data.index==app].values)"
   ]
  },
  {
   "cell_type": "code",
   "execution_count": 121,
   "id": "b1465160",
   "metadata": {
    "scrolled": false
   },
   "outputs": [
    {
     "data": {
      "application/javascript": [
       "\n",
       "        if (window._pyforest_update_imports_cell) { window._pyforest_update_imports_cell('import matplotlib.pyplot as plt'); }\n",
       "    "
      ],
      "text/plain": [
       "<IPython.core.display.Javascript object>"
      ]
     },
     "metadata": {},
     "output_type": "display_data"
    },
    {
     "data": {
      "application/javascript": [
       "\n",
       "        if (window._pyforest_update_imports_cell) { window._pyforest_update_imports_cell('import matplotlib.pyplot as plt'); }\n",
       "    "
      ],
      "text/plain": [
       "<IPython.core.display.Javascript object>"
      ]
     },
     "metadata": {},
     "output_type": "display_data"
    },
    {
     "data": {
      "application/javascript": [
       "\n",
       "        if (window._pyforest_update_imports_cell) { window._pyforest_update_imports_cell('import matplotlib.pyplot as plt'); }\n",
       "    "
      ],
      "text/plain": [
       "<IPython.core.display.Javascript object>"
      ]
     },
     "metadata": {},
     "output_type": "display_data"
    },
    {
     "data": {
      "application/javascript": [
       "\n",
       "        if (window._pyforest_update_imports_cell) { window._pyforest_update_imports_cell('import matplotlib.pyplot as plt'); }\n",
       "    "
      ],
      "text/plain": [
       "<IPython.core.display.Javascript object>"
      ]
     },
     "metadata": {},
     "output_type": "display_data"
    },
    {
     "data": {
      "application/javascript": [
       "\n",
       "        if (window._pyforest_update_imports_cell) { window._pyforest_update_imports_cell('import matplotlib.pyplot as plt'); }\n",
       "    "
      ],
      "text/plain": [
       "<IPython.core.display.Javascript object>"
      ]
     },
     "metadata": {},
     "output_type": "display_data"
    },
    {
     "data": {
      "application/javascript": [
       "\n",
       "        if (window._pyforest_update_imports_cell) { window._pyforest_update_imports_cell('import matplotlib.pyplot as plt'); }\n",
       "    "
      ],
      "text/plain": [
       "<IPython.core.display.Javascript object>"
      ]
     },
     "metadata": {},
     "output_type": "display_data"
    },
    {
     "data": {
      "application/javascript": [
       "\n",
       "        if (window._pyforest_update_imports_cell) { window._pyforest_update_imports_cell('import matplotlib.pyplot as plt'); }\n",
       "    "
      ],
      "text/plain": [
       "<IPython.core.display.Javascript object>"
      ]
     },
     "metadata": {},
     "output_type": "display_data"
    },
    {
     "data": {
      "image/png": "[encoded data removed]",
      "text/plain": [
       "<Figure size 576x432 with 1 Axes>"
      ]
     },
     "metadata": {
      "needs_background": "light"
     },
     "output_type": "display_data"
    },
    {
     "data": {
      "application/javascript": [
       "\n",
       "        if (window._pyforest_update_imports_cell) { window._pyforest_update_imports_cell('import matplotlib.pyplot as plt'); }\n",
       "    "
      ],
      "text/plain": [
       "<IPython.core.display.Javascript object>"
      ]
     },
     "metadata": {},
     "output_type": "display_data"
    },
    {
     "data": {
      "application/javascript": [
       "\n",
       "        if (window._pyforest_update_imports_cell) { window._pyforest_update_imports_cell('import matplotlib.pyplot as plt'); }\n",
       "    "
      ],
      "text/plain": [
       "<IPython.core.display.Javascript object>"
      ]
     },
     "metadata": {},
     "output_type": "display_data"
    },
    {
     "data": {
      "application/javascript": [
       "\n",
       "        if (window._pyforest_update_imports_cell) { window._pyforest_update_imports_cell('import matplotlib.pyplot as plt'); }\n",
       "    "
      ],
      "text/plain": [
       "<IPython.core.display.Javascript object>"
      ]
     },
     "metadata": {},
     "output_type": "display_data"
    },
    {
     "data": {
      "application/javascript": [
       "\n",
       "        if (window._pyforest_update_imports_cell) { window._pyforest_update_imports_cell('import matplotlib.pyplot as plt'); }\n",
       "    "
      ],
      "text/plain": [
       "<IPython.core.display.Javascript object>"
      ]
     },
     "metadata": {},
     "output_type": "display_data"
    },
    {
     "data": {
      "application/javascript": [
       "\n",
       "        if (window._pyforest_update_imports_cell) { window._pyforest_update_imports_cell('import matplotlib.pyplot as plt'); }\n",
       "    "
      ],
      "text/plain": [
       "<IPython.core.display.Javascript object>"
      ]
     },
     "metadata": {},
     "output_type": "display_data"
    },
    {
     "data": {
      "application/javascript": [
       "\n",
       "        if (window._pyforest_update_imports_cell) { window._pyforest_update_imports_cell('import matplotlib.pyplot as plt'); }\n",
       "    "
      ],
      "text/plain": [
       "<IPython.core.display.Javascript object>"
      ]
     },
     "metadata": {},
     "output_type": "display_data"
    },
    {
     "data": {
      "application/javascript": [
       "\n",
       "        if (window._pyforest_update_imports_cell) { window._pyforest_update_imports_cell('import matplotlib.pyplot as plt'); }\n",
       "    "
      ],
      "text/plain": [
       "<IPython.core.display.Javascript object>"
      ]
     },
     "metadata": {},
     "output_type": "display_data"
    },
    {
     "data": {
      "image/png": "[encoded data removed]",
      "text/plain": [
       "<Figure size 576x432 with 1 Axes>"
      ]
     },
     "metadata": {
      "needs_background": "light"
     },
     "output_type": "display_data"
    },
    {
     "data": {
      "application/javascript": [
       "\n",
       "        if (window._pyforest_update_imports_cell) { window._pyforest_update_imports_cell('import matplotlib.pyplot as plt'); }\n",
       "    "
      ],
      "text/plain": [
       "<IPython.core.display.Javascript object>"
      ]
     },
     "metadata": {},
     "output_type": "display_data"
    },
    {
     "data": {
      "application/javascript": [
       "\n",
       "        if (window._pyforest_update_imports_cell) { window._pyforest_update_imports_cell('import matplotlib.pyplot as plt'); }\n",
       "    "
      ],
      "text/plain": [
       "<IPython.core.display.Javascript object>"
      ]
     },
     "metadata": {},
     "output_type": "display_data"
    },
    {
     "data": {
      "application/javascript": [
       "\n",
       "        if (window._pyforest_update_imports_cell) { window._pyforest_update_imports_cell('import matplotlib.pyplot as plt'); }\n",
       "    "
      ],
      "text/plain": [
       "<IPython.core.display.Javascript object>"
      ]
     },
     "metadata": {},
     "output_type": "display_data"
    },
    {
     "data": {
      "application/javascript": [
       "\n",
       "        if (window._pyforest_update_imports_cell) { window._pyforest_update_imports_cell('import matplotlib.pyplot as plt'); }\n",
       "    "
      ],
      "text/plain": [
       "<IPython.core.display.Javascript object>"
      ]
     },
     "metadata": {},
     "output_type": "display_data"
    },
    {
     "data": {
      "application/javascript": [
       "\n",
       "        if (window._pyforest_update_imports_cell) { window._pyforest_update_imports_cell('import matplotlib.pyplot as plt'); }\n",
       "    "
      ],
      "text/plain": [
       "<IPython.core.display.Javascript object>"
      ]
     },
     "metadata": {},
     "output_type": "display_data"
    },
    {
     "data": {
      "application/javascript": [
       "\n",
       "        if (window._pyforest_update_imports_cell) { window._pyforest_update_imports_cell('import matplotlib.pyplot as plt'); }\n",
       "    "
      ],
      "text/plain": [
       "<IPython.core.display.Javascript object>"
      ]
     },
     "metadata": {},
     "output_type": "display_data"
    },
    {
     "data": {
      "application/javascript": [
       "\n",
       "        if (window._pyforest_update_imports_cell) { window._pyforest_update_imports_cell('import matplotlib.pyplot as plt'); }\n",
       "    "
      ],
      "text/plain": [
       "<IPython.core.display.Javascript object>"
      ]
     },
     "metadata": {},
     "output_type": "display_data"
    },
    {
     "data": {
      "image/png": "[encoded data removed]",
      "text/plain": [
       "<Figure size 576x432 with 1 Axes>"
      ]
     },
     "metadata": {
      "needs_background": "light"
     },
     "output_type": "display_data"
    },
    {
     "data": {
      "application/javascript": [
       "\n",
       "        if (window._pyforest_update_imports_cell) { window._pyforest_update_imports_cell('import matplotlib.pyplot as plt'); }\n",
       "    "
      ],
      "text/plain": [
       "<IPython.core.display.Javascript object>"
      ]
     },
     "metadata": {},
     "output_type": "display_data"
    },
    {
     "data": {
      "application/javascript": [
       "\n",
       "        if (window._pyforest_update_imports_cell) { window._pyforest_update_imports_cell('import matplotlib.pyplot as plt'); }\n",
       "    "
      ],
      "text/plain": [
       "<IPython.core.display.Javascript object>"
      ]
     },
     "metadata": {},
     "output_type": "display_data"
    },
    {
     "data": {
      "application/javascript": [
       "\n",
       "        if (window._pyforest_update_imports_cell) { window._pyforest_update_imports_cell('import matplotlib.pyplot as plt'); }\n",
       "    "
      ],
      "text/plain": [
       "<IPython.core.display.Javascript object>"
      ]
     },
     "metadata": {},
     "output_type": "display_data"
    },
    {
     "data": {
      "application/javascript": [
       "\n",
       "        if (window._pyforest_update_imports_cell) { window._pyforest_update_imports_cell('import matplotlib.pyplot as plt'); }\n",
       "    "
      ],
      "text/plain": [
       "<IPython.core.display.Javascript object>"
      ]
     },
     "metadata": {},
     "output_type": "display_data"
    },
    {
     "data": {
      "application/javascript": [
       "\n",
       "        if (window._pyforest_update_imports_cell) { window._pyforest_update_imports_cell('import matplotlib.pyplot as plt'); }\n",
       "    "
      ],
      "text/plain": [
       "<IPython.core.display.Javascript object>"
      ]
     },
     "metadata": {},
     "output_type": "display_data"
    },
    {
     "data": {
      "application/javascript": [
       "\n",
       "        if (window._pyforest_update_imports_cell) { window._pyforest_update_imports_cell('import matplotlib.pyplot as plt'); }\n",
       "    "
      ],
      "text/plain": [
       "<IPython.core.display.Javascript object>"
      ]
     },
     "metadata": {},
     "output_type": "display_data"
    },
    {
     "data": {
      "application/javascript": [
       "\n",
       "        if (window._pyforest_update_imports_cell) { window._pyforest_update_imports_cell('import matplotlib.pyplot as plt'); }\n",
       "    "
      ],
      "text/plain": [
       "<IPython.core.display.Javascript object>"
      ]
     },
     "metadata": {},
     "output_type": "display_data"
    },
    {
     "data": {
      "image/png": "[encoded data removed]",
      "text/plain": [
       "<Figure size 576x432 with 1 Axes>"
      ]
     },
     "metadata": {
      "needs_background": "light"
     },
     "output_type": "display_data"
    },
    {
     "data": {
      "application/javascript": [
       "\n",
       "        if (window._pyforest_update_imports_cell) { window._pyforest_update_imports_cell('import matplotlib.pyplot as plt'); }\n",
       "    "
      ],
      "text/plain": [
       "<IPython.core.display.Javascript object>"
      ]
     },
     "metadata": {},
     "output_type": "display_data"
    },
    {
     "data": {
      "application/javascript": [
       "\n",
       "        if (window._pyforest_update_imports_cell) { window._pyforest_update_imports_cell('import matplotlib.pyplot as plt'); }\n",
       "    "
      ],
      "text/plain": [
       "<IPython.core.display.Javascript object>"
      ]
     },
     "metadata": {},
     "output_type": "display_data"
    },
    {
     "data": {
      "application/javascript": [
       "\n",
       "        if (window._pyforest_update_imports_cell) { window._pyforest_update_imports_cell('import matplotlib.pyplot as plt'); }\n",
       "    "
      ],
      "text/plain": [
       "<IPython.core.display.Javascript object>"
      ]
     },
     "metadata": {},
     "output_type": "display_data"
    },
    {
     "data": {
      "application/javascript": [
       "\n",
       "        if (window._pyforest_update_imports_cell) { window._pyforest_update_imports_cell('import matplotlib.pyplot as plt'); }\n",
       "    "
      ],
      "text/plain": [
       "<IPython.core.display.Javascript object>"
      ]
     },
     "metadata": {},
     "output_type": "display_data"
    },
    {
     "data": {
      "application/javascript": [
       "\n",
       "        if (window._pyforest_update_imports_cell) { window._pyforest_update_imports_cell('import matplotlib.pyplot as plt'); }\n",
       "    "
      ],
      "text/plain": [
       "<IPython.core.display.Javascript object>"
      ]
     },
     "metadata": {},
     "output_type": "display_data"
    },
    {
     "data": {
      "application/javascript": [
       "\n",
       "        if (window._pyforest_update_imports_cell) { window._pyforest_update_imports_cell('import matplotlib.pyplot as plt'); }\n",
       "    "
      ],
      "text/plain": [
       "<IPython.core.display.Javascript object>"
      ]
     },
     "metadata": {},
     "output_type": "display_data"
    },
    {
     "data": {
      "application/javascript": [
       "\n",
       "        if (window._pyforest_update_imports_cell) { window._pyforest_update_imports_cell('import matplotlib.pyplot as plt'); }\n",
       "    "
      ],
      "text/plain": [
       "<IPython.core.display.Javascript object>"
      ]
     },
     "metadata": {},
     "output_type": "display_data"
    },
    {
     "data": {
      "image/png": "[encoded data removed]",
      "text/plain": [
       "<Figure size 576x432 with 1 Axes>"
      ]
     },
     "metadata": {
      "needs_background": "light"
     },
     "output_type": "display_data"
    },
    {
     "data": {
      "application/javascript": [
       "\n",
       "        if (window._pyforest_update_imports_cell) { window._pyforest_update_imports_cell('import matplotlib.pyplot as plt'); }\n",
       "    "
      ],
      "text/plain": [
       "<IPython.core.display.Javascript object>"
      ]
     },
     "metadata": {},
     "output_type": "display_data"
    },
    {
     "data": {
      "application/javascript": [
       "\n",
       "        if (window._pyforest_update_imports_cell) { window._pyforest_update_imports_cell('import matplotlib.pyplot as plt'); }\n",
       "    "
      ],
      "text/plain": [
       "<IPython.core.display.Javascript object>"
      ]
     },
     "metadata": {},
     "output_type": "display_data"
    },
    {
     "data": {
      "application/javascript": [
       "\n",
       "        if (window._pyforest_update_imports_cell) { window._pyforest_update_imports_cell('import matplotlib.pyplot as plt'); }\n",
       "    "
      ],
      "text/plain": [
       "<IPython.core.display.Javascript object>"
      ]
     },
     "metadata": {},
     "output_type": "display_data"
    },
    {
     "data": {
      "application/javascript": [
       "\n",
       "        if (window._pyforest_update_imports_cell) { window._pyforest_update_imports_cell('import matplotlib.pyplot as plt'); }\n",
       "    "
      ],
      "text/plain": [
       "<IPython.core.display.Javascript object>"
      ]
     },
     "metadata": {},
     "output_type": "display_data"
    },
    {
     "data": {
      "application/javascript": [
       "\n",
       "        if (window._pyforest_update_imports_cell) { window._pyforest_update_imports_cell('import matplotlib.pyplot as plt'); }\n",
       "    "
      ],
      "text/plain": [
       "<IPython.core.display.Javascript object>"
      ]
     },
     "metadata": {},
     "output_type": "display_data"
    },
    {
     "data": {
      "application/javascript": [
       "\n",
       "        if (window._pyforest_update_imports_cell) { window._pyforest_update_imports_cell('import matplotlib.pyplot as plt'); }\n",
       "    "
      ],
      "text/plain": [
       "<IPython.core.display.Javascript object>"
      ]
     },
     "metadata": {},
     "output_type": "display_data"
    },
    {
     "data": {
      "application/javascript": [
       "\n",
       "        if (window._pyforest_update_imports_cell) { window._pyforest_update_imports_cell('import matplotlib.pyplot as plt'); }\n",
       "    "
      ],
      "text/plain": [
       "<IPython.core.display.Javascript object>"
      ]
     },
     "metadata": {},
     "output_type": "display_data"
    },
    {
     "data": {
      "image/png": "[encoded data removed]",
      "text/plain": [
       "<Figure size 576x432 with 1 Axes>"
      ]
     },
     "metadata": {
      "needs_background": "light"
     },
     "output_type": "display_data"
    },
    {
     "data": {
      "application/javascript": [
       "\n",
       "        if (window._pyforest_update_imports_cell) { window._pyforest_update_imports_cell('import matplotlib.pyplot as plt'); }\n",
       "    "
      ],
      "text/plain": [
       "<IPython.core.display.Javascript object>"
      ]
     },
     "metadata": {},
     "output_type": "display_data"
    },
    {
     "data": {
      "application/javascript": [
       "\n",
       "        if (window._pyforest_update_imports_cell) { window._pyforest_update_imports_cell('import matplotlib.pyplot as plt'); }\n",
       "    "
      ],
      "text/plain": [
       "<IPython.core.display.Javascript object>"
      ]
     },
     "metadata": {},
     "output_type": "display_data"
    },
    {
     "data": {
      "application/javascript": [
       "\n",
       "        if (window._pyforest_update_imports_cell) { window._pyforest_update_imports_cell('import matplotlib.pyplot as plt'); }\n",
       "    "
      ],
      "text/plain": [
       "<IPython.core.display.Javascript object>"
      ]
     },
     "metadata": {},
     "output_type": "display_data"
    },
    {
     "data": {
      "application/javascript": [
       "\n",
       "        if (window._pyforest_update_imports_cell) { window._pyforest_update_imports_cell('import matplotlib.pyplot as plt'); }\n",
       "    "
      ],
      "text/plain": [
       "<IPython.core.display.Javascript object>"
      ]
     },
     "metadata": {},
     "output_type": "display_data"
    },
    {
     "data": {
      "application/javascript": [
       "\n",
       "        if (window._pyforest_update_imports_cell) { window._pyforest_update_imports_cell('import matplotlib.pyplot as plt'); }\n",
       "    "
      ],
      "text/plain": [
       "<IPython.core.display.Javascript object>"
      ]
     },
     "metadata": {},
     "output_type": "display_data"
    },
    {
     "data": {
      "application/javascript": [
       "\n",
       "        if (window._pyforest_update_imports_cell) { window._pyforest_update_imports_cell('import matplotlib.pyplot as plt'); }\n",
       "    "
      ],
      "text/plain": [
       "<IPython.core.display.Javascript object>"
      ]
     },
     "metadata": {},
     "output_type": "display_data"
    },
    {
     "data": {
      "application/javascript": [
       "\n",
       "        if (window._pyforest_update_imports_cell) { window._pyforest_update_imports_cell('import matplotlib.pyplot as plt'); }\n",
       "    "
      ],
      "text/plain": [
       "<IPython.core.display.Javascript object>"
      ]
     },
     "metadata": {},
     "output_type": "display_data"
    },
    {
     "data": {
      "image/png": "[encoded data removed]",
      "text/plain": [
       "<Figure size 576x432 with 1 Axes>"
      ]
     },
     "metadata": {
      "needs_background": "light"
     },
     "output_type": "display_data"
    },
    {
     "data": {
      "application/javascript": [
       "\n",
       "        if (window._pyforest_update_imports_cell) { window._pyforest_update_imports_cell('import matplotlib.pyplot as plt'); }\n",
       "    "
      ],
      "text/plain": [
       "<IPython.core.display.Javascript object>"
      ]
     },
     "metadata": {},
     "output_type": "display_data"
    },
    {
     "data": {
      "application/javascript": [
       "\n",
       "        if (window._pyforest_update_imports_cell) { window._pyforest_update_imports_cell('import matplotlib.pyplot as plt'); }\n",
       "    "
      ],
      "text/plain": [
       "<IPython.core.display.Javascript object>"
      ]
     },
     "metadata": {},
     "output_type": "display_data"
    },
    {
     "data": {
      "application/javascript": [
       "\n",
       "        if (window._pyforest_update_imports_cell) { window._pyforest_update_imports_cell('import matplotlib.pyplot as plt'); }\n",
       "    "
      ],
      "text/plain": [
       "<IPython.core.display.Javascript object>"
      ]
     },
     "metadata": {},
     "output_type": "display_data"
    },
    {
     "data": {
      "application/javascript": [
       "\n",
       "        if (window._pyforest_update_imports_cell) { window._pyforest_update_imports_cell('import matplotlib.pyplot as plt'); }\n",
       "    "
      ],
      "text/plain": [
       "<IPython.core.display.Javascript object>"
      ]
     },
     "metadata": {},
     "output_type": "display_data"
    },
    {
     "data": {
      "application/javascript": [
       "\n",
       "        if (window._pyforest_update_imports_cell) { window._pyforest_update_imports_cell('import matplotlib.pyplot as plt'); }\n",
       "    "
      ],
      "text/plain": [
       "<IPython.core.display.Javascript object>"
      ]
     },
     "metadata": {},
     "output_type": "display_data"
    },
    {
     "data": {
      "application/javascript": [
       "\n",
       "        if (window._pyforest_update_imports_cell) { window._pyforest_update_imports_cell('import matplotlib.pyplot as plt'); }\n",
       "    "
      ],
      "text/plain": [
       "<IPython.core.display.Javascript object>"
      ]
     },
     "metadata": {},
     "output_type": "display_data"
    },
    {
     "data": {
      "application/javascript": [
       "\n",
       "        if (window._pyforest_update_imports_cell) { window._pyforest_update_imports_cell('import matplotlib.pyplot as plt'); }\n",
       "    "
      ],
      "text/plain": [
       "<IPython.core.display.Javascript object>"
      ]
     },
     "metadata": {},
     "output_type": "display_data"
    },
    {
     "data": {
      "image/png": "[encoded data removed]",
      "text/plain": [
       "<Figure size 576x432 with 1 Axes>"
      ]
     },
     "metadata": {
      "needs_background": "light"
     },
     "output_type": "display_data"
    },
    {
     "data": {
      "application/javascript": [
       "\n",
       "        if (window._pyforest_update_imports_cell) { window._pyforest_update_imports_cell('import matplotlib.pyplot as plt'); }\n",
       "    "
      ],
      "text/plain": [
       "<IPython.core.display.Javascript object>"
      ]
     },
     "metadata": {},
     "output_type": "display_data"
    },
    {
     "data": {
      "application/javascript": [
       "\n",
       "        if (window._pyforest_update_imports_cell) { window._pyforest_update_imports_cell('import matplotlib.pyplot as plt'); }\n",
       "    "
      ],
      "text/plain": [
       "<IPython.core.display.Javascript object>"
      ]
     },
     "metadata": {},
     "output_type": "display_data"
    },
    {
     "data": {
      "application/javascript": [
       "\n",
       "        if (window._pyforest_update_imports_cell) { window._pyforest_update_imports_cell('import matplotlib.pyplot as plt'); }\n",
       "    "
      ],
      "text/plain": [
       "<IPython.core.display.Javascript object>"
      ]
     },
     "metadata": {},
     "output_type": "display_data"
    },
    {
     "data": {
      "application/javascript": [
       "\n",
       "        if (window._pyforest_update_imports_cell) { window._pyforest_update_imports_cell('import matplotlib.pyplot as plt'); }\n",
       "    "
      ],
      "text/plain": [
       "<IPython.core.display.Javascript object>"
      ]
     },
     "metadata": {},
     "output_type": "display_data"
    },
    {
     "data": {
      "application/javascript": [
       "\n",
       "        if (window._pyforest_update_imports_cell) { window._pyforest_update_imports_cell('import matplotlib.pyplot as plt'); }\n",
       "    "
      ],
      "text/plain": [
       "<IPython.core.display.Javascript object>"
      ]
     },
     "metadata": {},
     "output_type": "display_data"
    },
    {
     "data": {
      "application/javascript": [
       "\n",
       "        if (window._pyforest_update_imports_cell) { window._pyforest_update_imports_cell('import matplotlib.pyplot as plt'); }\n",
       "    "
      ],
      "text/plain": [
       "<IPython.core.display.Javascript object>"
      ]
     },
     "metadata": {},
     "output_type": "display_data"
    },
    {
     "data": {
      "application/javascript": [
       "\n",
       "        if (window._pyforest_update_imports_cell) { window._pyforest_update_imports_cell('import matplotlib.pyplot as plt'); }\n",
       "    "
      ],
      "text/plain": [
       "<IPython.core.display.Javascript object>"
      ]
     },
     "metadata": {},
     "output_type": "display_data"
    },
    {
     "data": {
      "image/png": "[encoded data removed]",
      "text/plain": [
       "<Figure size 576x432 with 1 Axes>"
      ]
     },
     "metadata": {
      "needs_background": "light"
     },
     "output_type": "display_data"
    }
   ],
   "source": [
    "for rank in range(1,10):\n",
    "    plot_keyword_rank(rank)"
   ]
  },
  {
   "cell_type": "code",
   "execution_count": 38,
   "id": "649e0a91",
   "metadata": {},
   "outputs": [
    {
     "name": "stdout",
     "output_type": "stream",
     "text": [
      "1\n",
      "2\n",
      "3\n",
      "6\n",
      "4\n",
      "5\n",
      "7\n",
      "8\n",
      "10\n",
      "9\n",
      "14\n",
      "11\n",
      "12\n",
      "17\n",
      "16\n",
      "20\n",
      "13\n",
      "18\n",
      "15\n",
      "21\n",
      "22\n",
      "19\n",
      "23\n",
      "24\n",
      "30\n",
      "28\n",
      "31\n",
      "26\n",
      "27\n",
      "40\n",
      "34\n",
      "50\n",
      "32\n",
      "53\n",
      "43\n",
      "89\n",
      "25\n",
      "29\n",
      "105\n",
      "33\n",
      "42\n",
      "44\n",
      "67\n",
      "57\n",
      "52\n",
      "71\n",
      "48\n",
      "59\n",
      "109\n",
      "90\n",
      "60\n",
      "35\n",
      "107\n",
      "69\n",
      "39\n",
      "55\n",
      "79\n",
      "68\n",
      "110\n",
      "38\n",
      "96\n",
      "87\n",
      "51\n",
      "97\n",
      "80\n",
      "61\n",
      "92\n",
      "65\n",
      "36\n",
      "73\n",
      "75\n",
      "106\n",
      "108\n",
      "54\n",
      "99\n",
      "58\n",
      "83\n",
      "100\n",
      "86\n",
      "104\n",
      "81\n",
      "74\n",
      "76\n",
      "78\n",
      "70\n",
      "94\n",
      "77\n",
      "102\n",
      "98\n",
      "46\n",
      "103\n",
      "63\n",
      "88\n",
      "82\n",
      "45\n",
      "93\n",
      "91\n",
      "37\n",
      "95\n",
      "101\n",
      "41\n",
      "118\n",
      "116\n",
      "84\n",
      "66\n",
      "115\n",
      "117\n",
      "56\n",
      "113\n",
      "111\n",
      "134\n",
      "85\n",
      "47\n",
      "114\n",
      "112\n",
      "72\n",
      "64\n",
      "62\n",
      "119\n"
     ]
    }
   ],
   "source": [
    "for i in data['Rank'].value_counts().index:\n",
    "    print(i)"
   ]
  },
  {
   "cell_type": "code",
   "execution_count": 15,
   "id": "b8d2585c",
   "metadata": {},
   "outputs": [
    {
     "ename": "ValueError",
     "evalue": "Cannot convert non-finite values (NA or inf) to integer",
     "output_type": "error",
     "traceback": [
      "\u001b[1;31m---------------------------------------------------------------------------\u001b[0m",
      "\u001b[1;31mValueError\u001b[0m                                Traceback (most recent call last)",
      "\u001b[1;32m<ipython-input-15-a5af82b5d41f>\u001b[0m in \u001b[0;36m<module>\u001b[1;34m\u001b[0m\n\u001b[1;32m----> 1\u001b[1;33m \u001b[0mdata\u001b[0m\u001b[1;33m[\u001b[0m\u001b[1;34m'Rank'\u001b[0m\u001b[1;33m]\u001b[0m\u001b[1;33m.\u001b[0m\u001b[0mastype\u001b[0m\u001b[1;33m(\u001b[0m\u001b[1;34m'int'\u001b[0m\u001b[1;33m)\u001b[0m\u001b[1;33m\u001b[0m\u001b[1;33m\u001b[0m\u001b[0m\n\u001b[0m",
      "\u001b[1;32m~\\anaconda3\\lib\\site-packages\\pandas\\core\\generic.py\u001b[0m in \u001b[0;36mastype\u001b[1;34m(self, dtype, copy, errors)\u001b[0m\n\u001b[0;32m   5875\u001b[0m         \u001b[1;32melse\u001b[0m\u001b[1;33m:\u001b[0m\u001b[1;33m\u001b[0m\u001b[1;33m\u001b[0m\u001b[0m\n\u001b[0;32m   5876\u001b[0m             \u001b[1;31m# else, only a single dtype is given\u001b[0m\u001b[1;33m\u001b[0m\u001b[1;33m\u001b[0m\u001b[1;33m\u001b[0m\u001b[0m\n\u001b[1;32m-> 5877\u001b[1;33m             \u001b[0mnew_data\u001b[0m \u001b[1;33m=\u001b[0m \u001b[0mself\u001b[0m\u001b[1;33m.\u001b[0m\u001b[0m_mgr\u001b[0m\u001b[1;33m.\u001b[0m\u001b[0mastype\u001b[0m\u001b[1;33m(\u001b[0m\u001b[0mdtype\u001b[0m\u001b[1;33m=\u001b[0m\u001b[0mdtype\u001b[0m\u001b[1;33m,\u001b[0m \u001b[0mcopy\u001b[0m\u001b[1;33m=\u001b[0m\u001b[0mcopy\u001b[0m\u001b[1;33m,\u001b[0m \u001b[0merrors\u001b[0m\u001b[1;33m=\u001b[0m\u001b[0merrors\u001b[0m\u001b[1;33m)\u001b[0m\u001b[1;33m\u001b[0m\u001b[1;33m\u001b[0m\u001b[0m\n\u001b[0m\u001b[0;32m   5878\u001b[0m             \u001b[1;32mreturn\u001b[0m \u001b[0mself\u001b[0m\u001b[1;33m.\u001b[0m\u001b[0m_constructor\u001b[0m\u001b[1;33m(\u001b[0m\u001b[0mnew_data\u001b[0m\u001b[1;33m)\u001b[0m\u001b[1;33m.\u001b[0m\u001b[0m__finalize__\u001b[0m\u001b[1;33m(\u001b[0m\u001b[0mself\u001b[0m\u001b[1;33m,\u001b[0m \u001b[0mmethod\u001b[0m\u001b[1;33m=\u001b[0m\u001b[1;34m\"astype\"\u001b[0m\u001b[1;33m)\u001b[0m\u001b[1;33m\u001b[0m\u001b[1;33m\u001b[0m\u001b[0m\n\u001b[0;32m   5879\u001b[0m \u001b[1;33m\u001b[0m\u001b[0m\n",
      "\u001b[1;32m~\\anaconda3\\lib\\site-packages\\pandas\\core\\internals\\managers.py\u001b[0m in \u001b[0;36mastype\u001b[1;34m(self, dtype, copy, errors)\u001b[0m\n\u001b[0;32m    629\u001b[0m         \u001b[0mself\u001b[0m\u001b[1;33m,\u001b[0m \u001b[0mdtype\u001b[0m\u001b[1;33m,\u001b[0m \u001b[0mcopy\u001b[0m\u001b[1;33m:\u001b[0m \u001b[0mbool\u001b[0m \u001b[1;33m=\u001b[0m \u001b[1;32mFalse\u001b[0m\u001b[1;33m,\u001b[0m \u001b[0merrors\u001b[0m\u001b[1;33m:\u001b[0m \u001b[0mstr\u001b[0m \u001b[1;33m=\u001b[0m \u001b[1;34m\"raise\"\u001b[0m\u001b[1;33m\u001b[0m\u001b[1;33m\u001b[0m\u001b[0m\n\u001b[0;32m    630\u001b[0m     ) -> \"BlockManager\":\n\u001b[1;32m--> 631\u001b[1;33m         \u001b[1;32mreturn\u001b[0m \u001b[0mself\u001b[0m\u001b[1;33m.\u001b[0m\u001b[0mapply\u001b[0m\u001b[1;33m(\u001b[0m\u001b[1;34m\"astype\"\u001b[0m\u001b[1;33m,\u001b[0m \u001b[0mdtype\u001b[0m\u001b[1;33m=\u001b[0m\u001b[0mdtype\u001b[0m\u001b[1;33m,\u001b[0m \u001b[0mcopy\u001b[0m\u001b[1;33m=\u001b[0m\u001b[0mcopy\u001b[0m\u001b[1;33m,\u001b[0m \u001b[0merrors\u001b[0m\u001b[1;33m=\u001b[0m\u001b[0merrors\u001b[0m\u001b[1;33m)\u001b[0m\u001b[1;33m\u001b[0m\u001b[1;33m\u001b[0m\u001b[0m\n\u001b[0m\u001b[0;32m    632\u001b[0m \u001b[1;33m\u001b[0m\u001b[0m\n\u001b[0;32m    633\u001b[0m     def convert(\n",
      "\u001b[1;32m~\\anaconda3\\lib\\site-packages\\pandas\\core\\internals\\managers.py\u001b[0m in \u001b[0;36mapply\u001b[1;34m(self, f, align_keys, ignore_failures, **kwargs)\u001b[0m\n\u001b[0;32m    425\u001b[0m                     \u001b[0mapplied\u001b[0m \u001b[1;33m=\u001b[0m \u001b[0mb\u001b[0m\u001b[1;33m.\u001b[0m\u001b[0mapply\u001b[0m\u001b[1;33m(\u001b[0m\u001b[0mf\u001b[0m\u001b[1;33m,\u001b[0m \u001b[1;33m**\u001b[0m\u001b[0mkwargs\u001b[0m\u001b[1;33m)\u001b[0m\u001b[1;33m\u001b[0m\u001b[1;33m\u001b[0m\u001b[0m\n\u001b[0;32m    426\u001b[0m                 \u001b[1;32melse\u001b[0m\u001b[1;33m:\u001b[0m\u001b[1;33m\u001b[0m\u001b[1;33m\u001b[0m\u001b[0m\n\u001b[1;32m--> 427\u001b[1;33m                     \u001b[0mapplied\u001b[0m \u001b[1;33m=\u001b[0m \u001b[0mgetattr\u001b[0m\u001b[1;33m(\u001b[0m\u001b[0mb\u001b[0m\u001b[1;33m,\u001b[0m \u001b[0mf\u001b[0m\u001b[1;33m)\u001b[0m\u001b[1;33m(\u001b[0m\u001b[1;33m**\u001b[0m\u001b[0mkwargs\u001b[0m\u001b[1;33m)\u001b[0m\u001b[1;33m\u001b[0m\u001b[1;33m\u001b[0m\u001b[0m\n\u001b[0m\u001b[0;32m    428\u001b[0m             \u001b[1;32mexcept\u001b[0m \u001b[1;33m(\u001b[0m\u001b[0mTypeError\u001b[0m\u001b[1;33m,\u001b[0m \u001b[0mNotImplementedError\u001b[0m\u001b[1;33m)\u001b[0m\u001b[1;33m:\u001b[0m\u001b[1;33m\u001b[0m\u001b[1;33m\u001b[0m\u001b[0m\n\u001b[0;32m    429\u001b[0m                 \u001b[1;32mif\u001b[0m \u001b[1;32mnot\u001b[0m \u001b[0mignore_failures\u001b[0m\u001b[1;33m:\u001b[0m\u001b[1;33m\u001b[0m\u001b[1;33m\u001b[0m\u001b[0m\n",
      "\u001b[1;32m~\\anaconda3\\lib\\site-packages\\pandas\\core\\internals\\blocks.py\u001b[0m in \u001b[0;36mastype\u001b[1;34m(self, dtype, copy, errors)\u001b[0m\n\u001b[0;32m    671\u001b[0m             \u001b[0mvals1d\u001b[0m \u001b[1;33m=\u001b[0m \u001b[0mvalues\u001b[0m\u001b[1;33m.\u001b[0m\u001b[0mravel\u001b[0m\u001b[1;33m(\u001b[0m\u001b[1;33m)\u001b[0m\u001b[1;33m\u001b[0m\u001b[1;33m\u001b[0m\u001b[0m\n\u001b[0;32m    672\u001b[0m             \u001b[1;32mtry\u001b[0m\u001b[1;33m:\u001b[0m\u001b[1;33m\u001b[0m\u001b[1;33m\u001b[0m\u001b[0m\n\u001b[1;32m--> 673\u001b[1;33m                 \u001b[0mvalues\u001b[0m \u001b[1;33m=\u001b[0m \u001b[0mastype_nansafe\u001b[0m\u001b[1;33m(\u001b[0m\u001b[0mvals1d\u001b[0m\u001b[1;33m,\u001b[0m \u001b[0mdtype\u001b[0m\u001b[1;33m,\u001b[0m \u001b[0mcopy\u001b[0m\u001b[1;33m=\u001b[0m\u001b[1;32mTrue\u001b[0m\u001b[1;33m)\u001b[0m\u001b[1;33m\u001b[0m\u001b[1;33m\u001b[0m\u001b[0m\n\u001b[0m\u001b[0;32m    674\u001b[0m             \u001b[1;32mexcept\u001b[0m \u001b[1;33m(\u001b[0m\u001b[0mValueError\u001b[0m\u001b[1;33m,\u001b[0m \u001b[0mTypeError\u001b[0m\u001b[1;33m)\u001b[0m\u001b[1;33m:\u001b[0m\u001b[1;33m\u001b[0m\u001b[1;33m\u001b[0m\u001b[0m\n\u001b[0;32m    675\u001b[0m                 \u001b[1;31m# e.g. astype_nansafe can fail on object-dtype of strings\u001b[0m\u001b[1;33m\u001b[0m\u001b[1;33m\u001b[0m\u001b[1;33m\u001b[0m\u001b[0m\n",
      "\u001b[1;32m~\\anaconda3\\lib\\site-packages\\pandas\\core\\dtypes\\cast.py\u001b[0m in \u001b[0;36mastype_nansafe\u001b[1;34m(arr, dtype, copy, skipna)\u001b[0m\n\u001b[0;32m   1066\u001b[0m \u001b[1;33m\u001b[0m\u001b[0m\n\u001b[0;32m   1067\u001b[0m         \u001b[1;32mif\u001b[0m \u001b[1;32mnot\u001b[0m \u001b[0mnp\u001b[0m\u001b[1;33m.\u001b[0m\u001b[0misfinite\u001b[0m\u001b[1;33m(\u001b[0m\u001b[0marr\u001b[0m\u001b[1;33m)\u001b[0m\u001b[1;33m.\u001b[0m\u001b[0mall\u001b[0m\u001b[1;33m(\u001b[0m\u001b[1;33m)\u001b[0m\u001b[1;33m:\u001b[0m\u001b[1;33m\u001b[0m\u001b[1;33m\u001b[0m\u001b[0m\n\u001b[1;32m-> 1068\u001b[1;33m             \u001b[1;32mraise\u001b[0m \u001b[0mValueError\u001b[0m\u001b[1;33m(\u001b[0m\u001b[1;34m\"Cannot convert non-finite values (NA or inf) to integer\"\u001b[0m\u001b[1;33m)\u001b[0m\u001b[1;33m\u001b[0m\u001b[1;33m\u001b[0m\u001b[0m\n\u001b[0m\u001b[0;32m   1069\u001b[0m \u001b[1;33m\u001b[0m\u001b[0m\n\u001b[0;32m   1070\u001b[0m     \u001b[1;32melif\u001b[0m \u001b[0mis_object_dtype\u001b[0m\u001b[1;33m(\u001b[0m\u001b[0marr\u001b[0m\u001b[1;33m)\u001b[0m\u001b[1;33m:\u001b[0m\u001b[1;33m\u001b[0m\u001b[1;33m\u001b[0m\u001b[0m\n",
      "\u001b[1;31mValueError\u001b[0m: Cannot convert non-finite values (NA or inf) to integer"
     ]
    }
   ],
   "source": [
    "data['Rank'].astype('int')"
   ]
  },
  {
   "cell_type": "code",
   "execution_count": 6,
   "id": "82dc1c9a",
   "metadata": {},
   "outputs": [
    {
     "ename": "KeyError",
     "evalue": "'Rank'",
     "output_type": "error",
     "traceback": [
      "\u001b[1;31m---------------------------------------------------------------------------\u001b[0m",
      "\u001b[1;31mKeyError\u001b[0m                                  Traceback (most recent call last)",
      "\u001b[1;32m~\\anaconda3\\lib\\site-packages\\pandas\\core\\indexes\\base.py\u001b[0m in \u001b[0;36mget_loc\u001b[1;34m(self, key, method, tolerance)\u001b[0m\n\u001b[0;32m   3079\u001b[0m             \u001b[1;32mtry\u001b[0m\u001b[1;33m:\u001b[0m\u001b[1;33m\u001b[0m\u001b[1;33m\u001b[0m\u001b[0m\n\u001b[1;32m-> 3080\u001b[1;33m                 \u001b[1;32mreturn\u001b[0m \u001b[0mself\u001b[0m\u001b[1;33m.\u001b[0m\u001b[0m_engine\u001b[0m\u001b[1;33m.\u001b[0m\u001b[0mget_loc\u001b[0m\u001b[1;33m(\u001b[0m\u001b[0mcasted_key\u001b[0m\u001b[1;33m)\u001b[0m\u001b[1;33m\u001b[0m\u001b[1;33m\u001b[0m\u001b[0m\n\u001b[0m\u001b[0;32m   3081\u001b[0m             \u001b[1;32mexcept\u001b[0m \u001b[0mKeyError\u001b[0m \u001b[1;32mas\u001b[0m \u001b[0merr\u001b[0m\u001b[1;33m:\u001b[0m\u001b[1;33m\u001b[0m\u001b[1;33m\u001b[0m\u001b[0m\n",
      "\u001b[1;32mpandas\\_libs\\index.pyx\u001b[0m in \u001b[0;36mpandas._libs.index.IndexEngine.get_loc\u001b[1;34m()\u001b[0m\n",
      "\u001b[1;32mpandas\\_libs\\index.pyx\u001b[0m in \u001b[0;36mpandas._libs.index.IndexEngine.get_loc\u001b[1;34m()\u001b[0m\n",
      "\u001b[1;32mpandas\\_libs\\hashtable_class_helper.pxi\u001b[0m in \u001b[0;36mpandas._libs.hashtable.PyObjectHashTable.get_item\u001b[1;34m()\u001b[0m\n",
      "\u001b[1;32mpandas\\_libs\\hashtable_class_helper.pxi\u001b[0m in \u001b[0;36mpandas._libs.hashtable.PyObjectHashTable.get_item\u001b[1;34m()\u001b[0m\n",
      "\u001b[1;31mKeyError\u001b[0m: 'Rank'",
      "\nThe above exception was the direct cause of the following exception:\n",
      "\u001b[1;31mKeyError\u001b[0m                                  Traceback (most recent call last)",
      "\u001b[1;32m<ipython-input-6-ac7601eff260>\u001b[0m in \u001b[0;36m<module>\u001b[1;34m\u001b[0m\n\u001b[1;32m----> 1\u001b[1;33m \u001b[0mdata\u001b[0m\u001b[1;33m[\u001b[0m\u001b[1;34m'Rank'\u001b[0m\u001b[1;33m]\u001b[0m\u001b[1;33m.\u001b[0m\u001b[0mvalue_counts\u001b[0m\u001b[1;33m(\u001b[0m\u001b[1;33m)\u001b[0m\u001b[1;33m\u001b[0m\u001b[1;33m\u001b[0m\u001b[0m\n\u001b[0m",
      "\u001b[1;32m~\\anaconda3\\lib\\site-packages\\pandas\\core\\frame.py\u001b[0m in \u001b[0;36m__getitem__\u001b[1;34m(self, key)\u001b[0m\n\u001b[0;32m   3022\u001b[0m             \u001b[1;32mif\u001b[0m \u001b[0mself\u001b[0m\u001b[1;33m.\u001b[0m\u001b[0mcolumns\u001b[0m\u001b[1;33m.\u001b[0m\u001b[0mnlevels\u001b[0m \u001b[1;33m>\u001b[0m \u001b[1;36m1\u001b[0m\u001b[1;33m:\u001b[0m\u001b[1;33m\u001b[0m\u001b[1;33m\u001b[0m\u001b[0m\n\u001b[0;32m   3023\u001b[0m                 \u001b[1;32mreturn\u001b[0m \u001b[0mself\u001b[0m\u001b[1;33m.\u001b[0m\u001b[0m_getitem_multilevel\u001b[0m\u001b[1;33m(\u001b[0m\u001b[0mkey\u001b[0m\u001b[1;33m)\u001b[0m\u001b[1;33m\u001b[0m\u001b[1;33m\u001b[0m\u001b[0m\n\u001b[1;32m-> 3024\u001b[1;33m             \u001b[0mindexer\u001b[0m \u001b[1;33m=\u001b[0m \u001b[0mself\u001b[0m\u001b[1;33m.\u001b[0m\u001b[0mcolumns\u001b[0m\u001b[1;33m.\u001b[0m\u001b[0mget_loc\u001b[0m\u001b[1;33m(\u001b[0m\u001b[0mkey\u001b[0m\u001b[1;33m)\u001b[0m\u001b[1;33m\u001b[0m\u001b[1;33m\u001b[0m\u001b[0m\n\u001b[0m\u001b[0;32m   3025\u001b[0m             \u001b[1;32mif\u001b[0m \u001b[0mis_integer\u001b[0m\u001b[1;33m(\u001b[0m\u001b[0mindexer\u001b[0m\u001b[1;33m)\u001b[0m\u001b[1;33m:\u001b[0m\u001b[1;33m\u001b[0m\u001b[1;33m\u001b[0m\u001b[0m\n\u001b[0;32m   3026\u001b[0m                 \u001b[0mindexer\u001b[0m \u001b[1;33m=\u001b[0m \u001b[1;33m[\u001b[0m\u001b[0mindexer\u001b[0m\u001b[1;33m]\u001b[0m\u001b[1;33m\u001b[0m\u001b[1;33m\u001b[0m\u001b[0m\n",
      "\u001b[1;32m~\\anaconda3\\lib\\site-packages\\pandas\\core\\indexes\\base.py\u001b[0m in \u001b[0;36mget_loc\u001b[1;34m(self, key, method, tolerance)\u001b[0m\n\u001b[0;32m   3080\u001b[0m                 \u001b[1;32mreturn\u001b[0m \u001b[0mself\u001b[0m\u001b[1;33m.\u001b[0m\u001b[0m_engine\u001b[0m\u001b[1;33m.\u001b[0m\u001b[0mget_loc\u001b[0m\u001b[1;33m(\u001b[0m\u001b[0mcasted_key\u001b[0m\u001b[1;33m)\u001b[0m\u001b[1;33m\u001b[0m\u001b[1;33m\u001b[0m\u001b[0m\n\u001b[0;32m   3081\u001b[0m             \u001b[1;32mexcept\u001b[0m \u001b[0mKeyError\u001b[0m \u001b[1;32mas\u001b[0m \u001b[0merr\u001b[0m\u001b[1;33m:\u001b[0m\u001b[1;33m\u001b[0m\u001b[1;33m\u001b[0m\u001b[0m\n\u001b[1;32m-> 3082\u001b[1;33m                 \u001b[1;32mraise\u001b[0m \u001b[0mKeyError\u001b[0m\u001b[1;33m(\u001b[0m\u001b[0mkey\u001b[0m\u001b[1;33m)\u001b[0m \u001b[1;32mfrom\u001b[0m \u001b[0merr\u001b[0m\u001b[1;33m\u001b[0m\u001b[1;33m\u001b[0m\u001b[0m\n\u001b[0m\u001b[0;32m   3083\u001b[0m \u001b[1;33m\u001b[0m\u001b[0m\n\u001b[0;32m   3084\u001b[0m         \u001b[1;32mif\u001b[0m \u001b[0mtolerance\u001b[0m \u001b[1;32mis\u001b[0m \u001b[1;32mnot\u001b[0m \u001b[1;32mNone\u001b[0m\u001b[1;33m:\u001b[0m\u001b[1;33m\u001b[0m\u001b[1;33m\u001b[0m\u001b[0m\n",
      "\u001b[1;31mKeyError\u001b[0m: 'Rank'"
     ]
    }
   ],
   "source": [
    "data['Rank'].value_counts()"
   ]
  },
  {
   "cell_type": "code",
   "execution_count": null,
   "id": "b7404b1e",
   "metadata": {},
   "outputs": [],
   "source": []
  }
 ],
 "metadata": {
  "kernelspec": {
   "display_name": "Python 3",
   "language": "python",
   "name": "python3"
  },
  "language_info": {
   "codemirror_mode": {
    "name": "ipython",
    "version": 3
   },
   "file_extension": ".py",
   "mimetype": "text/x-python",
   "name": "python",
   "nbconvert_exporter": "python",
   "pygments_lexer": "ipython3",
   "version": "3.8.8"
  }
 },
 "nbformat": 4,
 "nbformat_minor": 5
}
